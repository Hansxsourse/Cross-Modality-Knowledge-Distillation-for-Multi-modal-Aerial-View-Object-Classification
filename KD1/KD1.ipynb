{
 "cells": [
  {
   "cell_type": "code",
   "execution_count": 1,
   "metadata": {},
   "outputs": [],
   "source": [
    "# from numba import jit\n",
    "# from tqdm import trange\n",
    "# import pandas as pd\n",
    "# eo_df = pd.read_csv(\"/mnt/sda1/cvpr21/Classification/Aerial-View-Object-Classification/data/train_EO.csv\")\n",
    "# eo_df = eo_df.sort_values(by='img_name')\n",
    "\n",
    "# sar_df = pd.read_csv(\"/mnt/sda1/cvpr21/Classification/Aerial-View-Object-Classification/data/train_SAR.csv\") \n",
    "# sar_df = sar_df.sort_values(by='img_name')\n",
    "\n",
    "# @jit()\n",
    "# def equal():\n",
    "#     notsame_image = 0\n",
    "#     notsame_label = 0\n",
    "#     t = trange(len(sar_df))\n",
    "    \n",
    "\n",
    "    \n",
    "#     for i in t:\n",
    "#         t.set_postfix({'nums of not same label:': notsame_label})\n",
    "#         eo_label = next(eo_df.iterrows())[1].class_id\n",
    "#         sar_label = next(sar_df.iterrows())[1].class_id\n",
    "#     #     if not eo_image == sar_image:\n",
    "#     #         notsame_image += 1\n",
    "#         if not eo_label == sar_label:\n",
    "#             notsame_label += 1\n",
    "# #         notsame_label += 1\n",
    "# #     print(\"nums of not same imageid:\", notsame_image)\n",
    "#         #print(\"nums of not same label:\", notsame_label)\n",
    "\n",
    "# equal()\n",
    "\n",
    "    "
   ]
  },
  {
   "cell_type": "code",
   "execution_count": 2,
   "metadata": {},
   "outputs": [],
   "source": [
    "from __future__ import print_function, division\n",
    "\n",
    "import torch\n",
    "import math\n",
    "import torch.nn as nn\n",
    "import torch.optim as optim\n",
    "from torch.optim import lr_scheduler\n",
    "import numpy as np\n",
    "import torchvision\n",
    "from torchvision import datasets, models, transforms\n",
    "import matplotlib.pyplot as plt\n",
    "import time\n",
    "import os\n",
    "import copy\n",
    "from torch.autograd import Variable\n",
    "import random\n",
    "import torch.nn.functional as F\n",
    "\n",
    "exp_num = \"45_kd_sar-teacher_eo-student_pretrain-on-sar\"\n"
   ]
  },
  {
   "cell_type": "code",
   "execution_count": 3,
   "metadata": {},
   "outputs": [],
   "source": [
    "def seed_everything(seed):\n",
    "    random.seed(seed)\n",
    "    os.environ['PYTHONHASHSEED'] = str(seed)\n",
    "    np.random.seed(seed)\n",
    "    torch.manual_seed(seed)\n",
    "    torch.cuda.manual_seed(seed)\n",
    "    torch.backends.cudnn.deterministic = True\n",
    "#     tf.set_random_seed(seed)\n",
    "\n",
    "seed = 2019\n",
    "seed_everything(seed)"
   ]
  },
  {
   "cell_type": "code",
   "execution_count": 4,
   "metadata": {},
   "outputs": [],
   "source": [
    "#https://github.com/4uiiurz1/pytorch-auto-augment\n",
    "\n",
    "import random\n",
    "import numpy as np\n",
    "import scipy\n",
    "from scipy import ndimage\n",
    "from PIL import Image, ImageEnhance, ImageOps\n",
    "\n",
    "\n",
    "class AutoAugment(object):\n",
    "    def __init__(self):\n",
    "        self.policies = [\n",
    "            ['Invert', 0.1, 7, 'Contrast', 0.2, 6],\n",
    "            ['Rotate', 0.7, 2, 'TranslateX', 0.3, 9],\n",
    "            ['Sharpness', 0.8, 1, 'Sharpness', 0.9, 3],\n",
    "            ['ShearY', 0.5, 8, 'TranslateY', 0.7, 9],\n",
    "            ['AutoContrast', 0.5, 8, 'Equalize', 0.9, 2],\n",
    "            ['ShearY', 0.2, 7, 'Posterize', 0.3, 7],\n",
    "            ['Color', 0.4, 3, 'Brightness', 0.6, 7],\n",
    "            ['Sharpness', 0.3, 9, 'Brightness', 0.7, 9],\n",
    "            ['Equalize', 0.6, 5, 'Equalize', 0.5, 1],\n",
    "            ['Contrast', 0.6, 7, 'Sharpness', 0.6, 5],\n",
    "            ['Color', 0.7, 7, 'TranslateX', 0.5, 8],\n",
    "            ['Equalize', 0.3, 7, 'AutoContrast', 0.4, 8],\n",
    "            ['TranslateY', 0.4, 3, 'Sharpness', 0.2, 6],\n",
    "            ['Brightness', 0.9, 6, 'Color', 0.2, 8],\n",
    "            ['Solarize', 0.5, 2, 'Invert', 0.0, 3],\n",
    "            ['Equalize', 0.2, 0, 'AutoContrast', 0.6, 0],\n",
    "            ['Equalize', 0.2, 8, 'Equalize', 0.6, 4],\n",
    "            ['Color', 0.9, 9, 'Equalize', 0.6, 6],\n",
    "            ['AutoContrast', 0.8, 4, 'Solarize', 0.2, 8],\n",
    "            ['Brightness', 0.1, 3, 'Color', 0.7, 0],\n",
    "            ['Solarize', 0.4, 5, 'AutoContrast', 0.9, 3],\n",
    "            ['TranslateY', 0.9, 9, 'TranslateY', 0.7, 9],\n",
    "            ['AutoContrast', 0.9, 2, 'Solarize', 0.8, 3],\n",
    "            ['Equalize', 0.8, 8, 'Invert', 0.1, 3],\n",
    "            ['TranslateY', 0.7, 9, 'AutoContrast', 0.9, 1],\n",
    "        ]\n",
    "\n",
    "    def __call__(self, img):\n",
    "        img = apply_policy(img, self.policies[random.randrange(len(self.policies))])\n",
    "        return img\n",
    "\n",
    "\n",
    "operations = {\n",
    "    'ShearX': lambda img, magnitude: shear_x(img, magnitude),\n",
    "    'ShearY': lambda img, magnitude: shear_y(img, magnitude),\n",
    "    'TranslateX': lambda img, magnitude: translate_x(img, magnitude),\n",
    "    'TranslateY': lambda img, magnitude: translate_y(img, magnitude),\n",
    "    'Rotate': lambda img, magnitude: rotate(img, magnitude),\n",
    "    'AutoContrast': lambda img, magnitude: auto_contrast(img, magnitude),\n",
    "    'Invert': lambda img, magnitude: invert(img, magnitude),\n",
    "    'Equalize': lambda img, magnitude: equalize(img, magnitude),\n",
    "    'Solarize': lambda img, magnitude: solarize(img, magnitude),\n",
    "    'Posterize': lambda img, magnitude: posterize(img, magnitude),\n",
    "    'Contrast': lambda img, magnitude: contrast(img, magnitude),\n",
    "    'Color': lambda img, magnitude: color(img, magnitude),\n",
    "    'Brightness': lambda img, magnitude: brightness(img, magnitude),\n",
    "    'Sharpness': lambda img, magnitude: sharpness(img, magnitude),\n",
    "    'Cutout': lambda img, magnitude: cutout(img, magnitude),\n",
    "}\n",
    "\n",
    "\n",
    "def apply_policy(img, policy):\n",
    "    if random.random() < policy[1]:\n",
    "        img = operations[policy[0]](img, policy[2])\n",
    "    if random.random() < policy[4]:\n",
    "        img = operations[policy[3]](img, policy[5])\n",
    "\n",
    "    return img\n",
    "\n",
    "\n",
    "def transform_matrix_offset_center(matrix, x, y):\n",
    "    o_x = float(x) / 2 + 0.5\n",
    "    o_y = float(y) / 2 + 0.5\n",
    "    offset_matrix = np.array([[1, 0, o_x], [0, 1, o_y], [0, 0, 1]])\n",
    "    reset_matrix = np.array([[1, 0, -o_x], [0, 1, -o_y], [0, 0, 1]])\n",
    "    transform_matrix = offset_matrix @ matrix @ reset_matrix\n",
    "    return transform_matrix\n",
    "\n",
    "\n",
    "def shear_x(img, magnitude):\n",
    "    img = np.array(img)\n",
    "    magnitudes = np.linspace(-0.3, 0.3, 11)\n",
    "\n",
    "    transform_matrix = np.array([[1, random.uniform(magnitudes[magnitude], magnitudes[magnitude+1]), 0],\n",
    "                                 [0, 1, 0],\n",
    "                                 [0, 0, 1]])\n",
    "    transform_matrix = transform_matrix_offset_center(transform_matrix, img.shape[0], img.shape[1])\n",
    "    affine_matrix = transform_matrix[:2, :2]\n",
    "    offset = transform_matrix[:2, 2]\n",
    "    img = np.stack([ndimage.interpolation.affine_transform(\n",
    "                    img[:, :, c],\n",
    "                    affine_matrix,\n",
    "                    offset) for c in range(img.shape[2])], axis=2)\n",
    "    img = Image.fromarray(img)\n",
    "    return img\n",
    "\n",
    "\n",
    "def shear_y(img, magnitude):\n",
    "    img = np.array(img)\n",
    "    magnitudes = np.linspace(-0.3, 0.3, 11)\n",
    "\n",
    "    transform_matrix = np.array([[1, 0, 0],\n",
    "                                 [random.uniform(magnitudes[magnitude], magnitudes[magnitude+1]), 1, 0],\n",
    "                                 [0, 0, 1]])\n",
    "    transform_matrix = transform_matrix_offset_center(transform_matrix, img.shape[0], img.shape[1])\n",
    "    affine_matrix = transform_matrix[:2, :2]\n",
    "    offset = transform_matrix[:2, 2]\n",
    "    img = np.stack([ndimage.interpolation.affine_transform(\n",
    "                    img[:, :, c],\n",
    "                    affine_matrix,\n",
    "                    offset) for c in range(img.shape[2])], axis=2)\n",
    "    img = Image.fromarray(img)\n",
    "    return img\n",
    "\n",
    "\n",
    "def translate_x(img, magnitude):\n",
    "    img = np.array(img)\n",
    "    magnitudes = np.linspace(-150/331, 150/331, 11)\n",
    "\n",
    "    transform_matrix = np.array([[1, 0, 0],\n",
    "                                 [0, 1, img.shape[1]*random.uniform(magnitudes[magnitude], magnitudes[magnitude+1])],\n",
    "                                 [0, 0, 1]])\n",
    "    transform_matrix = transform_matrix_offset_center(transform_matrix, img.shape[0], img.shape[1])\n",
    "    affine_matrix = transform_matrix[:2, :2]\n",
    "    offset = transform_matrix[:2, 2]\n",
    "    img = np.stack([ndimage.interpolation.affine_transform(\n",
    "                    img[:, :, c],\n",
    "                    affine_matrix,\n",
    "                    offset) for c in range(img.shape[2])], axis=2)\n",
    "    img = Image.fromarray(img)\n",
    "    return img\n",
    "\n",
    "\n",
    "def translate_y(img, magnitude):\n",
    "    img = np.array(img)\n",
    "    magnitudes = np.linspace(-150/331, 150/331, 11)\n",
    "\n",
    "    transform_matrix = np.array([[1, 0, img.shape[0]*random.uniform(magnitudes[magnitude], magnitudes[magnitude+1])],\n",
    "                                 [0, 1, 0],\n",
    "                                 [0, 0, 1]])\n",
    "    transform_matrix = transform_matrix_offset_center(transform_matrix, img.shape[0], img.shape[1])\n",
    "    affine_matrix = transform_matrix[:2, :2]\n",
    "    offset = transform_matrix[:2, 2]\n",
    "    img = np.stack([ndimage.interpolation.affine_transform(\n",
    "                    img[:, :, c],\n",
    "                    affine_matrix,\n",
    "                    offset) for c in range(img.shape[2])], axis=2)\n",
    "    img = Image.fromarray(img)\n",
    "    return img\n",
    "\n",
    "\n",
    "def rotate(img, magnitude):\n",
    "    img = np.array(img)\n",
    "    magnitudes = np.linspace(-30, 30, 11)\n",
    "    theta = np.deg2rad(random.uniform(magnitudes[magnitude], magnitudes[magnitude+1]))\n",
    "    transform_matrix = np.array([[np.cos(theta), -np.sin(theta), 0],\n",
    "                                 [np.sin(theta), np.cos(theta), 0],\n",
    "                                 [0, 0, 1]])\n",
    "    transform_matrix = transform_matrix_offset_center(transform_matrix, img.shape[0], img.shape[1])\n",
    "    affine_matrix = transform_matrix[:2, :2]\n",
    "    offset = transform_matrix[:2, 2]\n",
    "    img = np.stack([ndimage.interpolation.affine_transform(\n",
    "                    img[:, :, c],\n",
    "                    affine_matrix,\n",
    "                    offset) for c in range(img.shape[2])], axis=2)\n",
    "    img = Image.fromarray(img)\n",
    "    return img\n",
    "\n",
    "\n",
    "def auto_contrast(img, magnitude):\n",
    "    img = ImageOps.autocontrast(img)\n",
    "    return img\n",
    "\n",
    "\n",
    "def invert(img, magnitude):\n",
    "    img = ImageOps.invert(img)\n",
    "    return img\n",
    "\n",
    "\n",
    "def equalize(img, magnitude):\n",
    "    img = ImageOps.equalize(img)\n",
    "    return img\n",
    "\n",
    "\n",
    "def solarize(img, magnitude):\n",
    "    magnitudes = np.linspace(0, 256, 11)\n",
    "    img = ImageOps.solarize(img, random.uniform(magnitudes[magnitude], magnitudes[magnitude+1]))\n",
    "    return img\n",
    "\n",
    "\n",
    "def posterize(img, magnitude):\n",
    "    magnitudes = np.linspace(4, 8, 11)\n",
    "    img = ImageOps.posterize(img, int(round(random.uniform(magnitudes[magnitude], magnitudes[magnitude+1]))))\n",
    "    return img\n",
    "\n",
    "\n",
    "def contrast(img, magnitude):\n",
    "    magnitudes = np.linspace(0.1, 1.9, 11)\n",
    "    img = ImageEnhance.Contrast(img).enhance(random.uniform(magnitudes[magnitude], magnitudes[magnitude+1]))\n",
    "    return img\n",
    "\n",
    "\n",
    "def color(img, magnitude):\n",
    "    magnitudes = np.linspace(0.1, 1.9, 11)\n",
    "    img = ImageEnhance.Color(img).enhance(random.uniform(magnitudes[magnitude], magnitudes[magnitude+1]))\n",
    "    return img\n",
    "\n",
    "\n",
    "def brightness(img, magnitude):\n",
    "    magnitudes = np.linspace(0.1, 1.9, 11)\n",
    "    img = ImageEnhance.Brightness(img).enhance(random.uniform(magnitudes[magnitude], magnitudes[magnitude+1]))\n",
    "    return img\n",
    "\n",
    "\n",
    "def sharpness(img, magnitude):\n",
    "    magnitudes = np.linspace(0.1, 1.9, 11)\n",
    "    img = ImageEnhance.Sharpness(img).enhance(random.uniform(magnitudes[magnitude], magnitudes[magnitude+1]))\n",
    "    return img\n",
    "\n",
    "\n",
    "def cutout(org_img, magnitude=None):\n",
    "    img = np.array(img)\n",
    "\n",
    "    magnitudes = np.linspace(0, 60/331, 11)\n",
    "\n",
    "    img = np.copy(org_img)\n",
    "    mask_val = img.mean()\n",
    "\n",
    "    if magnitude is None:\n",
    "        mask_size = 16\n",
    "    else:\n",
    "        mask_size = int(round(img.shape[0]*random.uniform(magnitudes[magnitude], magnitudes[magnitude+1])))\n",
    "    top = np.random.randint(0 - mask_size//2, img.shape[0] - mask_size)\n",
    "    left = np.random.randint(0 - mask_size//2, img.shape[1] - mask_size)\n",
    "    bottom = top + mask_size\n",
    "    right = left + mask_size\n",
    "\n",
    "    if top < 0:\n",
    "        top = 0\n",
    "    if left < 0:\n",
    "        left = 0\n",
    "\n",
    "    img[top:bottom, left:right, :].fill(mask_val)\n",
    "\n",
    "    img = Image.fromarray(img)\n",
    "\n",
    "    return img\n",
    "\n",
    "\n",
    "\n",
    "class Cutout(object):\n",
    "    def __init__(self, length=16):\n",
    "        self.length = length\n",
    "\n",
    "    def __call__(self, img):\n",
    "        img = np.array(img)\n",
    "\n",
    "        mask_val = img.mean()\n",
    "\n",
    "        top = np.random.randint(0 - self.length//2, img.shape[0] - self.length)\n",
    "        left = np.random.randint(0 - self.length//2, img.shape[1] - self.length)\n",
    "        bottom = top + self.length\n",
    "        right = left + self.length\n",
    "\n",
    "        top = 0 if top < 0 else top\n",
    "        left = 0 if left < 0 else top\n",
    "\n",
    "        img[top:bottom, left:right, :] = mask_val\n",
    "\n",
    "        img = Image.fromarray(img)\n",
    "\n",
    "        return img"
   ]
  },
  {
   "cell_type": "markdown",
   "metadata": {},
   "source": [
    "### MIXUP"
   ]
  },
  {
   "cell_type": "code",
   "execution_count": 5,
   "metadata": {},
   "outputs": [],
   "source": [
    "alpha_ = 0.4\n",
    "\n",
    "\n",
    "# def mixup_data(x, y, alpha=alpha_, use_cuda=True):\n",
    "#     if alpha > 0:\n",
    "#         lam = np.random.beta(alpha, alpha)\n",
    "#     else:\n",
    "#         lam = 1\n",
    "\n",
    "#     batch_size = x.size()[0]\n",
    "#     if use_cuda:\n",
    "#         index = torch.randperm(batch_size).cuda()\n",
    "#     else:\n",
    "#         index = torch.randperm(batch_size)\n",
    "\n",
    "#     mixed_x = lam * x + (1 - lam) * x[index, :]\n",
    "#     y_a, y_b = y, y[index]\n",
    "#     return mixed_x, y_a, y_b, lam\n",
    "\n",
    "# def mixup_criterion(criterion, pred, y_a, y_b, lam):\n",
    "#     return lam * criterion(pred.float().cuda(), y_a.float().cuda()) + (1 - lam) * criterion(pred.float().cuda(), y_b.float().cuda())\n",
    "\n",
    "\n",
    "def mixup_data(x, y, alpha=1.0, use_cuda=True):\n",
    "    '''Returns mixed inputs, pairs of targets, and lambda'''\n",
    "    if alpha > 0:\n",
    "        lam = np.random.beta(alpha, alpha)\n",
    "    else:\n",
    "        lam = 1\n",
    "\n",
    "    batch_size = x.size()[0]\n",
    "    if use_cuda:\n",
    "        index = torch.randperm(batch_size).cuda()\n",
    "    else:\n",
    "        index = torch.randperm(batch_size)\n",
    "\n",
    "    mixed_x = lam * x + (1 - lam) * x[index, :]\n",
    "#     print(y)\n",
    "    y_a, y_b = y, y[index]\n",
    "    \n",
    "    return mixed_x, y_a, y_b, lam\n",
    "\n",
    "\n",
    "def mixup_criterion(criterion, pred, y_a, y_b, lam):\n",
    "    return lam * criterion(pred, y_a) + (1 - lam) * criterion(pred, y_b)"
   ]
  },
  {
   "cell_type": "code",
   "execution_count": 6,
   "metadata": {},
   "outputs": [],
   "source": [
    "class ConcatDataset(torch.utils.data.Dataset):\n",
    "    def __init__(self, *datasets):\n",
    "        self.datasets = datasets\n",
    "\n",
    "    def __getitem__(self, i):\n",
    "        return tuple(d[i] for d in self.datasets)\n",
    "\n",
    "    def __len__(self):\n",
    "        return min(len(d) for d in self.datasets)"
   ]
  },
  {
   "cell_type": "code",
   "execution_count": 7,
   "metadata": {},
   "outputs": [],
   "source": [
    "\n",
    "\n",
    "plt.ion()   # interactive mode\n",
    "\n",
    "EO_data_transforms = {\n",
    "    'Training': transforms.Compose([\n",
    "        transforms.Grayscale(num_output_channels=3),\n",
    "        transforms.Resize((30,30)),\n",
    "        AutoAugment(),\n",
    "        Cutout(),\n",
    "#         transforms.RandomRotation(15,),\n",
    "#         transforms.RandomResizedCrop(30),\n",
    "#         transforms.RandomHorizontalFlip(),\n",
    "#         transforms.RandomVerticalFlip(),\n",
    "        transforms.Grayscale(num_output_channels=1),\n",
    "        transforms.ToTensor(),\n",
    "        transforms.Normalize([0.2913437], [0.12694514])\n",
    "        \n",
    "        \n",
    "        #transforms.Normalize(mean=[0.485, 0.456, 0.406], std=[0.229, 0.224, 0.225]),\n",
    "#         transforms.Lambda(lambda x: x.repeat(3, 1, 1)),\n",
    "        #transforms.Normalize(mean=[0.507, 0.487, 0.441], std=[0.267, 0.256, 0.276])\n",
    "    ]),\n",
    "    'Test': transforms.Compose([\n",
    "        transforms.Grayscale(num_output_channels=1),\n",
    "        transforms.Resize(30),\n",
    "        transforms.ToTensor(),\n",
    "        transforms.Normalize([0.2913437], [0.12694514])\n",
    "        #transforms.Normalize(mean=[0.485, 0.456, 0.406], std=[0.229, 0.224, 0.225]),\n",
    "#         transforms.Lambda(lambda x: x.repeat(3, 1, 1)),\n",
    "       # transforms.Normalize(mean=[0.507, 0.487, 0.441], std=[0.267, 0.256, 0.276])\n",
    "    ]),\n",
    "    'valid_EO': transforms.Compose([\n",
    "        transforms.Grayscale(num_output_channels=1),\n",
    "        transforms.Resize((30,30)),\n",
    "#         AutoAugment(),\n",
    "        \n",
    "#         transforms.RandomRotation(15,),\n",
    "#         transforms.RandomResizedCrop(48),\n",
    "#         transforms.RandomHorizontalFlip(),\n",
    "#         transforms.RandomVerticalFlip(),\n",
    "        transforms.ToTensor(),\n",
    "        transforms.Normalize([0.2913437], [0.12694514])\n",
    "        \n",
    "#         transforms.Grayscale(num_output_channels=1),\n",
    "#         transforms.Resize(48),\n",
    "#         transforms.ToTensor(),\n",
    "#         transforms.Normalize([0.5], [0.5])\n",
    "#         transforms.Lambda(lambda x: x.repeat(3, 1, 1)),\n",
    "       # transforms.Normalize(mean=[0.507, 0.487, 0.441], std=[0.267, 0.256, 0.276])\n",
    "    ]),\n",
    "}\n",
    "\n",
    "\n",
    "\n",
    "# Data augmentation and normalization for training\n",
    "# Just normalization for validation\n",
    "data_transforms = {\n",
    "    'Training': transforms.Compose([\n",
    "        transforms.Grayscale(num_output_channels=1),\n",
    "        transforms.Resize((52,52)),\n",
    "        transforms.RandomRotation(15,),\n",
    "        transforms.RandomResizedCrop(48),\n",
    "        transforms.RandomHorizontalFlip(),\n",
    "        transforms.RandomVerticalFlip(),\n",
    "        transforms.ToTensor(),\n",
    "        transforms.Normalize([0.4062625], [0.12694514])\n",
    "        #transforms.Normalize(mean=[0.485, 0.456, 0.406], std=[0.229, 0.224, 0.225]),\n",
    "#         transforms.Lambda(lambda x: x.repeat(3, 1, 1)),\n",
    "        #transforms.Normalize(mean=[0.507, 0.487, 0.441], std=[0.267, 0.256, 0.276])\n",
    "    ]),\n",
    "    'Test': transforms.Compose([\n",
    "        transforms.Grayscale(num_output_channels=1),\n",
    "        transforms.Resize(48),\n",
    "        transforms.ToTensor(),\n",
    "        transforms.Normalize([0.4062625], [0.12694514])\n",
    "        #transforms.Normalize(mean=[0.485, 0.456, 0.406], std=[0.229, 0.224, 0.225]),\n",
    "#         transforms.Lambda(lambda x: x.repeat(3, 1, 1)),\n",
    "       # transforms.Normalize(mean=[0.507, 0.487, 0.441], std=[0.267, 0.256, 0.276])\n",
    "    ]),\n",
    "    'valid': transforms.Compose([\n",
    "        transforms.Grayscale(num_output_channels=1),\n",
    "        transforms.Resize((52,52)),\n",
    "        transforms.RandomRotation(15,),\n",
    "        transforms.RandomResizedCrop(48),\n",
    "        transforms.RandomHorizontalFlip(),\n",
    "        transforms.RandomVerticalFlip(),\n",
    "        transforms.ToTensor(),\n",
    "        transforms.Normalize([0.4062625], [0.12694514])\n",
    "        \n",
    "#         transforms.Grayscale(num_output_channels=1),\n",
    "#         transforms.Resize(48),\n",
    "#         transforms.ToTensor(),\n",
    "#         transforms.Normalize([0.5], [0.5])\n",
    "#         transforms.Lambda(lambda x: x.repeat(3, 1, 1)),\n",
    "       # transforms.Normalize(mean=[0.507, 0.487, 0.441], std=[0.267, 0.256, 0.276])\n",
    "    ]),\n",
    "}\n",
    "\n",
    "\n",
    "# data_dir = '/mnt/sda1/cvpr21/Classification/ram'\n",
    "# EO_image_datasets = {x: datasets.ImageFolder(os.path.join(data_dir, x),\n",
    "#                                           EO_data_transforms[x])\n",
    "#                   for x in ['Training', 'Test']}\n",
    "# EO_dataloaders = {x: torch.utils.data.DataLoader(EO_image_datasets[x], batch_size=256,\n",
    "#                                              shuffle=True, num_workers=64, pin_memory=True)\n",
    "#               for x in ['Training', 'Test']}\n",
    "# EO_dataset_sizes = {x: len(EO_image_datasets[x]) for x in ['Training', 'Test']}\n",
    "# EO_class_names = EO_image_datasets['Training'].classes\n",
    "\n",
    "\n",
    "\n",
    "# image_datasets = {x: datasets.ImageFolder(os.path.join(data_dir, x),\n",
    "#                                           data_transforms[x])\n",
    "#                   for x in ['Training', 'Test']}\n",
    "\n",
    "# combine_dataset = ConcatDataset(EO_image_datasets, image_datasets)\n",
    "# dataloaders = {x: torch.utils.data.DataLoader(combine_dataset[x], batch_size=256,\n",
    "#                                              shuffle=True, num_workers=64, pin_memory=True)\n",
    "#               for x in ['Training', 'Test']}\n",
    "# dataset_sizes = {x: len(image_datasets[x]) for x in ['Training', 'Test']}\n",
    "# class_names = image_datasets['Training'].classes\n",
    "\n",
    "device = torch.device(\"cuda:0\" if torch.cuda.is_available() else \"cpu\")\n",
    "\n",
    "# def imshow(inp, title=None):\n",
    "#     \"\"\"Imshow for Tensor.\"\"\"\n",
    "#     inp = inp.numpy().transpose((1, 2, 0))\n",
    "# #     mean = np.array([0.1786, 0.4739, 0.5329])\n",
    "# #     std = np.array([[0.0632, 0.1361, 0.0606]])\n",
    "# #     inp = std * inp + mean\n",
    "#     inp = np.clip(inp, 0, 1)\n",
    "#     plt.imshow(inp)\n",
    "#     if title is not None:\n",
    "#         plt.title(title)\n",
    "#     plt.pause(0.001)  # pause a bit so that plots are updated\n",
    "\n",
    "\n",
    "    \n",
    "# # Get a batch of training data\n",
    "# EO_inputs, EO_classes = next(iter(EO_dataloaders['Training']))\n",
    "\n",
    "\n",
    "# inputs, classes, k ,_= next(iter(dataloaders))\n",
    "\n",
    "\n",
    "\n",
    "\n",
    "\n",
    "\n",
    "# # Make a grid from batch\n",
    "# EO_out = torchvision.utils.make_grid(EO_inputs)\n",
    "\n",
    "# out = torchvision.utils.make_grid(inputs)\n",
    "# imshow(EO_out, title=[EO_class_names[x] for x in classes])\n",
    "\n",
    "# imshow(out, title=[class_names[x] for x in classes])"
   ]
  },
  {
   "cell_type": "code",
   "execution_count": 8,
   "metadata": {},
   "outputs": [],
   "source": [
    "from torch.utils import data\n",
    "from tqdm import tqdm\n",
    "from PIL import Image\n",
    "output_dim = 10\n",
    "\n",
    "class SAR_EO_Combine_Dataset(data.Dataset):\n",
    "    def __init__(self,df_sar,dirpath_sar,transform_sar,df_eo=None,dirpath_eo=None,transform_eo=None,test = False):\n",
    "        self.df_sar = df_sar\n",
    "        self.test = test\n",
    "        self.dirpath_sar = dirpath_sar\n",
    "        self.transform_sar = transform_sar\n",
    "        \n",
    "        self.df_eo = df_eo\n",
    "#         self.test = test\n",
    "        self.dirpath_eo = dirpath_eo\n",
    "        self.transform_eo = transform_eo\n",
    "        #image data \n",
    "#         if not self.test:\n",
    "#             self.image_arr = np.asarray(str(self.dirpath)+'/'+self.df.iloc[:, 0]+'.png')\n",
    "#         else:\n",
    "#             self.image_arr = np.asarray(str(self.dirpath)+'/'+self.df.iloc[:, 0])\n",
    "        \n",
    "#         #labels data\n",
    "#         if not self.test:\n",
    "#              self.label_df = self.df.iloc[:,1]\n",
    "        \n",
    "        # Calculate length of df\n",
    "        self.data_len = len(self.df_sar.index)\n",
    "\n",
    "    def __len__(self):\n",
    "        return self.data_len\n",
    "    \n",
    "    \n",
    "    def __getitem__(self, idx):\n",
    "        image_name_sar = self.df_sar.img_name[idx]\n",
    "        image_name_sar = os.path.join(self.dirpath_sar, image_name_sar)\n",
    "        img_sar = Image.open(image_name_sar)#.convert('RGB')\n",
    "        img_tensor_sar = self.transform_sar(img_sar)\n",
    "        \n",
    "        image_name_eo = self.df_eo.img_name[idx]\n",
    "        image_name_eo = os.path.join(self.dirpath_eo, image_name_eo)\n",
    "        img_eo = Image.open(image_name_eo)#.convert('RGB')\n",
    "        img_tensor_eo = self.transform_eo(img_eo)\n",
    "        \n",
    "#         image_name = self.df.img_name[idx]\n",
    "#         img = Image.open(image_name)#.convert('RGB')\n",
    "#         img_tensor = self.transform(img)\n",
    "        \n",
    "        \n",
    "        if not self.test:\n",
    "            image_labels = int(self.df_sar.class_id[idx])\n",
    "#             label_tensor = torch.zeros((1, output_dim))\n",
    "#             for label in image_labels.split():\n",
    "#                 label_tensor[0, int(label)] = 1\n",
    "            image_label = torch.tensor(image_labels,dtype= torch.long)\n",
    "            image_label = image_label.squeeze()\n",
    "            \n",
    "            image_labels_eo = int(self.df_eo.class_id[idx])\n",
    "#             label_tensor_eo = torch.zeros((1, output_dim))\n",
    "#             for label_eo in image_labels_eo.split():\n",
    "#                 label_tensor_eo[0, int(label_eo)] = 1\n",
    "            image_label_eo = torch.tensor(image_labels_eo,dtype= torch.long)\n",
    "            image_label_eo = image_label_eo.squeeze()\n",
    "#             print(image_label_eo)\n",
    "            \n",
    "            \n",
    "            \n",
    "            \n",
    "            return (img_tensor_sar,image_label), (img_tensor_eo, image_label_eo)\n",
    "        \n",
    "        return (img_tensor_sar)\n"
   ]
  },
  {
   "cell_type": "code",
   "execution_count": 9,
   "metadata": {},
   "outputs": [],
   "source": [
    "class SAR_EO_Combine_Dataset2(data.Dataset):\n",
    "    def __init__(self,df_sar,dirpath_sar,transform_sar,df_eo=None,dirpath_eo=None,transform_eo=None,test = False):\n",
    "        self.df_sar = df_sar\n",
    "        self.test = test\n",
    "        self.dirpath_sar = dirpath_sar\n",
    "        self.transform_sar = transform_sar\n",
    "        \n",
    "        self.df_eo = df_eo\n",
    "#         self.test = test\n",
    "        self.dirpath_eo = dirpath_eo\n",
    "        self.transform_eo = transform_eo\n",
    "        #image data \n",
    "#         if not self.test:\n",
    "#             self.image_arr = np.asarray(str(self.dirpath)+'/'+self.df.iloc[:, 0]+'.png')\n",
    "#         else:\n",
    "#             self.image_arr = np.asarray(str(self.dirpath)+'/'+self.df.iloc[:, 0])\n",
    "        \n",
    "#         #labels data\n",
    "#         if not self.test:\n",
    "#              self.label_df = self.df.iloc[:,1]\n",
    "        \n",
    "        # Calculate length of df\n",
    "        self.data_len = len(self.df_sar.index)\n",
    "\n",
    "    def __len__(self):\n",
    "        return self.data_len\n",
    "    \n",
    "    \n",
    "    def __getitem__(self, idx):\n",
    "        image_name_sar = self.df_sar.img_name[idx]\n",
    "        image_name_sar = os.path.join(self.dirpath_sar, image_name_sar)\n",
    "        img_sar = Image.open(image_name_sar)#.convert('RGB')\n",
    "        img_tensor_sar = self.transform_sar(img_sar)\n",
    "        \n",
    "        image_name_eo = self.df_eo.img_name[idx]\n",
    "        image_name_eo = os.path.join(self.dirpath_eo, image_name_eo)\n",
    "        img_eo = Image.open(image_name_eo)#.convert('RGB')\n",
    "        img_tensor_eo = self.transform_eo(img_eo)\n",
    "        \n",
    "#         image_name = self.df.img_name[idx]\n",
    "#         img = Image.open(image_name)#.convert('RGB')\n",
    "#         img_tensor = self.transform(img)\n",
    "        \n",
    "        \n",
    "        if not self.test:\n",
    "            image_labels = int(self.df_sar.class_id[idx])\n",
    "#             label_tensor = torch.zeros((1, output_dim))\n",
    "#             for label in image_labels.split():\n",
    "#                 label_tensor[0, int(label)] = 1\n",
    "            image_label = torch.tensor(image_labels,dtype= torch.long)\n",
    "            image_label = image_label.squeeze()\n",
    "            \n",
    "            image_labels_eo = int(self.df_eo.class_id[idx])\n",
    "#             label_tensor_eo = torch.zeros((1, output_dim))\n",
    "#             for label_eo in image_labels_eo.split():\n",
    "#                 label_tensor_eo[0, int(label_eo)] = 1\n",
    "            image_label_eo = torch.tensor(image_labels_eo,dtype= torch.long)\n",
    "            image_label_eo = image_label_eo.squeeze()\n",
    "#             print(image_label_eo)\n",
    "            \n",
    "            \n",
    "            \n",
    "            \n",
    "            return (img_tensor_sar,image_label), (img_tensor_eo, image_label_eo)\n",
    "        \n",
    "        return (img_tensor_sar)"
   ]
  },
  {
   "cell_type": "code",
   "execution_count": 14,
   "metadata": {},
   "outputs": [],
   "source": [
    "import pandas as pd\n",
    "eo_df = pd.read_csv(\"/home/hans/sandisk/dataset_mover/kd_train_EO.csv\")\n",
    "eo_df = eo_df.sort_values(by='img_name')\n",
    "\n",
    "sar_df = pd.read_csv(\"/home/hans/sandisk/dataset_mover/kd_train_SAR.csv\") \n",
    "sar_df = sar_df.sort_values(by='img_name')"
   ]
  },
  {
   "cell_type": "code",
   "execution_count": 15,
   "metadata": {},
   "outputs": [],
   "source": [
    "\n",
    "\n",
    "\n",
    "eo_test_df = pd.read_csv(\"/home/hans/sandisk/dataset_mover/kd_test_EO.csv\")\n",
    "eo_test_df = eo_test_df.sort_values(by='img_name')\n",
    "\n",
    "sar_test_df = pd.read_csv(\"/home/hans/sandisk/dataset_mover/kd_test_SAR.csv\") \n",
    "sar_test_df = sar_test_df.sort_values(by='img_name')"
   ]
  },
  {
   "cell_type": "code",
   "execution_count": 16,
   "metadata": {},
   "outputs": [],
   "source": [
    "BATCH_SIZE = 512\n",
    "\n",
    "dirpath_sar = \"/home/hans/sandisk/dataset_mover/kd_train_SAR\"\n",
    "dirpath_eo = \"/home/hans/sandisk/dataset_mover/kd_train_EO\"\n",
    "SAR_EO_Combine = SAR_EO_Combine_Dataset(sar_df,dirpath_sar,data_transforms[\"Test\"],eo_df,dirpath_eo,EO_data_transforms[\"Training\"],test = False)\n"
   ]
  },
  {
   "cell_type": "code",
   "execution_count": 17,
   "metadata": {},
   "outputs": [],
   "source": [
    "\n",
    "\n",
    "\n",
    "testpath_sar = \"/home/hans/sandisk/dataset_mover/kd_val_SAR\"\n",
    "testpath_eo = \"/home/hans/sandisk/dataset_mover/kd_val_EO\"\n",
    "\n",
    "test_set = SAR_EO_Combine_Dataset(sar_test_df,testpath_sar,data_transforms[\"Test\"],eo_test_df,testpath_eo,EO_data_transforms[\"Test\"],test = False)\n",
    "# test_loader = data.DataLoader(dataset=test_dataset,batch_size=BATCH_SIZE,shuffle=False)"
   ]
  },
  {
   "cell_type": "code",
   "execution_count": 19,
   "metadata": {},
   "outputs": [],
   "source": [
    "train_size = len(SAR_EO_Combine)"
   ]
  },
  {
   "cell_type": "code",
   "execution_count": 20,
   "metadata": {},
   "outputs": [],
   "source": [
    "\n",
    "test_size = len(test_set)\n",
    "\n",
    "# from sklearn.model_selection import train_test_split\n",
    "\n",
    "# train_dataset, test_dataset = train_test_split(SAR_EO_Combine[0], SAR_EO_Combine[2], test_size=0.2, random_state=2017, stratify = SAR_EO_Combine[2])\n",
    "# train_dataset, test_dataset = torch.utils.data.random_split(SAR_EO_Combine, [train_size, test_size])"
   ]
  },
  {
   "cell_type": "code",
   "execution_count": 21,
   "metadata": {},
   "outputs": [],
   "source": [
    "data_loader = data.DataLoader(dataset=SAR_EO_Combine,batch_size=BATCH_SIZE,shuffle=True,pin_memory = True)"
   ]
  },
  {
   "cell_type": "code",
   "execution_count": 22,
   "metadata": {},
   "outputs": [],
   "source": [
    "\n",
    "test_loader = data.DataLoader(dataset=test_set,batch_size=BATCH_SIZE,shuffle=True,pin_memory = True)"
   ]
  },
  {
   "cell_type": "code",
   "execution_count": 23,
   "metadata": {},
   "outputs": [
    {
     "data": {
      "image/png": "[encoded data removed]",
      "text/plain": [
       "<Figure size 432x288 with 1 Axes>"
      ]
     },
     "metadata": {
      "needs_background": "light"
     },
     "output_type": "display_data"
    },
    {
     "data": {
      "image/png": "[encoded data removed]",
      "text/plain": [
       "<Figure size 432x288 with 1 Axes>"
      ]
     },
     "metadata": {
      "needs_background": "light"
     },
     "output_type": "display_data"
    },
    {
     "name": "stdout",
     "output_type": "stream",
     "text": [
      "512\n",
      "tensor([0, 0, 0, 0, 0, 0, 0, 0, 0, 0, 2, 0, 0, 0, 2, 2, 0, 0, 0, 0, 0, 0, 0, 0,\n",
      "        2, 1, 0, 0, 0, 0, 0, 1, 0, 0, 0, 0, 0, 0, 0, 1, 0, 0, 0, 3, 0, 0, 0, 0,\n",
      "        0, 0, 0, 0, 0, 0, 0, 0, 0, 0, 0, 0, 0, 0, 0, 0, 0, 0, 1, 1, 3, 0, 3, 0,\n",
      "        0, 0, 0, 0, 1, 0, 0, 0, 0, 0, 0, 0, 0, 0, 0, 0, 0, 0, 0, 0, 0, 3, 2, 0,\n",
      "        4, 0, 0, 0, 0, 2, 0, 0, 0, 1, 1, 1, 0, 0, 0, 1, 0, 0, 1, 1, 0, 0, 3, 0,\n",
      "        3, 0, 0, 2, 4, 1, 0, 0, 1, 0, 0, 3, 0, 0, 0, 0, 0, 0, 1, 0, 0, 1, 3, 0,\n",
      "        0, 0, 0, 3, 1, 2, 3, 0, 0, 3, 0, 2, 2, 0, 0, 0, 1, 0, 0, 0, 0, 0, 0, 0,\n",
      "        0, 3, 0, 0, 1, 0, 0, 0, 0, 0, 1, 0, 0, 0, 0, 0, 1, 0, 0, 0, 0, 0, 1, 2,\n",
      "        0, 3, 0, 0, 0, 1, 0, 0, 0, 2, 0, 0, 0, 1, 0, 1, 0, 0, 0, 0, 1, 0, 0, 0,\n",
      "        0, 0, 2, 0, 2, 0, 0, 0, 0, 0, 0, 0, 2, 0, 0, 0, 3, 0, 0, 0, 0, 0, 0, 2,\n",
      "        2, 0, 0, 0, 0, 0, 0, 0, 0, 0, 9, 1, 0, 1, 1, 0, 1, 1, 0, 0, 3, 0, 0, 3,\n",
      "        0, 0, 0, 0, 0, 0, 0, 1, 0, 0, 0, 0, 0, 0, 0, 0, 0, 0, 0, 2, 0, 0, 0, 2,\n",
      "        1, 0, 3, 0, 0, 0, 0, 0, 0, 0, 0, 0, 0, 0, 0, 0, 2, 0, 0, 0, 0, 0, 0, 0,\n",
      "        0, 0, 0, 0, 0, 0, 0, 0, 0, 0, 0, 0, 0, 1, 0, 0, 0, 0, 0, 0, 0, 0, 0, 0,\n",
      "        1, 0, 1, 0, 0, 0, 0, 2, 0, 0, 9, 0, 0, 0, 0, 0, 0, 0, 0, 0, 0, 0, 0, 0,\n",
      "        0, 0, 0, 0, 0, 0, 2, 0, 1, 0, 0, 8, 0, 0, 1, 0, 1, 0, 0, 0, 1, 0, 0, 0,\n",
      "        2, 1, 0, 0, 0, 0, 0, 0, 0, 0, 0, 0, 0, 0, 0, 0, 0, 0, 0, 0, 0, 2, 0, 0,\n",
      "        0, 0, 0, 0, 0, 1, 0, 0, 0, 0, 0, 2, 0, 0, 0, 0, 3, 2, 0, 0, 0, 8, 0, 1,\n",
      "        0, 0, 0, 0, 0, 0, 1, 0, 0, 0, 0, 0, 0, 0, 0, 0, 0, 0, 0, 2, 1, 1, 0, 1,\n",
      "        0, 0, 0, 0, 0, 3, 1, 1, 0, 7, 0, 0, 0, 0, 0, 4, 0, 0, 0, 0, 0, 0, 0, 0,\n",
      "        0, 0, 0, 2, 0, 0, 0, 0, 0, 0, 1, 0, 4, 0, 0, 1, 0, 0, 0, 0, 0, 1, 0, 0,\n",
      "        1, 0, 0, 0, 0, 0, 0, 1])\n"
     ]
    }
   ],
   "source": [
    "def imshow(inp, title=None):\n",
    "    \"\"\"Imshow for Tensor.\"\"\"\n",
    "    inp = inp.numpy().transpose((1, 2, 0))\n",
    "#     mean = np.array([0.1786, 0.4739, 0.5329])\n",
    "#     std = np.array([[0.0632, 0.1361, 0.0606]])\n",
    "#     inp = std * inp + mean\n",
    "    inp = np.clip(inp, 0, 1)\n",
    "    plt.imshow(inp)\n",
    "    if title is not None:\n",
    "        plt.title(title)\n",
    "    plt.pause(0.001)  # pause a bit so that plots are updated\n",
    "\n",
    "\n",
    "SAR, EO = next(iter(data_loader))\n",
    "# Get a batch of training data\n",
    "EO_inputs, EO_classes = EO[0],EO[1]\n",
    "\n",
    "\n",
    "inputs, classes = SAR[0],SAR[1]\n",
    "\n",
    "\n",
    "# EO_class_names = SAR_EO_Combine.image_label\n",
    "\n",
    "\n",
    "\n",
    "# Make a grid from batch\n",
    "EO_out = torchvision.utils.make_grid(EO_inputs)\n",
    "\n",
    "out = torchvision.utils.make_grid(inputs)\n",
    "imshow(EO_out)#, title=[EO_class_names[x] for x in classes])\n",
    "\n",
    "imshow(out)#, title=[class_names[x] for x in classes])\n",
    "print(len(EO_classes))\n",
    "print(classes)"
   ]
  },
  {
   "cell_type": "code",
   "execution_count": 24,
   "metadata": {},
   "outputs": [],
   "source": [
    "# a = 0\n",
    "# for i in range(500):\n",
    "#     SAR, EO = next(iter(data_loader))\n",
    "# # Get a batch of training data\n",
    "#     EO_inputs, EO_classes = EO[0],EO[1]\n",
    "\n",
    "\n",
    "#     inputs, classes = SAR[0],SAR[1]\n",
    "#     if 9 in classes:\n",
    "#         a+=1\n",
    "#     print(a)"
   ]
  },
  {
   "cell_type": "markdown",
   "metadata": {},
   "source": [
    "### check if paired succeed"
   ]
  },
  {
   "cell_type": "code",
   "execution_count": 25,
   "metadata": {},
   "outputs": [],
   "source": [
    "# from tqdm import trange\n",
    "# def equal():\n",
    "#     notsame_image = 0\n",
    "#     notsame_label = 0\n",
    "#     t = trange(len(sar_df))\n",
    "    \n",
    "\n",
    "    \n",
    "#     for i in t:\n",
    "#         t.set_postfix({'nums of not same label:': notsame_label})\n",
    "#         sar, eo = next(iter(data_loader))\n",
    "#         eo_label = eo[1][0].tolist()\n",
    "#         sar_label = sar[1][0].tolist()\n",
    "# #         print(eo_label)\n",
    "# #         print(sar_label)\n",
    "#     #     if not eo_image == sar_image:\n",
    "#     #         notsame_image += 1\n",
    "        \n",
    "# #             eoval = next(eo_label) \n",
    "# #             sarval = next(sar_label) \n",
    "#         if not eo_label==sar_label:\n",
    "#             notsame_label += 1\n",
    "        \n",
    "# #         notsame_label += 1\n",
    "# #     print(\"nums of not same imageid:\", notsame_image)\n",
    "#         #print(\"nums of not same label:\", notsame_label)\n",
    "\n",
    "# equal()\n",
    "# #next(iter(data_loader))"
   ]
  },
  {
   "cell_type": "code",
   "execution_count": 26,
   "metadata": {},
   "outputs": [
    {
     "data": {
      "text/plain": [
       "True"
      ]
     },
     "execution_count": 26,
     "metadata": {},
     "output_type": "execute_result"
    }
   ],
   "source": [
    "len(sar_df) == len(eo_df)"
   ]
  },
  {
   "cell_type": "code",
   "execution_count": 27,
   "metadata": {},
   "outputs": [
    {
     "data": {
      "text/plain": [
       "img_name    EO_0.png\n",
       "class_id           0\n",
       "Name: 0, dtype: object"
      ]
     },
     "execution_count": 27,
     "metadata": {},
     "output_type": "execute_result"
    }
   ],
   "source": [
    "next(eo_df.iterrows())[1]"
   ]
  },
  {
   "cell_type": "code",
   "execution_count": 28,
   "metadata": {},
   "outputs": [
    {
     "data": {
      "text/plain": [
       "ResNet(\n",
       "  (conv1): Conv2d(1, 64, kernel_size=(7, 7), stride=(2, 2), padding=(3, 3), bias=False)\n",
       "  (bn1): BatchNorm2d(64, eps=1e-05, momentum=0.1, affine=True, track_running_stats=True)\n",
       "  (relu): ReLU(inplace=True)\n",
       "  (maxpool): MaxPool2d(kernel_size=3, stride=2, padding=1, dilation=1, ceil_mode=False)\n",
       "  (layer1): Sequential(\n",
       "    (0): BasicBlock(\n",
       "      (conv1): Conv2d(64, 64, kernel_size=(3, 3), stride=(1, 1), padding=(1, 1), bias=False)\n",
       "      (bn1): BatchNorm2d(64, eps=1e-05, momentum=0.1, affine=True, track_running_stats=True)\n",
       "      (relu): ReLU(inplace=True)\n",
       "      (conv2): Conv2d(64, 64, kernel_size=(3, 3), stride=(1, 1), padding=(1, 1), bias=False)\n",
       "      (bn2): BatchNorm2d(64, eps=1e-05, momentum=0.1, affine=True, track_running_stats=True)\n",
       "    )\n",
       "    (1): BasicBlock(\n",
       "      (conv1): Conv2d(64, 64, kernel_size=(3, 3), stride=(1, 1), padding=(1, 1), bias=False)\n",
       "      (bn1): BatchNorm2d(64, eps=1e-05, momentum=0.1, affine=True, track_running_stats=True)\n",
       "      (relu): ReLU(inplace=True)\n",
       "      (conv2): Conv2d(64, 64, kernel_size=(3, 3), stride=(1, 1), padding=(1, 1), bias=False)\n",
       "      (bn2): BatchNorm2d(64, eps=1e-05, momentum=0.1, affine=True, track_running_stats=True)\n",
       "    )\n",
       "    (2): BasicBlock(\n",
       "      (conv1): Conv2d(64, 64, kernel_size=(3, 3), stride=(1, 1), padding=(1, 1), bias=False)\n",
       "      (bn1): BatchNorm2d(64, eps=1e-05, momentum=0.1, affine=True, track_running_stats=True)\n",
       "      (relu): ReLU(inplace=True)\n",
       "      (conv2): Conv2d(64, 64, kernel_size=(3, 3), stride=(1, 1), padding=(1, 1), bias=False)\n",
       "      (bn2): BatchNorm2d(64, eps=1e-05, momentum=0.1, affine=True, track_running_stats=True)\n",
       "    )\n",
       "  )\n",
       "  (layer2): Sequential(\n",
       "    (0): BasicBlock(\n",
       "      (conv1): Conv2d(64, 128, kernel_size=(3, 3), stride=(2, 2), padding=(1, 1), bias=False)\n",
       "      (bn1): BatchNorm2d(128, eps=1e-05, momentum=0.1, affine=True, track_running_stats=True)\n",
       "      (relu): ReLU(inplace=True)\n",
       "      (conv2): Conv2d(128, 128, kernel_size=(3, 3), stride=(1, 1), padding=(1, 1), bias=False)\n",
       "      (bn2): BatchNorm2d(128, eps=1e-05, momentum=0.1, affine=True, track_running_stats=True)\n",
       "      (downsample): Sequential(\n",
       "        (0): Conv2d(64, 128, kernel_size=(1, 1), stride=(2, 2), bias=False)\n",
       "        (1): BatchNorm2d(128, eps=1e-05, momentum=0.1, affine=True, track_running_stats=True)\n",
       "      )\n",
       "    )\n",
       "    (1): BasicBlock(\n",
       "      (conv1): Conv2d(128, 128, kernel_size=(3, 3), stride=(1, 1), padding=(1, 1), bias=False)\n",
       "      (bn1): BatchNorm2d(128, eps=1e-05, momentum=0.1, affine=True, track_running_stats=True)\n",
       "      (relu): ReLU(inplace=True)\n",
       "      (conv2): Conv2d(128, 128, kernel_size=(3, 3), stride=(1, 1), padding=(1, 1), bias=False)\n",
       "      (bn2): BatchNorm2d(128, eps=1e-05, momentum=0.1, affine=True, track_running_stats=True)\n",
       "    )\n",
       "    (2): BasicBlock(\n",
       "      (conv1): Conv2d(128, 128, kernel_size=(3, 3), stride=(1, 1), padding=(1, 1), bias=False)\n",
       "      (bn1): BatchNorm2d(128, eps=1e-05, momentum=0.1, affine=True, track_running_stats=True)\n",
       "      (relu): ReLU(inplace=True)\n",
       "      (conv2): Conv2d(128, 128, kernel_size=(3, 3), stride=(1, 1), padding=(1, 1), bias=False)\n",
       "      (bn2): BatchNorm2d(128, eps=1e-05, momentum=0.1, affine=True, track_running_stats=True)\n",
       "    )\n",
       "    (3): BasicBlock(\n",
       "      (conv1): Conv2d(128, 128, kernel_size=(3, 3), stride=(1, 1), padding=(1, 1), bias=False)\n",
       "      (bn1): BatchNorm2d(128, eps=1e-05, momentum=0.1, affine=True, track_running_stats=True)\n",
       "      (relu): ReLU(inplace=True)\n",
       "      (conv2): Conv2d(128, 128, kernel_size=(3, 3), stride=(1, 1), padding=(1, 1), bias=False)\n",
       "      (bn2): BatchNorm2d(128, eps=1e-05, momentum=0.1, affine=True, track_running_stats=True)\n",
       "    )\n",
       "  )\n",
       "  (layer3): Sequential(\n",
       "    (0): BasicBlock(\n",
       "      (conv1): Conv2d(128, 256, kernel_size=(3, 3), stride=(2, 2), padding=(1, 1), bias=False)\n",
       "      (bn1): BatchNorm2d(256, eps=1e-05, momentum=0.1, affine=True, track_running_stats=True)\n",
       "      (relu): ReLU(inplace=True)\n",
       "      (conv2): Conv2d(256, 256, kernel_size=(3, 3), stride=(1, 1), padding=(1, 1), bias=False)\n",
       "      (bn2): BatchNorm2d(256, eps=1e-05, momentum=0.1, affine=True, track_running_stats=True)\n",
       "      (downsample): Sequential(\n",
       "        (0): Conv2d(128, 256, kernel_size=(1, 1), stride=(2, 2), bias=False)\n",
       "        (1): BatchNorm2d(256, eps=1e-05, momentum=0.1, affine=True, track_running_stats=True)\n",
       "      )\n",
       "    )\n",
       "    (1): BasicBlock(\n",
       "      (conv1): Conv2d(256, 256, kernel_size=(3, 3), stride=(1, 1), padding=(1, 1), bias=False)\n",
       "      (bn1): BatchNorm2d(256, eps=1e-05, momentum=0.1, affine=True, track_running_stats=True)\n",
       "      (relu): ReLU(inplace=True)\n",
       "      (conv2): Conv2d(256, 256, kernel_size=(3, 3), stride=(1, 1), padding=(1, 1), bias=False)\n",
       "      (bn2): BatchNorm2d(256, eps=1e-05, momentum=0.1, affine=True, track_running_stats=True)\n",
       "    )\n",
       "    (2): BasicBlock(\n",
       "      (conv1): Conv2d(256, 256, kernel_size=(3, 3), stride=(1, 1), padding=(1, 1), bias=False)\n",
       "      (bn1): BatchNorm2d(256, eps=1e-05, momentum=0.1, affine=True, track_running_stats=True)\n",
       "      (relu): ReLU(inplace=True)\n",
       "      (conv2): Conv2d(256, 256, kernel_size=(3, 3), stride=(1, 1), padding=(1, 1), bias=False)\n",
       "      (bn2): BatchNorm2d(256, eps=1e-05, momentum=0.1, affine=True, track_running_stats=True)\n",
       "    )\n",
       "    (3): BasicBlock(\n",
       "      (conv1): Conv2d(256, 256, kernel_size=(3, 3), stride=(1, 1), padding=(1, 1), bias=False)\n",
       "      (bn1): BatchNorm2d(256, eps=1e-05, momentum=0.1, affine=True, track_running_stats=True)\n",
       "      (relu): ReLU(inplace=True)\n",
       "      (conv2): Conv2d(256, 256, kernel_size=(3, 3), stride=(1, 1), padding=(1, 1), bias=False)\n",
       "      (bn2): BatchNorm2d(256, eps=1e-05, momentum=0.1, affine=True, track_running_stats=True)\n",
       "    )\n",
       "    (4): BasicBlock(\n",
       "      (conv1): Conv2d(256, 256, kernel_size=(3, 3), stride=(1, 1), padding=(1, 1), bias=False)\n",
       "      (bn1): BatchNorm2d(256, eps=1e-05, momentum=0.1, affine=True, track_running_stats=True)\n",
       "      (relu): ReLU(inplace=True)\n",
       "      (conv2): Conv2d(256, 256, kernel_size=(3, 3), stride=(1, 1), padding=(1, 1), bias=False)\n",
       "      (bn2): BatchNorm2d(256, eps=1e-05, momentum=0.1, affine=True, track_running_stats=True)\n",
       "    )\n",
       "    (5): BasicBlock(\n",
       "      (conv1): Conv2d(256, 256, kernel_size=(3, 3), stride=(1, 1), padding=(1, 1), bias=False)\n",
       "      (bn1): BatchNorm2d(256, eps=1e-05, momentum=0.1, affine=True, track_running_stats=True)\n",
       "      (relu): ReLU(inplace=True)\n",
       "      (conv2): Conv2d(256, 256, kernel_size=(3, 3), stride=(1, 1), padding=(1, 1), bias=False)\n",
       "      (bn2): BatchNorm2d(256, eps=1e-05, momentum=0.1, affine=True, track_running_stats=True)\n",
       "    )\n",
       "  )\n",
       "  (layer4): Sequential(\n",
       "    (0): BasicBlock(\n",
       "      (conv1): Conv2d(256, 512, kernel_size=(3, 3), stride=(2, 2), padding=(1, 1), bias=False)\n",
       "      (bn1): BatchNorm2d(512, eps=1e-05, momentum=0.1, affine=True, track_running_stats=True)\n",
       "      (relu): ReLU(inplace=True)\n",
       "      (conv2): Conv2d(512, 512, kernel_size=(3, 3), stride=(1, 1), padding=(1, 1), bias=False)\n",
       "      (bn2): BatchNorm2d(512, eps=1e-05, momentum=0.1, affine=True, track_running_stats=True)\n",
       "      (downsample): Sequential(\n",
       "        (0): Conv2d(256, 512, kernel_size=(1, 1), stride=(2, 2), bias=False)\n",
       "        (1): BatchNorm2d(512, eps=1e-05, momentum=0.1, affine=True, track_running_stats=True)\n",
       "      )\n",
       "    )\n",
       "    (1): BasicBlock(\n",
       "      (conv1): Conv2d(512, 512, kernel_size=(3, 3), stride=(1, 1), padding=(1, 1), bias=False)\n",
       "      (bn1): BatchNorm2d(512, eps=1e-05, momentum=0.1, affine=True, track_running_stats=True)\n",
       "      (relu): ReLU(inplace=True)\n",
       "      (conv2): Conv2d(512, 512, kernel_size=(3, 3), stride=(1, 1), padding=(1, 1), bias=False)\n",
       "      (bn2): BatchNorm2d(512, eps=1e-05, momentum=0.1, affine=True, track_running_stats=True)\n",
       "    )\n",
       "    (2): BasicBlock(\n",
       "      (conv1): Conv2d(512, 512, kernel_size=(3, 3), stride=(1, 1), padding=(1, 1), bias=False)\n",
       "      (bn1): BatchNorm2d(512, eps=1e-05, momentum=0.1, affine=True, track_running_stats=True)\n",
       "      (relu): ReLU(inplace=True)\n",
       "      (conv2): Conv2d(512, 512, kernel_size=(3, 3), stride=(1, 1), padding=(1, 1), bias=False)\n",
       "      (bn2): BatchNorm2d(512, eps=1e-05, momentum=0.1, affine=True, track_running_stats=True)\n",
       "    )\n",
       "  )\n",
       "  (avgpool): AdaptiveAvgPool2d(output_size=(1, 1))\n",
       "  (fc): Linear(in_features=512, out_features=10, bias=True)\n",
       ")"
      ]
     },
     "execution_count": 28,
     "metadata": {},
     "output_type": "execute_result"
    }
   ],
   "source": [
    "Num_class=10\n",
    "num_classes = Num_class\n",
    "num_channel = 1\n",
    "\n",
    "# model_ft = models.resnet34(pretrained=False)\n",
    "model_ft = torch.load(\"10/pre_resnet34_model_epoch99.pt\") ## Attention: you need to change to the path of pre_EO.pt file, which located in the repo folder pre-train\n",
    "# model_ft.conv1 = nn.Conv2d(num_channel, 64, kernel_size=7, stride=2, padding=3,bias=False)\n",
    "# # model_ft.avgpool = SpatialPyramidPooling((3,3))\n",
    "# model_ft.fc = nn.Linear(512, Num_class)\n",
    "# model_ft.conv0 = nn.Conv2d(\n",
    "# model_ft.features[0] = nn.Conv2d(num_channel, 16, kernel_size=3, stride=2, padding=1,bias=False)\n",
    "# model_ft.classifier[3] = nn.Linear(1024, Num_class, bias=True)\n",
    "model_ft.eval()"
   ]
  },
  {
   "cell_type": "code",
   "execution_count": 29,
   "metadata": {},
   "outputs": [
    {
     "name": "stdout",
     "output_type": "stream",
     "text": [
      "filenum: 234135\n",
      "filenum: 28030\n",
      "filenum: 15234\n",
      "filenum: 10587\n",
      "filenum: 1668\n",
      "filenum: 782\n",
      "filenum: 768\n",
      "filenum: 562\n",
      "filenum: 783\n",
      "filenum: 573\n",
      "[234135, 28030, 15234, 10587, 1668, 782, 768, 562, 783, 573]\n",
      "tensor([0.7988, 0.0956, 0.0520, 0.0361, 0.0057, 0.0027, 0.0026, 0.0019, 0.0027,\n",
      "        0.0020], device='cuda:0')\n",
      "tensor([0.0005, 0.0044, 0.0080, 0.0115, 0.0733, 0.1563, 0.1591, 0.2175, 0.1561,\n",
      "        0.2133], device='cuda:0')\n"
     ]
    }
   ],
   "source": [
    "data_dir = '/mnt/sda1/cvpr21/Classification/ram'\n",
    "weights = []\n",
    "for i in range(len(os.listdir(os.path.join(data_dir, \"Training\")))):\n",
    "    img_num = len([lists for lists in os.listdir(os.path.join(data_dir, \"Training\",str(i)))])\n",
    "    print('filenum:',len([lists for lists in os.listdir(os.path.join(data_dir, \"Training\",str(i)))]))# if os.path.isfile(os.path.join(data_dir, lists))]))\n",
    "    weights.append(img_num)\n",
    "print(weights)\n",
    "weights = torch.tensor(weights, dtype=torch.float32).cuda()\n",
    "weights = weights / weights.sum()\n",
    "print(weights)\n",
    "weights = 1.0 / weights\n",
    "weights = weights / weights.sum()\n",
    "print(weights)"
   ]
  },
  {
   "cell_type": "markdown",
   "metadata": {},
   "source": [
    "### Teacher model (SAR)"
   ]
  },
  {
   "cell_type": "code",
   "execution_count": 30,
   "metadata": {},
   "outputs": [
    {
     "data": {
      "text/plain": [
       "ResNet(\n",
       "  (conv1): Conv2d(1, 64, kernel_size=(7, 7), stride=(2, 2), padding=(3, 3), bias=False)\n",
       "  (bn1): BatchNorm2d(64, eps=1e-05, momentum=0.1, affine=True, track_running_stats=True)\n",
       "  (relu): ReLU(inplace=True)\n",
       "  (maxpool): MaxPool2d(kernel_size=3, stride=2, padding=1, dilation=1, ceil_mode=False)\n",
       "  (layer1): Sequential(\n",
       "    (0): BasicBlock(\n",
       "      (conv1): Conv2d(64, 64, kernel_size=(3, 3), stride=(1, 1), padding=(1, 1), bias=False)\n",
       "      (bn1): BatchNorm2d(64, eps=1e-05, momentum=0.1, affine=True, track_running_stats=True)\n",
       "      (relu): ReLU(inplace=True)\n",
       "      (conv2): Conv2d(64, 64, kernel_size=(3, 3), stride=(1, 1), padding=(1, 1), bias=False)\n",
       "      (bn2): BatchNorm2d(64, eps=1e-05, momentum=0.1, affine=True, track_running_stats=True)\n",
       "    )\n",
       "    (1): BasicBlock(\n",
       "      (conv1): Conv2d(64, 64, kernel_size=(3, 3), stride=(1, 1), padding=(1, 1), bias=False)\n",
       "      (bn1): BatchNorm2d(64, eps=1e-05, momentum=0.1, affine=True, track_running_stats=True)\n",
       "      (relu): ReLU(inplace=True)\n",
       "      (conv2): Conv2d(64, 64, kernel_size=(3, 3), stride=(1, 1), padding=(1, 1), bias=False)\n",
       "      (bn2): BatchNorm2d(64, eps=1e-05, momentum=0.1, affine=True, track_running_stats=True)\n",
       "    )\n",
       "    (2): BasicBlock(\n",
       "      (conv1): Conv2d(64, 64, kernel_size=(3, 3), stride=(1, 1), padding=(1, 1), bias=False)\n",
       "      (bn1): BatchNorm2d(64, eps=1e-05, momentum=0.1, affine=True, track_running_stats=True)\n",
       "      (relu): ReLU(inplace=True)\n",
       "      (conv2): Conv2d(64, 64, kernel_size=(3, 3), stride=(1, 1), padding=(1, 1), bias=False)\n",
       "      (bn2): BatchNorm2d(64, eps=1e-05, momentum=0.1, affine=True, track_running_stats=True)\n",
       "    )\n",
       "  )\n",
       "  (layer2): Sequential(\n",
       "    (0): BasicBlock(\n",
       "      (conv1): Conv2d(64, 128, kernel_size=(3, 3), stride=(2, 2), padding=(1, 1), bias=False)\n",
       "      (bn1): BatchNorm2d(128, eps=1e-05, momentum=0.1, affine=True, track_running_stats=True)\n",
       "      (relu): ReLU(inplace=True)\n",
       "      (conv2): Conv2d(128, 128, kernel_size=(3, 3), stride=(1, 1), padding=(1, 1), bias=False)\n",
       "      (bn2): BatchNorm2d(128, eps=1e-05, momentum=0.1, affine=True, track_running_stats=True)\n",
       "      (downsample): Sequential(\n",
       "        (0): Conv2d(64, 128, kernel_size=(1, 1), stride=(2, 2), bias=False)\n",
       "        (1): BatchNorm2d(128, eps=1e-05, momentum=0.1, affine=True, track_running_stats=True)\n",
       "      )\n",
       "    )\n",
       "    (1): BasicBlock(\n",
       "      (conv1): Conv2d(128, 128, kernel_size=(3, 3), stride=(1, 1), padding=(1, 1), bias=False)\n",
       "      (bn1): BatchNorm2d(128, eps=1e-05, momentum=0.1, affine=True, track_running_stats=True)\n",
       "      (relu): ReLU(inplace=True)\n",
       "      (conv2): Conv2d(128, 128, kernel_size=(3, 3), stride=(1, 1), padding=(1, 1), bias=False)\n",
       "      (bn2): BatchNorm2d(128, eps=1e-05, momentum=0.1, affine=True, track_running_stats=True)\n",
       "    )\n",
       "    (2): BasicBlock(\n",
       "      (conv1): Conv2d(128, 128, kernel_size=(3, 3), stride=(1, 1), padding=(1, 1), bias=False)\n",
       "      (bn1): BatchNorm2d(128, eps=1e-05, momentum=0.1, affine=True, track_running_stats=True)\n",
       "      (relu): ReLU(inplace=True)\n",
       "      (conv2): Conv2d(128, 128, kernel_size=(3, 3), stride=(1, 1), padding=(1, 1), bias=False)\n",
       "      (bn2): BatchNorm2d(128, eps=1e-05, momentum=0.1, affine=True, track_running_stats=True)\n",
       "    )\n",
       "    (3): BasicBlock(\n",
       "      (conv1): Conv2d(128, 128, kernel_size=(3, 3), stride=(1, 1), padding=(1, 1), bias=False)\n",
       "      (bn1): BatchNorm2d(128, eps=1e-05, momentum=0.1, affine=True, track_running_stats=True)\n",
       "      (relu): ReLU(inplace=True)\n",
       "      (conv2): Conv2d(128, 128, kernel_size=(3, 3), stride=(1, 1), padding=(1, 1), bias=False)\n",
       "      (bn2): BatchNorm2d(128, eps=1e-05, momentum=0.1, affine=True, track_running_stats=True)\n",
       "    )\n",
       "  )\n",
       "  (layer3): Sequential(\n",
       "    (0): BasicBlock(\n",
       "      (conv1): Conv2d(128, 256, kernel_size=(3, 3), stride=(2, 2), padding=(1, 1), bias=False)\n",
       "      (bn1): BatchNorm2d(256, eps=1e-05, momentum=0.1, affine=True, track_running_stats=True)\n",
       "      (relu): ReLU(inplace=True)\n",
       "      (conv2): Conv2d(256, 256, kernel_size=(3, 3), stride=(1, 1), padding=(1, 1), bias=False)\n",
       "      (bn2): BatchNorm2d(256, eps=1e-05, momentum=0.1, affine=True, track_running_stats=True)\n",
       "      (downsample): Sequential(\n",
       "        (0): Conv2d(128, 256, kernel_size=(1, 1), stride=(2, 2), bias=False)\n",
       "        (1): BatchNorm2d(256, eps=1e-05, momentum=0.1, affine=True, track_running_stats=True)\n",
       "      )\n",
       "    )\n",
       "    (1): BasicBlock(\n",
       "      (conv1): Conv2d(256, 256, kernel_size=(3, 3), stride=(1, 1), padding=(1, 1), bias=False)\n",
       "      (bn1): BatchNorm2d(256, eps=1e-05, momentum=0.1, affine=True, track_running_stats=True)\n",
       "      (relu): ReLU(inplace=True)\n",
       "      (conv2): Conv2d(256, 256, kernel_size=(3, 3), stride=(1, 1), padding=(1, 1), bias=False)\n",
       "      (bn2): BatchNorm2d(256, eps=1e-05, momentum=0.1, affine=True, track_running_stats=True)\n",
       "    )\n",
       "    (2): BasicBlock(\n",
       "      (conv1): Conv2d(256, 256, kernel_size=(3, 3), stride=(1, 1), padding=(1, 1), bias=False)\n",
       "      (bn1): BatchNorm2d(256, eps=1e-05, momentum=0.1, affine=True, track_running_stats=True)\n",
       "      (relu): ReLU(inplace=True)\n",
       "      (conv2): Conv2d(256, 256, kernel_size=(3, 3), stride=(1, 1), padding=(1, 1), bias=False)\n",
       "      (bn2): BatchNorm2d(256, eps=1e-05, momentum=0.1, affine=True, track_running_stats=True)\n",
       "    )\n",
       "    (3): BasicBlock(\n",
       "      (conv1): Conv2d(256, 256, kernel_size=(3, 3), stride=(1, 1), padding=(1, 1), bias=False)\n",
       "      (bn1): BatchNorm2d(256, eps=1e-05, momentum=0.1, affine=True, track_running_stats=True)\n",
       "      (relu): ReLU(inplace=True)\n",
       "      (conv2): Conv2d(256, 256, kernel_size=(3, 3), stride=(1, 1), padding=(1, 1), bias=False)\n",
       "      (bn2): BatchNorm2d(256, eps=1e-05, momentum=0.1, affine=True, track_running_stats=True)\n",
       "    )\n",
       "    (4): BasicBlock(\n",
       "      (conv1): Conv2d(256, 256, kernel_size=(3, 3), stride=(1, 1), padding=(1, 1), bias=False)\n",
       "      (bn1): BatchNorm2d(256, eps=1e-05, momentum=0.1, affine=True, track_running_stats=True)\n",
       "      (relu): ReLU(inplace=True)\n",
       "      (conv2): Conv2d(256, 256, kernel_size=(3, 3), stride=(1, 1), padding=(1, 1), bias=False)\n",
       "      (bn2): BatchNorm2d(256, eps=1e-05, momentum=0.1, affine=True, track_running_stats=True)\n",
       "    )\n",
       "    (5): BasicBlock(\n",
       "      (conv1): Conv2d(256, 256, kernel_size=(3, 3), stride=(1, 1), padding=(1, 1), bias=False)\n",
       "      (bn1): BatchNorm2d(256, eps=1e-05, momentum=0.1, affine=True, track_running_stats=True)\n",
       "      (relu): ReLU(inplace=True)\n",
       "      (conv2): Conv2d(256, 256, kernel_size=(3, 3), stride=(1, 1), padding=(1, 1), bias=False)\n",
       "      (bn2): BatchNorm2d(256, eps=1e-05, momentum=0.1, affine=True, track_running_stats=True)\n",
       "    )\n",
       "  )\n",
       "  (layer4): Sequential(\n",
       "    (0): BasicBlock(\n",
       "      (conv1): Conv2d(256, 512, kernel_size=(3, 3), stride=(2, 2), padding=(1, 1), bias=False)\n",
       "      (bn1): BatchNorm2d(512, eps=1e-05, momentum=0.1, affine=True, track_running_stats=True)\n",
       "      (relu): ReLU(inplace=True)\n",
       "      (conv2): Conv2d(512, 512, kernel_size=(3, 3), stride=(1, 1), padding=(1, 1), bias=False)\n",
       "      (bn2): BatchNorm2d(512, eps=1e-05, momentum=0.1, affine=True, track_running_stats=True)\n",
       "      (downsample): Sequential(\n",
       "        (0): Conv2d(256, 512, kernel_size=(1, 1), stride=(2, 2), bias=False)\n",
       "        (1): BatchNorm2d(512, eps=1e-05, momentum=0.1, affine=True, track_running_stats=True)\n",
       "      )\n",
       "    )\n",
       "    (1): BasicBlock(\n",
       "      (conv1): Conv2d(512, 512, kernel_size=(3, 3), stride=(1, 1), padding=(1, 1), bias=False)\n",
       "      (bn1): BatchNorm2d(512, eps=1e-05, momentum=0.1, affine=True, track_running_stats=True)\n",
       "      (relu): ReLU(inplace=True)\n",
       "      (conv2): Conv2d(512, 512, kernel_size=(3, 3), stride=(1, 1), padding=(1, 1), bias=False)\n",
       "      (bn2): BatchNorm2d(512, eps=1e-05, momentum=0.1, affine=True, track_running_stats=True)\n",
       "    )\n",
       "    (2): BasicBlock(\n",
       "      (conv1): Conv2d(512, 512, kernel_size=(3, 3), stride=(1, 1), padding=(1, 1), bias=False)\n",
       "      (bn1): BatchNorm2d(512, eps=1e-05, momentum=0.1, affine=True, track_running_stats=True)\n",
       "      (relu): ReLU(inplace=True)\n",
       "      (conv2): Conv2d(512, 512, kernel_size=(3, 3), stride=(1, 1), padding=(1, 1), bias=False)\n",
       "      (bn2): BatchNorm2d(512, eps=1e-05, momentum=0.1, affine=True, track_running_stats=True)\n",
       "    )\n",
       "  )\n",
       "  (avgpool): AdaptiveAvgPool2d(output_size=(1, 1))\n",
       "  (fc): Linear(in_features=512, out_features=10, bias=True)\n",
       ")"
      ]
     },
     "execution_count": 30,
     "metadata": {},
     "output_type": "execute_result"
    }
   ],
   "source": [
    "netT = torch.load(\"10/resnet34_model_epoch119.pt\") ## Attention: you need to change to the path of pre_SAR.pt file, which located in the repo folder pre-train\n",
    "\n",
    "# netT = torch.load('29_auto_aug_eo_sar_noimagenet/pre_resnet34_eo_epoch99.pt')\n",
    "criterion2 = nn.KLDivLoss()\n",
    "netT.eval()"
   ]
  },
  {
   "cell_type": "code",
   "execution_count": 31,
   "metadata": {},
   "outputs": [],
   "source": [
    "from tqdm.notebook import trange\n",
    "from tqdm import tqdm_notebook as tqdm \n",
    "import warnings\n",
    "warnings.filterwarnings('ignore')\n",
    "def train_model(model, criterion, optimizer, scheduler, num_epochs=25):\n",
    "    since = time.time()\n",
    "    print(\"---------------Start KD FIT( TEACHER AND STUDENT )-----------------\")\n",
    "    best_model_wts = copy.deepcopy(model.state_dict())\n",
    "    best_acc = 0.0\n",
    "    best_train_acc = 0.0\n",
    "    \n",
    "    kd_alpha = 0.2\n",
    "    \n",
    "    Loss_list = []\n",
    "    Accuracy_list = []\n",
    "    T_Loss_list = []\n",
    "    T_Accuracy_list = []\n",
    "\n",
    "    for epoch in trange(num_epochs):\n",
    "        print('Epoch {}/{}'.format(epoch, num_epochs - 1))\n",
    " \n",
    "        # Each epoch has a training and validation phase\n",
    "        for phase in ['Training', 'Test']:#['Test','Training']: #:\n",
    "            if phase == 'Training':\n",
    "                model.train()  # Set model to training mode\n",
    "            else:\n",
    "                model.eval()   # Set model to evaluate mode\n",
    "\n",
    "            running_loss = 0.0\n",
    "            running_corrects = 0\n",
    "            \n",
    "            \n",
    "\n",
    "\n",
    "            # Iterate over data.\n",
    "            \n",
    "            \n",
    "            if phase == 'Training':\n",
    "            \n",
    "                for SAR, EO in tqdm(data_loader):\n",
    "                    inputs, labels = EO[0], EO[1]\n",
    "                    inputs = inputs.to(device)\n",
    "\n",
    "                    labels = labels.to(device)\n",
    "\n",
    "                    T_input, T_labels = SAR[0], SAR[1]\n",
    "                    T_input = T_input.to(device)\n",
    "                    T_labels = T_labels.to(device)\n",
    "        #                 print(T_labels, labels)\n",
    "        #                 labels = torch.argmax(labels, 0)\n",
    "        #                 T_labels = torch.argmax(T_labels, 0)\n",
    "\n",
    "#                     confusion_matrix = torch.zeros(10, 10)\n",
    "            \n",
    "                    # zero the parameter gradients\n",
    "                    optimizer.zero_grad()\n",
    "\n",
    "                    # forward\n",
    "                    # track history if only in train\n",
    "                    with torch.no_grad():\n",
    "                        soft_target = netT(T_input)\n",
    "                    with torch.set_grad_enabled(phase == 'Training'):\n",
    "                        outputs = model(inputs) # _, \n",
    "                        #print(outputs.dim())\n",
    "\n",
    "                        _, preds = torch.max(outputs, 1)\n",
    "\n",
    "#                         for t, p in zip(labels.view(-1), preds.view(-1)):\n",
    "#                             confusion_matrix[t.long(), p.long()] += 1\n",
    "#                         print(confusion_matrix.diag()/confusion_matrix.sum(1))\n",
    "                        \n",
    "        #                     _, T_preds = torch.max(soft_target, 1)\n",
    "                        T = 2\n",
    "                        outputs_S = F.log_softmax(outputs/T, dim=1)\n",
    "                        outputs_T = F.softmax(soft_target/T, dim=1)\n",
    "        #                     print(outputs_S.size())\n",
    "        #                     print(outputs_T.size())\n",
    "\n",
    "                        loss2 = criterion2(outputs_S, outputs_T) * T * T\n",
    "                        #print(preds)\n",
    "\n",
    "                        if phase == 'Training':\n",
    "                            inputs, y_a, y_b, lam = mixup_data(inputs, labels)\n",
    "                            inputs, y_a, y_b = map(Variable, (inputs, y_a, y_b))\n",
    "        #                         print(y_a)\n",
    "        #                         print(y_b)\n",
    "\n",
    "                            loss = mixup_criterion(criterion, outputs, y_a, y_b, lam)\n",
    "                            loss = loss*(1-kd_alpha) + loss2*kd_alpha\n",
    "                        else:\n",
    "\n",
    "                            loss = criterion(outputs, labels)\n",
    "                            loss = loss*(1-kd_alpha) + loss2*kd_alpha\n",
    "\n",
    "                        # backward + optimize only if in training phase\n",
    "                        if phase == 'Training':\n",
    "                            loss.backward()\n",
    "                            optimizer.step()\n",
    "\n",
    "\n",
    "                    # statistics\n",
    "                    running_loss += loss.item() * inputs.size(0)\n",
    "                    running_corrects += torch.sum(preds == labels.data)\n",
    "                if phase == 'Training':\n",
    "                    scheduler.step()\n",
    "\n",
    "                epoch_loss = running_loss / train_size\n",
    "                epoch_acc = running_corrects.double() / train_size\n",
    "\n",
    "                print('{} Loss: {:.4f} Acc: {:.4f}'.format(\n",
    "                    phase, epoch_loss, epoch_acc))\n",
    "\n",
    "                if phase == \"Training\":\n",
    "                    Loss_list.append(epoch_loss)\n",
    "                    Accuracy_list.append(100 * epoch_acc)\n",
    "                else:\n",
    "                    T_Loss_list.append(epoch_loss)\n",
    "                    T_Accuracy_list.append(100 * epoch_acc)\n",
    "\n",
    "\n",
    "\n",
    "                # deep copy the model\n",
    "                if phase == 'Test' and epoch_acc > best_acc:\n",
    "                    best_acc = epoch_acc\n",
    "                    best_model_wts = copy.deepcopy(model.state_dict())\n",
    "                    PATH = os.path.join(str(exp_num), \"resnet34_kd_best.pt\")#\"resnet18_model_epoch{}.pt\".format(epoch)\n",
    "                    if not os.path.exists(str(exp_num)):\n",
    "                        os.makedirs(str(exp_num))\n",
    "                    torch.save(model, PATH)\n",
    "                    time_elapsed = time.time() - since\n",
    "                    print('Time from Start {:.0f}m {:.0f}s'.format(\n",
    "                        time_elapsed // 60, time_elapsed % 60))\n",
    "\n",
    "                if phase == 'Training' and epoch_acc > best_train_acc:\n",
    "                    best_train_acc = epoch_acc\n",
    "    #                 PATH = os.path.join(str(exp_num), \"resnet34_kd_best.pt\")#\"resnet18_model_epoch{}.pt\".format(epoch)\n",
    "    #                 if not os.path.exists(str(exp_num)):\n",
    "    #                     os.makedirs(str(exp_num))\n",
    "    #                 torch.save(model, PATH)\n",
    "    \n",
    "    \n",
    "    #############################################################################\n",
    "            elif phase == 'Test':\n",
    "                acc_matrix_sum = torch.zeros(10)\n",
    "                \n",
    "                for SAR, EO in tqdm(test_loader):\n",
    "                    inputs, labels = EO[0], EO[1]\n",
    "                    inputs = inputs.to(device)\n",
    "#                     print(inputs)\n",
    "\n",
    "                    labels = labels.to(device)\n",
    "\n",
    "                    T_input, T_labels = SAR[0], SAR[1]\n",
    "                    T_input = T_input.to(device)\n",
    "                    T_labels = T_labels.to(device)\n",
    "        #                 print(T_labels, labels)\n",
    "        #                 labels = torch.argmax(labels, 0)\n",
    "        #                 T_labels = torch.argmax(T_labels, 0)\n",
    "\n",
    "\n",
    "                    # zero the parameter gradients\n",
    "                    optimizer.zero_grad()\n",
    "\n",
    "                    # forward\n",
    "                    # track history if only in train\n",
    "                    with torch.no_grad():\n",
    "                        soft_target = netT(T_input)\n",
    "                    with torch.set_grad_enabled(phase == 'Training'):\n",
    "                        outputs = model(inputs) # _, \n",
    "                        #print(outputs.dim())\n",
    "\n",
    "                        _, preds = torch.max(outputs, 1)\n",
    "                        \n",
    "                        confusion_matrix = torch.zeros(10, 10)\n",
    "                        for t, p in zip(labels.view(-1), preds.view(-1)):\n",
    "                            confusion_matrix[t.long(), p.long()] += 1\n",
    "                        acc_matrix_batch = (confusion_matrix.diag()/confusion_matrix.sum(1))\n",
    "                        \n",
    "\n",
    "\n",
    "        #                     _, T_preds = torch.max(soft_target, 1)\n",
    "                        T = 2\n",
    "                        outputs_S = F.log_softmax(outputs/T, dim=1)\n",
    "                        outputs_T = F.softmax(soft_target/T, dim=1)\n",
    "        #                     print(outputs_S.size())\n",
    "        #                     print(outputs_T.size())\n",
    "\n",
    "                        loss2 = criterion2(outputs_S, outputs_T) * T * T\n",
    "                        #print(preds)\n",
    "\n",
    "                        if phase == 'Training':\n",
    "                            inputs, y_a, y_b, lam = mixup_data(inputs, labels)\n",
    "                            inputs, y_a, y_b = map(Variable, (inputs, y_a, y_b))\n",
    "        #                         print(y_a)\n",
    "        #                         print(y_b)\n",
    "\n",
    "                            loss = mixup_criterion(criterion, outputs, y_a, y_b, lam)\n",
    "                            loss = loss*(1-kd_alpha) + loss2*kd_alpha\n",
    "                        else:\n",
    "\n",
    "                            loss = criterion(outputs, labels)\n",
    "                            loss = loss*(1-kd_alpha) + loss2*kd_alpha\n",
    "\n",
    "                        # backward + optimize only if in training phase\n",
    "                        if phase == 'Training':\n",
    "                            loss.backward()\n",
    "                            optimizer.step()\n",
    "\n",
    "\n",
    "                    # statistics\n",
    "                    running_loss += loss.item() * inputs.size(0)\n",
    "                    running_corrects += torch.sum(preds == labels.data)\n",
    "                    acc_matrix_sum += acc_matrix_batch\n",
    "                    \n",
    "                acc_matrix = acc_matrix_sum / test_size\n",
    "                print(\"acc for each class: {}\".format(acc_matrix))            \n",
    "                    #################\n",
    "                    \n",
    "                if phase == 'Training':\n",
    "                    scheduler.step()\n",
    "\n",
    "                epoch_loss = running_loss / test_size\n",
    "                epoch_acc = running_corrects.double() / test_size\n",
    "\n",
    "                print('{} Loss: {:.4f} Acc: {:.4f}'.format(\n",
    "                    phase, epoch_loss, epoch_acc))\n",
    "\n",
    "                if phase == \"Training\":\n",
    "                    Loss_list.append(epoch_loss)\n",
    "                    Accuracy_list.append(100 * epoch_acc)\n",
    "                else:\n",
    "                    T_Loss_list.append(epoch_loss)\n",
    "                    T_Accuracy_list.append(100 * epoch_acc)\n",
    "\n",
    "\n",
    "\n",
    "                # deep copy the model\n",
    "                if phase == 'Test' and epoch_acc > best_acc:\n",
    "                    best_acc = epoch_acc\n",
    "                    best_model_wts = copy.deepcopy(model.state_dict())\n",
    "                    PATH = os.path.join(str(exp_num), \"resnet34_kd_best.pt\")#\"resnet18_model_epoch{}.pt\".format(epoch)\n",
    "                    if not os.path.exists(str(exp_num)):\n",
    "                        os.makedirs(str(exp_num))\n",
    "                    torch.save(model, PATH)\n",
    "                    time_elapsed = time.time() - since\n",
    "                    print('Time from Start {:.0f}m {:.0f}s'.format(\n",
    "                        time_elapsed // 60, time_elapsed % 60))\n",
    "\n",
    "                if phase == 'Training' and epoch_acc > best_train_acc:\n",
    "                    best_train_acc = epoch_acc\n",
    "    #                 PATH = os.path.join(str(exp_num), \"resnet34_kd_best.pt\")#\"resnet18_model_epoch{}.pt\".format(epoch)\n",
    "    #                 if not os.path.exists(str(exp_num)):\n",
    "    #                     os.makedirs(str(exp_num))\n",
    "    #                 torch.save(model, PATH)\n",
    "\n",
    "\n",
    "        print()\n",
    "        PATH = os.path.join(str(exp_num), \"resnet34_kd{}.pt\".format(epoch))#\"resnet18_model_epoch{}.pt\".format(epoch)\n",
    "        if not os.path.exists(str(exp_num)):\n",
    "            os.makedirs(str(exp_num))\n",
    "        torch.save(model, PATH)\n",
    "#         torch.save(best_model_wts, \"best.pt\")\n",
    "\n",
    "    time_elapsed = time.time() - since\n",
    "    print('Training complete in {:.0f}m {:.0f}s'.format(\n",
    "        time_elapsed // 60, time_elapsed % 60))\n",
    "    print('Best train Acc: {:4f}'.format(best_train_acc))\n",
    "    print('Best val Acc: {:4f}'.format(best_acc))\n",
    "    \n",
    "\n",
    "    # load best model weights\n",
    "    model.load_state_dict(best_model_wts)\n",
    "    \n",
    "    \n",
    "    ##### PLOT\n",
    "    x1 = range(0, num_epochs)\n",
    "    x2 = range(0, num_epochs)\n",
    "    y1 = Accuracy_list\n",
    "    y2 = Loss_list\n",
    "    plt.subplot(2, 1, 1)\n",
    "    plt.plot(x1, y1, 'o-')\n",
    "    plt.title('Train accuracy vs. epoches')\n",
    "    plt.ylabel('Train accuracy')\n",
    "    plt.subplot(2, 1, 2)\n",
    "    plt.plot(x2, y2, '.-')\n",
    "    plt.xlabel('Train loss vs. epoches')\n",
    "    plt.ylabel('Train loss')\n",
    "    plt.show()\n",
    "    plt.savefig(\"Train_accuracy_loss.jpg\")\n",
    "    \n",
    "    x1 = range(0, num_epochs)\n",
    "    x2 = range(0, num_epochs)\n",
    "    y1 = T_Accuracy_list\n",
    "    y2 = T_Loss_list\n",
    "    plt.subplot(2, 1, 1)\n",
    "    plt.plot(x1, y1, 'o-')\n",
    "    plt.title('Test accuracy vs. epoches')\n",
    "    plt.ylabel('Test accuracy')\n",
    "    plt.subplot(2, 1, 2)\n",
    "    plt.plot(x2, y2, '.-')\n",
    "    plt.xlabel('Test loss vs. epoches')\n",
    "    plt.ylabel('Test loss')\n",
    "    plt.show()\n",
    "    plt.savefig(\"Test_accuracy_loss.jpg\")\n",
    "    \n",
    "    return model\n",
    "\n",
    "\n",
    "model_ft = model_ft.to(device)\n",
    "\n",
    "# #criterion = nn.CrossEntropyLoss()\n",
    "criterion = nn.CrossEntropyLoss(weight=weights) #weight=weights, "
   ]
  },
  {
   "cell_type": "code",
   "execution_count": 32,
   "metadata": {},
   "outputs": [],
   "source": [
    "# def train_model(model, criterion, optimizer, scheduler, num_epochs=25):\n",
    "#     since = time.time()\n",
    "#     print(\"---------------Start KD FIT( TEACHER AND STUDENT )-----------------\")\n",
    "#     best_model_wts = copy.deepcopy(model.state_dict())\n",
    "#     best_acc = 0.0\n",
    "#     best_train_acc = 0.0\n",
    "    \n",
    "#     kd_alpha = 0.8\n",
    "    \n",
    "#     Loss_list = []\n",
    "#     Accuracy_list = []\n",
    "#     T_Loss_list = []\n",
    "#     T_Accuracy_list = []\n",
    "\n",
    "#     for epoch in trange(num_epochs):\n",
    "#         print('Epoch {}/{}'.format(epoch, num_epochs - 1))\n",
    " \n",
    "#         # Each epoch has a training and validation phase\n",
    "#         for phase in ['Training', 'Test']:\n",
    "#             ##################################### train#############################\n",
    "#             if phase == 'Training':\n",
    "#                 model.train()  # Set model to training mode\n",
    "#             else:\n",
    "#                 model.eval()   # Set model to evaluate mode\n",
    "\n",
    "#             running_loss = 0.0\n",
    "#             running_corrects = 0\n",
    "\n",
    "#             # Iterate over data.\n",
    "#             if phase == \"Training\":\n",
    "#                 for SAR, EO in tqdm(data_loader):\n",
    "#                     inputs, labels = SAR[0], SAR[1]\n",
    "#                     inputs = inputs.to(device)\n",
    "\n",
    "#                     labels = labels.to(device)\n",
    "\n",
    "#                     T_input, T_labels = EO[0], EO[1]\n",
    "#                     T_input = T_input.to(device)\n",
    "#                     T_labels = T_labels.to(device)\n",
    "#         #                 print(T_labels, labels)\n",
    "#         #                 labels = torch.argmax(labels, 0)\n",
    "#         #                 T_labels = torch.argmax(T_labels, 0)\n",
    "\n",
    "\n",
    "#                     # zero the parameter gradients\n",
    "#                     optimizer.zero_grad()\n",
    "\n",
    "#                     # forward\n",
    "#                     # track history if only in train\n",
    "#                     with torch.no_grad():\n",
    "#                         soft_target = netT(T_input)\n",
    "#                     with torch.set_grad_enabled():\n",
    "#                         outputs = model(inputs) # _, \n",
    "#                         #print(outputs.dim())\n",
    "\n",
    "#                         _, preds = torch.max(outputs, 1)\n",
    "\n",
    "\n",
    "#         #                     _, T_preds = torch.max(soft_target, 1)\n",
    "#                         T = 2\n",
    "#                         outputs_S = F.log_softmax(outputs/T, dim=1)\n",
    "#                         outputs_T = F.softmax(soft_target/T, dim=1)\n",
    "#         #                     print(outputs_S.size())\n",
    "#         #                     print(outputs_T.size())\n",
    "\n",
    "#                         loss2 = criterion2(outputs_S, outputs_T) * T * T\n",
    "#                         #print(preds)\n",
    "\n",
    "\n",
    "#                         inputs, y_a, y_b, lam = mixup_data(inputs, labels)\n",
    "#                         inputs, y_a, y_b = map(Variable, (inputs, y_a, y_b))\n",
    "#     #                         print(y_a)\n",
    "#     #                         print(y_b)\n",
    "\n",
    "#                         loss = mixup_criterion(criterion, outputs, y_a, y_b, lam)\n",
    "#                         loss = loss*(1-kd_alpha) + loss2*kd_alpha\n",
    "#                         running_loss += loss.item() * inputs.size(0)\n",
    "#                         running_corrects += torch.sum(preds == labels.data) \n",
    "\n",
    "#                         loss.backward()\n",
    "#                         optimizer.step()\n",
    "#                         scheduler.step()\n",
    "\n",
    "        \n",
    "        \n",
    "#         ##############################test#############################\n",
    "#             else:\n",
    "#                 for SAR, EO in tqdm(test_data_loader):\n",
    "#                     inputs, labels = SAR[0], SAR[1]\n",
    "#                     inputs = inputs.to(device)\n",
    "\n",
    "#                     labels = labels.to(device)\n",
    "\n",
    "#                     T_input, T_labels = EO[0], EO[1]\n",
    "#                     T_input = T_input.to(device)\n",
    "#                     T_labels = T_labels.to(device)\n",
    "\n",
    "\n",
    "\n",
    "\n",
    "#                     optimizer.zero_grad()\n",
    "\n",
    "#                     # forward\n",
    "#                     # track history if only in train\n",
    "#                     with torch.no_grad():\n",
    "#                         soft_target = netT(T_input)\n",
    "\n",
    "#                     outputs = model(inputs) # _, \n",
    "#                         #print(outputs.dim())\n",
    "\n",
    "#                     _, preds = torch.max(outputs, 1)\n",
    "\n",
    "\n",
    "#     #                     _, T_preds = torch.max(soft_target, 1)\n",
    "#                     T = 2\n",
    "#                     outputs_S = F.log_softmax(outputs/T, dim=1)\n",
    "#                     outputs_T = F.softmax(soft_target/T, dim=1)\n",
    "#     #                     print(outputs_S.size())\n",
    "#     #                     print(outputs_T.size())\n",
    "\n",
    "#                     loss2 = criterion2(outputs_S, outputs_T) * T * T\n",
    "\n",
    "#                     loss = criterion(outputs, labels)\n",
    "#                     loss = loss*(1-kd_alpha) + loss2*kd_alpha\n",
    "#                 ################################\n",
    "\n",
    "#                     running_loss += loss.item() * inputs.size(0)\n",
    "#                     running_corrects += torch.sum(preds == labels.data)    \n",
    "                \n",
    "#             epoch_loss = running_loss / dataset_sizes[phase]\n",
    "#             epoch_acc = running_corrects.double() / dataset_sizes[phase]\n",
    "\n",
    "#             print('{} Loss: {:.4f} Acc: {:.4f}'.format(\n",
    "#                 phase, epoch_loss, epoch_acc))\n",
    "\n",
    "#             if phase == \"Training\":\n",
    "#                 Loss_list.append(epoch_loss)\n",
    "#                 Accuracy_list.append(100 * epoch_acc)\n",
    "#             else:\n",
    "#                 T_Loss_list.append(epoch_loss)\n",
    "#                 T_Accuracy_list.append(100 * epoch_acc)\n",
    "\n",
    "\n",
    "\n",
    "#             # deep copy the model\n",
    "#             if phase == 'Test' and epoch_acc > best_acc:\n",
    "#                 best_acc = epoch_acc\n",
    "#                 best_model_wts = copy.deepcopy(model.state_dict())\n",
    "#                 PATH = os.path.join(str(exp_num), \"resnet34_kd_best.pt\")#\"resnet18_model_epoch{}.pt\".format(epoch)\n",
    "#                 if not os.path.exists(str(exp_num)):\n",
    "#                     os.makedirs(str(exp_num))\n",
    "#                 torch.save(model, PATH)\n",
    "#                 time_elapsed = time.time() - since\n",
    "#                 print('Time from Start {:.0f}m {:.0f}s'.format(\n",
    "#                     time_elapsed // 60, time_elapsed % 60))\n",
    "\n",
    "#             if phase == 'Training' and epoch_acc > best_train_acc:\n",
    "#                 best_train_acc = epoch_acc\n",
    "#     #                 PATH = os.path.join(str(exp_num), \"resnet34_kd_best.pt\")#\"resnet18_model_epoch{}.pt\".format(epoch)\n",
    "#     #                 if not os.path.exists(str(exp_num)):\n",
    "#     #                     os.makedirs(str(exp_num))\n",
    "#     #                 torch.save(model, PATH)\n",
    "#         print()\n",
    "#         PATH = os.path.join(str(exp_num), \"resnet34_kd{}.pt\".format(epoch))#\"resnet18_model_epoch{}.pt\".format(epoch)\n",
    "#         if not os.path.exists(str(exp_num)):\n",
    "#             os.makedirs(str(exp_num))\n",
    "#         torch.save(model, PATH)\n",
    "        \n",
    "#     time_elapsed = time.time() - since\n",
    "#     print('Training complete in {:.0f}m {:.0f}s'.format(\n",
    "#         time_elapsed // 60, time_elapsed % 60))\n",
    "#     print('Best train Acc: {:4f}'.format(best_train_acc))\n",
    "#     print('Best val Acc: {:4f}'.format(best_acc))\n",
    "    \n",
    "\n",
    "#     # load best model weights\n",
    "#     model.load_state_dict(best_model_wts)\n",
    "    \n",
    "    \n",
    "#     ##### PLOT\n",
    "#     x1 = range(0, num_epochs)\n",
    "#     x2 = range(0, num_epochs)\n",
    "#     y1 = Accuracy_list\n",
    "#     y2 = Loss_list\n",
    "#     plt.subplot(2, 1, 1)\n",
    "#     plt.plot(x1, y1, 'o-')\n",
    "#     plt.title('Train accuracy vs. epoches')\n",
    "#     plt.ylabel('Train accuracy')\n",
    "#     plt.subplot(2, 1, 2)\n",
    "#     plt.plot(x2, y2, '.-')\n",
    "#     plt.xlabel('Train loss vs. epoches')\n",
    "#     plt.ylabel('Train loss')\n",
    "#     plt.show()\n",
    "#     plt.savefig(\"Train_accuracy_loss.jpg\")\n",
    "    \n",
    "#     x1 = range(0, num_epochs)\n",
    "#     x2 = range(0, num_epochs)\n",
    "#     y1 = T_Accuracy_list\n",
    "#     y2 = T_Loss_list\n",
    "#     plt.subplot(2, 1, 1)\n",
    "#     plt.plot(x1, y1, 'o-')\n",
    "#     plt.title('Test accuracy vs. epoches')\n",
    "#     plt.ylabel('Test accuracy')\n",
    "#     plt.subplot(2, 1, 2)\n",
    "#     plt.plot(x2, y2, '.-')\n",
    "#     plt.xlabel('Test loss vs. epoches')\n",
    "#     plt.ylabel('Test loss')\n",
    "#     plt.show()\n",
    "#     plt.savefig(\"Test_accuracy_loss.jpg\")\n",
    "    \n",
    "#     return model\n",
    "\n",
    "\n",
    "# model_ft = model_ft.to(device)\n",
    "\n",
    "# # #criterion = nn.CrossEntropyLoss()\n",
    "# criterion = nn.CrossEntropyLoss(weight=weights) #weight=weights, \n",
    "        \n",
    "                \n",
    "                "
   ]
  },
  {
   "cell_type": "code",
   "execution_count": 31,
   "metadata": {},
   "outputs": [],
   "source": [
    "# os.environ[\"CUDA_LAUNCH_BLOCKING\"] = \"1\"\n"
   ]
  },
  {
   "cell_type": "code",
   "execution_count": 32,
   "metadata": {
    "scrolled": true
   },
   "outputs": [
    {
     "name": "stdout",
     "output_type": "stream",
     "text": [
      "---------------Start KD FIT( TEACHER AND STUDENT )-----------------\n"
     ]
    },
    {
     "data": {
      "application/vnd.jupyter.widget-view+json": {
       "model_id": "d4040d273eb44c89adaa6e0263870599",
       "version_major": 2,
       "version_minor": 0
      },
      "text/plain": [
       "HBox(children=(HTML(value=''), FloatProgress(value=0.0, max=120.0), HTML(value='')))"
      ]
     },
     "metadata": {},
     "output_type": "display_data"
    },
    {
     "name": "stdout",
     "output_type": "stream",
     "text": [
      "Epoch 0/119\n"
     ]
    },
    {
     "data": {
      "application/vnd.jupyter.widget-view+json": {
       "model_id": "e0c891cef368412b86dbc3f4dd9fadfa",
       "version_major": 2,
       "version_minor": 0
      },
      "text/plain": [
       "HBox(children=(HTML(value=''), FloatProgress(value=0.0, max=573.0), HTML(value='')))"
      ]
     },
     "metadata": {},
     "output_type": "display_data"
    },
    {
     "name": "stdout",
     "output_type": "stream",
     "text": [
      "\n",
      "Training Loss: 1.4487 Acc: 0.4596\n"
     ]
    },
    {
     "data": {
      "application/vnd.jupyter.widget-view+json": {
       "model_id": "f7a6e770d94744b3a3c0f102c6d31e91",
       "version_major": 2,
       "version_minor": 0
      },
      "text/plain": [
       "HBox(children=(HTML(value=''), FloatProgress(value=0.0, max=2.0), HTML(value='')))"
      ]
     },
     "metadata": {},
     "output_type": "display_data"
    },
    {
     "name": "stdout",
     "output_type": "stream",
     "text": [
      "\n",
      "acc for each class: tensor([0.0011, 0.0018, 0.0024, 0.0023, 0.0024, 0.0023, 0.0024, 0.0024, 0.0024,\n",
      "        0.0024])\n",
      "Test Loss: 0.1740 Acc: 0.9106\n",
      "Time from Start 14m 59s\n",
      "\n",
      "Epoch 1/119\n"
     ]
    },
    {
     "data": {
      "application/vnd.jupyter.widget-view+json": {
       "model_id": "a4c7ac4aff014749bae90e609fbb1e39",
       "version_major": 2,
       "version_minor": 0
      },
      "text/plain": [
       "HBox(children=(HTML(value=''), FloatProgress(value=0.0, max=573.0), HTML(value='')))"
      ]
     },
     "metadata": {},
     "output_type": "display_data"
    },
    {
     "name": "stdout",
     "output_type": "stream",
     "text": [
      "\n",
      "Training Loss: 1.3272 Acc: 0.5487\n"
     ]
    },
    {
     "data": {
      "application/vnd.jupyter.widget-view+json": {
       "model_id": "9db05807ba3c4067ba3b5d5f11d78d35",
       "version_major": 2,
       "version_minor": 0
      },
      "text/plain": [
       "HBox(children=(HTML(value=''), FloatProgress(value=0.0, max=2.0), HTML(value='')))"
      ]
     },
     "metadata": {},
     "output_type": "display_data"
    },
    {
     "name": "stdout",
     "output_type": "stream",
     "text": [
      "\n",
      "acc for each class: tensor([0.0013, 0.0022, 0.0024, 0.0023, 0.0024, 0.0023, 0.0024, 0.0023, 0.0024,\n",
      "        0.0024])\n",
      "Test Loss: 0.1576 Acc: 0.9229\n",
      "Time from Start 30m 4s\n",
      "\n",
      "Epoch 2/119\n"
     ]
    },
    {
     "data": {
      "application/vnd.jupyter.widget-view+json": {
       "model_id": "f0fea123119742b796dbc06ee5139fed",
       "version_major": 2,
       "version_minor": 0
      },
      "text/plain": [
       "HBox(children=(HTML(value=''), FloatProgress(value=0.0, max=573.0), HTML(value='')))"
      ]
     },
     "metadata": {},
     "output_type": "display_data"
    },
    {
     "name": "stdout",
     "output_type": "stream",
     "text": [
      "\n",
      "Training Loss: 1.3115 Acc: 0.5910\n"
     ]
    },
    {
     "data": {
      "application/vnd.jupyter.widget-view+json": {
       "model_id": "195f610dc90340f8849901f03f4c437d",
       "version_major": 2,
       "version_minor": 0
      },
      "text/plain": [
       "HBox(children=(HTML(value=''), FloatProgress(value=0.0, max=2.0), HTML(value='')))"
      ]
     },
     "metadata": {},
     "output_type": "display_data"
    },
    {
     "name": "stdout",
     "output_type": "stream",
     "text": [
      "\n",
      "acc for each class: tensor([0.0017, 0.0022, 0.0024, 0.0023, 0.0024, 0.0023, 0.0024, 0.0023, 0.0024,\n",
      "        0.0024])\n",
      "Test Loss: 0.1389 Acc: 0.9425\n",
      "Time from Start 44m 55s\n",
      "\n",
      "Epoch 3/119\n"
     ]
    },
    {
     "data": {
      "application/vnd.jupyter.widget-view+json": {
       "model_id": "b6b6f78624bd474d80167373f30a111c",
       "version_major": 2,
       "version_minor": 0
      },
      "text/plain": [
       "HBox(children=(HTML(value=''), FloatProgress(value=0.0, max=573.0), HTML(value='')))"
      ]
     },
     "metadata": {},
     "output_type": "display_data"
    },
    {
     "name": "stdout",
     "output_type": "stream",
     "text": [
      "\n",
      "Training Loss: 1.3264 Acc: 0.6179\n"
     ]
    },
    {
     "data": {
      "application/vnd.jupyter.widget-view+json": {
       "model_id": "2a20e1a8f1e846f8a4e4caf69ca5b734",
       "version_major": 2,
       "version_minor": 0
      },
      "text/plain": [
       "HBox(children=(HTML(value=''), FloatProgress(value=0.0, max=2.0), HTML(value='')))"
      ]
     },
     "metadata": {},
     "output_type": "display_data"
    },
    {
     "name": "stdout",
     "output_type": "stream",
     "text": [
      "\n",
      "acc for each class: tensor([0.0017, 0.0022, 0.0024, 0.0023, 0.0024, 0.0023, 0.0024, 0.0023, 0.0024,\n",
      "        0.0024])\n",
      "Test Loss: 0.1667 Acc: 0.9388\n",
      "\n",
      "Epoch 4/119\n"
     ]
    },
    {
     "data": {
      "application/vnd.jupyter.widget-view+json": {
       "model_id": "f71631431f71448b85739518656fd110",
       "version_major": 2,
       "version_minor": 0
      },
      "text/plain": [
       "HBox(children=(HTML(value=''), FloatProgress(value=0.0, max=573.0), HTML(value='')))"
      ]
     },
     "metadata": {},
     "output_type": "display_data"
    },
    {
     "name": "stdout",
     "output_type": "stream",
     "text": [
      "\n",
      "Training Loss: 1.2916 Acc: 0.6352\n"
     ]
    },
    {
     "data": {
      "application/vnd.jupyter.widget-view+json": {
       "model_id": "af55f2cb02e04ec4adc1c9ceb808f035",
       "version_major": 2,
       "version_minor": 0
      },
      "text/plain": [
       "HBox(children=(HTML(value=''), FloatProgress(value=0.0, max=2.0), HTML(value='')))"
      ]
     },
     "metadata": {},
     "output_type": "display_data"
    },
    {
     "name": "stdout",
     "output_type": "stream",
     "text": [
      "\n",
      "acc for each class: tensor([0.0018, 0.0022, 0.0024, 0.0023, 0.0024, 0.0023, 0.0024, 0.0024, 0.0024,\n",
      "        0.0024])\n",
      "Test Loss: 0.1616 Acc: 0.9523\n",
      "Time from Start 72m 34s\n",
      "\n",
      "Epoch 5/119\n"
     ]
    },
    {
     "data": {
      "application/vnd.jupyter.widget-view+json": {
       "model_id": "3a07820c631a42d289e1511ab869b29f",
       "version_major": 2,
       "version_minor": 0
      },
      "text/plain": [
       "HBox(children=(HTML(value=''), FloatProgress(value=0.0, max=573.0), HTML(value='')))"
      ]
     },
     "metadata": {},
     "output_type": "display_data"
    },
    {
     "name": "stdout",
     "output_type": "stream",
     "text": [
      "\n",
      "Training Loss: 1.3193 Acc: 0.5770\n"
     ]
    },
    {
     "data": {
      "application/vnd.jupyter.widget-view+json": {
       "model_id": "2cc044ffd0cc4082b276579e0cc07a5e",
       "version_major": 2,
       "version_minor": 0
      },
      "text/plain": [
       "HBox(children=(HTML(value=''), FloatProgress(value=0.0, max=2.0), HTML(value='')))"
      ]
     },
     "metadata": {},
     "output_type": "display_data"
    },
    {
     "name": "stdout",
     "output_type": "stream",
     "text": [
      "\n",
      "acc for each class: tensor([0.0014, 0.0017, 0.0023, 0.0023, 0.0024, 0.0022, 0.0024, 0.0020, 0.0024,\n",
      "        0.0024])\n",
      "Test Loss: 0.1971 Acc: 0.9009\n",
      "\n",
      "Epoch 6/119\n"
     ]
    },
    {
     "data": {
      "application/vnd.jupyter.widget-view+json": {
       "model_id": "663106e283ee4706ac60142032761c83",
       "version_major": 2,
       "version_minor": 0
      },
      "text/plain": [
       "HBox(children=(HTML(value=''), FloatProgress(value=0.0, max=573.0), HTML(value='')))"
      ]
     },
     "metadata": {},
     "output_type": "display_data"
    },
    {
     "name": "stdout",
     "output_type": "stream",
     "text": [
      "\n",
      "Training Loss: 1.3110 Acc: 0.5821\n"
     ]
    },
    {
     "data": {
      "application/vnd.jupyter.widget-view+json": {
       "model_id": "70310c12318b4dbe952245f304cb519e",
       "version_major": 2,
       "version_minor": 0
      },
      "text/plain": [
       "HBox(children=(HTML(value=''), FloatProgress(value=0.0, max=2.0), HTML(value='')))"
      ]
     },
     "metadata": {},
     "output_type": "display_data"
    },
    {
     "name": "stdout",
     "output_type": "stream",
     "text": [
      "\n",
      "acc for each class: tensor([0.0015, 0.0021, 0.0024, 0.0023, 0.0024, 0.0021, 0.0024, 0.0023, 0.0024,\n",
      "        0.0024])\n",
      "Test Loss: 0.1858 Acc: 0.9315\n",
      "\n",
      "Epoch 7/119\n"
     ]
    },
    {
     "data": {
      "application/vnd.jupyter.widget-view+json": {
       "model_id": "e08121c654d34e869d7f28a8bdf8116d",
       "version_major": 2,
       "version_minor": 0
      },
      "text/plain": [
       "HBox(children=(HTML(value=''), FloatProgress(value=0.0, max=573.0), HTML(value='')))"
      ]
     },
     "metadata": {},
     "output_type": "display_data"
    },
    {
     "name": "stdout",
     "output_type": "stream",
     "text": [
      "\n",
      "Training Loss: 1.3065 Acc: 0.6014\n"
     ]
    },
    {
     "data": {
      "application/vnd.jupyter.widget-view+json": {
       "model_id": "066367b1848941d8a3499a71bd3fcfa8",
       "version_major": 2,
       "version_minor": 0
      },
      "text/plain": [
       "HBox(children=(HTML(value=''), FloatProgress(value=0.0, max=2.0), HTML(value='')))"
      ]
     },
     "metadata": {},
     "output_type": "display_data"
    },
    {
     "name": "stdout",
     "output_type": "stream",
     "text": [
      "\n",
      "acc for each class: tensor([0.0015, 0.0021, 0.0024, 0.0024, 0.0024, 0.0022, 0.0024, 0.0023, 0.0024,\n",
      "        0.0024])\n",
      "Test Loss: 0.1933 Acc: 0.9327\n",
      "\n",
      "Epoch 8/119\n"
     ]
    },
    {
     "data": {
      "application/vnd.jupyter.widget-view+json": {
       "model_id": "3e2da4dd86d94abda9d9d6b6fcedce5b",
       "version_major": 2,
       "version_minor": 0
      },
      "text/plain": [
       "HBox(children=(HTML(value=''), FloatProgress(value=0.0, max=573.0), HTML(value='')))"
      ]
     },
     "metadata": {},
     "output_type": "display_data"
    },
    {
     "name": "stdout",
     "output_type": "stream",
     "text": [
      "\n",
      "Training Loss: 1.2973 Acc: 0.6075\n"
     ]
    },
    {
     "data": {
      "application/vnd.jupyter.widget-view+json": {
       "model_id": "5b11dad7f0a94a3db6306354000899ba",
       "version_major": 2,
       "version_minor": 0
      },
      "text/plain": [
       "HBox(children=(HTML(value=''), FloatProgress(value=0.0, max=2.0), HTML(value='')))"
      ]
     },
     "metadata": {},
     "output_type": "display_data"
    },
    {
     "name": "stdout",
     "output_type": "stream",
     "text": [
      "\n",
      "acc for each class: tensor([0.0019, 0.0021, 0.0024, 0.0024, 0.0024, 0.0023, 0.0024, 0.0023, 0.0024,\n",
      "        0.0024])\n",
      "Test Loss: 0.1870 Acc: 0.9437\n",
      "\n",
      "Epoch 9/119\n"
     ]
    },
    {
     "data": {
      "application/vnd.jupyter.widget-view+json": {
       "model_id": "6d1868ab166f4132b2d6c619c4f10ffa",
       "version_major": 2,
       "version_minor": 0
      },
      "text/plain": [
       "HBox(children=(HTML(value=''), FloatProgress(value=0.0, max=573.0), HTML(value='')))"
      ]
     },
     "metadata": {},
     "output_type": "display_data"
    },
    {
     "name": "stdout",
     "output_type": "stream",
     "text": [
      "\n",
      "Training Loss: 1.2680 Acc: 0.6427\n"
     ]
    },
    {
     "data": {
      "application/vnd.jupyter.widget-view+json": {
       "model_id": "085fedf8671945e99cd04aece79391d2",
       "version_major": 2,
       "version_minor": 0
      },
      "text/plain": [
       "HBox(children=(HTML(value=''), FloatProgress(value=0.0, max=2.0), HTML(value='')))"
      ]
     },
     "metadata": {},
     "output_type": "display_data"
    },
    {
     "name": "stdout",
     "output_type": "stream",
     "text": [
      "\n",
      "acc for each class: tensor([0.0016, 0.0021, 0.0023, 0.0024, 0.0024, 0.0022, 0.0024, 0.0021, 0.0024,\n",
      "        0.0024])\n",
      "Test Loss: 0.1802 Acc: 0.9253\n",
      "\n",
      "Epoch 10/119\n"
     ]
    },
    {
     "data": {
      "application/vnd.jupyter.widget-view+json": {
       "model_id": "76bebe20631a435e92ac4bff0018c4c8",
       "version_major": 2,
       "version_minor": 0
      },
      "text/plain": [
       "HBox(children=(HTML(value=''), FloatProgress(value=0.0, max=573.0), HTML(value='')))"
      ]
     },
     "metadata": {},
     "output_type": "display_data"
    },
    {
     "name": "stdout",
     "output_type": "stream",
     "text": [
      "\n",
      "Training Loss: 1.3064 Acc: 0.6713\n"
     ]
    },
    {
     "data": {
      "application/vnd.jupyter.widget-view+json": {
       "model_id": "9cc236fe0cc44ec58845488b317608a2",
       "version_major": 2,
       "version_minor": 0
      },
      "text/plain": [
       "HBox(children=(HTML(value=''), FloatProgress(value=0.0, max=2.0), HTML(value='')))"
      ]
     },
     "metadata": {},
     "output_type": "display_data"
    },
    {
     "name": "stdout",
     "output_type": "stream",
     "text": [
      "\n",
      "acc for each class: tensor([0.0000, 0.0000, 0.0000, 0.0000, 0.0000, 0.0000, 0.0000, 0.0000, 0.0024,\n",
      "        0.0000])\n",
      "Test Loss: 105291.1739 Acc: 0.0967\n",
      "\n",
      "Epoch 11/119\n"
     ]
    },
    {
     "data": {
      "application/vnd.jupyter.widget-view+json": {
       "model_id": "a9c0038f568047828007e50e28f29757",
       "version_major": 2,
       "version_minor": 0
      },
      "text/plain": [
       "HBox(children=(HTML(value=''), FloatProgress(value=0.0, max=573.0), HTML(value='')))"
      ]
     },
     "metadata": {},
     "output_type": "display_data"
    },
    {
     "name": "stdout",
     "output_type": "stream",
     "text": [
      "\n",
      "Training Loss: 1.8478 Acc: 0.1950\n"
     ]
    },
    {
     "data": {
      "application/vnd.jupyter.widget-view+json": {
       "model_id": "d8635c2dba31482cbee82a0bdb97d9ee",
       "version_major": 2,
       "version_minor": 0
      },
      "text/plain": [
       "HBox(children=(HTML(value=''), FloatProgress(value=0.0, max=2.0), HTML(value='')))"
      ]
     },
     "metadata": {},
     "output_type": "display_data"
    },
    {
     "name": "stdout",
     "output_type": "stream",
     "text": [
      "\n",
      "acc for each class: tensor([0.0002, 0.0002, 0.0002, 0.0001, 0.0024, 0.0019, 0.0000, 0.0016, 0.0015,\n",
      "        0.0016])\n",
      "Test Loss: 1.3059 Acc: 0.4149\n",
      "\n",
      "Epoch 12/119\n"
     ]
    },
    {
     "data": {
      "application/vnd.jupyter.widget-view+json": {
       "model_id": "6dae8e1b96004ed498bf9dd338f9c3fa",
       "version_major": 2,
       "version_minor": 0
      },
      "text/plain": [
       "HBox(children=(HTML(value=''), FloatProgress(value=0.0, max=573.0), HTML(value='')))"
      ]
     },
     "metadata": {},
     "output_type": "display_data"
    },
    {
     "name": "stdout",
     "output_type": "stream",
     "text": [
      "\n",
      "Training Loss: 1.7851 Acc: 0.1240\n"
     ]
    },
    {
     "data": {
      "application/vnd.jupyter.widget-view+json": {
       "model_id": "93e7fcfc40574de3925e3191d4593242",
       "version_major": 2,
       "version_minor": 0
      },
      "text/plain": [
       "HBox(children=(HTML(value=''), FloatProgress(value=0.0, max=2.0), HTML(value='')))"
      ]
     },
     "metadata": {},
     "output_type": "display_data"
    },
    {
     "name": "stdout",
     "output_type": "stream",
     "text": [
      "\n",
      "acc for each class: tensor([0.0004, 0.0002, 0.0006, 0.0006, 0.0024, 0.0019, 0.0020, 0.0021, 0.0012,\n",
      "        0.0022])\n",
      "Test Loss: 0.8350 Acc: 0.5728\n",
      "\n",
      "Epoch 13/119\n"
     ]
    },
    {
     "data": {
      "application/vnd.jupyter.widget-view+json": {
       "model_id": "4b4f3613e527432c94c234db88961deb",
       "version_major": 2,
       "version_minor": 0
      },
      "text/plain": [
       "HBox(children=(HTML(value=''), FloatProgress(value=0.0, max=573.0), HTML(value='')))"
      ]
     },
     "metadata": {},
     "output_type": "display_data"
    },
    {
     "name": "stdout",
     "output_type": "stream",
     "text": [
      "\n",
      "Training Loss: 1.6964 Acc: 0.1048\n"
     ]
    },
    {
     "data": {
      "application/vnd.jupyter.widget-view+json": {
       "model_id": "d1eea0e414644ca39e7e3ae815b76218",
       "version_major": 2,
       "version_minor": 0
      },
      "text/plain": [
       "HBox(children=(HTML(value=''), FloatProgress(value=0.0, max=2.0), HTML(value='')))"
      ]
     },
     "metadata": {},
     "output_type": "display_data"
    },
    {
     "name": "stdout",
     "output_type": "stream",
     "text": [
      "\n",
      "acc for each class: tensor([0.0001, 0.0005, 0.0009, 0.0012, 0.0024, 0.0018, 0.0024, 0.0021, 0.0015,\n",
      "        0.0023])\n",
      "Test Loss: 0.5579 Acc: 0.6414\n",
      "\n",
      "Epoch 14/119\n"
     ]
    },
    {
     "data": {
      "application/vnd.jupyter.widget-view+json": {
       "model_id": "7a65e67503354619bfe6e922702d283a",
       "version_major": 2,
       "version_minor": 0
      },
      "text/plain": [
       "HBox(children=(HTML(value=''), FloatProgress(value=0.0, max=573.0), HTML(value='')))"
      ]
     },
     "metadata": {},
     "output_type": "display_data"
    },
    {
     "name": "stdout",
     "output_type": "stream",
     "text": [
      "\n",
      "Training Loss: 1.6321 Acc: 0.1292\n"
     ]
    },
    {
     "data": {
      "application/vnd.jupyter.widget-view+json": {
       "model_id": "458391a18bc84067b2c869b3c1d19736",
       "version_major": 2,
       "version_minor": 0
      },
      "text/plain": [
       "HBox(children=(HTML(value=''), FloatProgress(value=0.0, max=2.0), HTML(value='')))"
      ]
     },
     "metadata": {},
     "output_type": "display_data"
    },
    {
     "name": "stdout",
     "output_type": "stream",
     "text": [
      "\n",
      "acc for each class: tensor([2.5500e-05, 7.1698e-04, 1.4134e-03, 1.1769e-03, 2.4269e-03, 1.9310e-03,\n",
      "        2.4480e-03, 2.0765e-03, 2.0070e-03, 2.0946e-03])\n",
      "Test Loss: 0.5115 Acc: 0.6830\n",
      "\n",
      "Epoch 15/119\n"
     ]
    },
    {
     "data": {
      "application/vnd.jupyter.widget-view+json": {
       "model_id": "ec090102b967407895c5b517c0b21521",
       "version_major": 2,
       "version_minor": 0
      },
      "text/plain": [
       "HBox(children=(HTML(value=''), FloatProgress(value=0.0, max=573.0), HTML(value='')))"
      ]
     },
     "metadata": {},
     "output_type": "display_data"
    },
    {
     "name": "stdout",
     "output_type": "stream",
     "text": [
      "\n",
      "Training Loss: 1.5530 Acc: 0.1626\n"
     ]
    },
    {
     "data": {
      "application/vnd.jupyter.widget-view+json": {
       "model_id": "a01ce4087bb04108aa427bd498a1b68d",
       "version_major": 2,
       "version_minor": 0
      },
      "text/plain": [
       "HBox(children=(HTML(value=''), FloatProgress(value=0.0, max=2.0), HTML(value='')))"
      ]
     },
     "metadata": {},
     "output_type": "display_data"
    },
    {
     "name": "stdout",
     "output_type": "stream",
     "text": [
      "\n",
      "acc for each class: tensor([0.0002, 0.0006, 0.0010, 0.0016, 0.0024, 0.0020, 0.0024, 0.0021, 0.0023,\n",
      "        0.0022])\n",
      "Test Loss: 0.3581 Acc: 0.7013\n",
      "\n",
      "Epoch 16/119\n"
     ]
    },
    {
     "data": {
      "application/vnd.jupyter.widget-view+json": {
       "model_id": "23214817d54f4b1a89b91c108a99815c",
       "version_major": 2,
       "version_minor": 0
      },
      "text/plain": [
       "HBox(children=(HTML(value=''), FloatProgress(value=0.0, max=573.0), HTML(value='')))"
      ]
     },
     "metadata": {},
     "output_type": "display_data"
    },
    {
     "name": "stdout",
     "output_type": "stream",
     "text": [
      "\n",
      "Training Loss: 1.5379 Acc: 0.1824\n"
     ]
    },
    {
     "data": {
      "application/vnd.jupyter.widget-view+json": {
       "model_id": "aecd330fd2e148e9a5aa4f81dcab6e1f",
       "version_major": 2,
       "version_minor": 0
      },
      "text/plain": [
       "HBox(children=(HTML(value=''), FloatProgress(value=0.0, max=2.0), HTML(value='')))"
      ]
     },
     "metadata": {},
     "output_type": "display_data"
    },
    {
     "name": "stdout",
     "output_type": "stream",
     "text": [
      "\n",
      "acc for each class: tensor([0.0002, 0.0010, 0.0017, 0.0015, 0.0024, 0.0022, 0.0024, 0.0021, 0.0024,\n",
      "        0.0023])\n",
      "Test Loss: 0.4032 Acc: 0.7613\n",
      "\n",
      "Epoch 17/119\n"
     ]
    },
    {
     "data": {
      "application/vnd.jupyter.widget-view+json": {
       "model_id": "044c83696d114ecd8bee4a6dd15b085e",
       "version_major": 2,
       "version_minor": 0
      },
      "text/plain": [
       "HBox(children=(HTML(value=''), FloatProgress(value=0.0, max=573.0), HTML(value='')))"
      ]
     },
     "metadata": {},
     "output_type": "display_data"
    },
    {
     "name": "stdout",
     "output_type": "stream",
     "text": [
      "\n",
      "Training Loss: 1.4859 Acc: 0.2216\n"
     ]
    },
    {
     "data": {
      "application/vnd.jupyter.widget-view+json": {
       "model_id": "bef6e280c2e949ba8a6c2d9f787f2922",
       "version_major": 2,
       "version_minor": 0
      },
      "text/plain": [
       "HBox(children=(HTML(value=''), FloatProgress(value=0.0, max=2.0), HTML(value='')))"
      ]
     },
     "metadata": {},
     "output_type": "display_data"
    },
    {
     "name": "stdout",
     "output_type": "stream",
     "text": [
      "\n",
      "acc for each class: tensor([0.0002, 0.0011, 0.0018, 0.0017, 0.0024, 0.0023, 0.0024, 0.0021, 0.0024,\n",
      "        0.0024])\n",
      "Test Loss: 0.2499 Acc: 0.7846\n",
      "\n",
      "Epoch 18/119\n"
     ]
    },
    {
     "data": {
      "application/vnd.jupyter.widget-view+json": {
       "model_id": "953d0d2bcf3447a2b018ce9b48b01aa9",
       "version_major": 2,
       "version_minor": 0
      },
      "text/plain": [
       "HBox(children=(HTML(value=''), FloatProgress(value=0.0, max=573.0), HTML(value='')))"
      ]
     },
     "metadata": {},
     "output_type": "display_data"
    },
    {
     "name": "stdout",
     "output_type": "stream",
     "text": [
      "\n",
      "Training Loss: 1.4787 Acc: 0.2501\n"
     ]
    },
    {
     "data": {
      "application/vnd.jupyter.widget-view+json": {
       "model_id": "2d2cd44a4a7b473296fa9a64ef72aa94",
       "version_major": 2,
       "version_minor": 0
      },
      "text/plain": [
       "HBox(children=(HTML(value=''), FloatProgress(value=0.0, max=2.0), HTML(value='')))"
      ]
     },
     "metadata": {},
     "output_type": "display_data"
    },
    {
     "name": "stdout",
     "output_type": "stream",
     "text": [
      "\n",
      "acc for each class: tensor([0.0003, 0.0013, 0.0019, 0.0021, 0.0024, 0.0020, 0.0024, 0.0021, 0.0023,\n",
      "        0.0023])\n",
      "Test Loss: 0.2937 Acc: 0.7993\n",
      "\n",
      "Epoch 19/119\n"
     ]
    },
    {
     "data": {
      "application/vnd.jupyter.widget-view+json": {
       "model_id": "4f129e070c1948229a22ee5d586c52a3",
       "version_major": 2,
       "version_minor": 0
      },
      "text/plain": [
       "HBox(children=(HTML(value=''), FloatProgress(value=0.0, max=573.0), HTML(value='')))"
      ]
     },
     "metadata": {},
     "output_type": "display_data"
    },
    {
     "name": "stdout",
     "output_type": "stream",
     "text": [
      "\n",
      "Training Loss: 1.4678 Acc: 0.2757\n"
     ]
    },
    {
     "data": {
      "application/vnd.jupyter.widget-view+json": {
       "model_id": "3ad90a864bea43a7a546b7769fc01e68",
       "version_major": 2,
       "version_minor": 0
      },
      "text/plain": [
       "HBox(children=(HTML(value=''), FloatProgress(value=0.0, max=2.0), HTML(value='')))"
      ]
     },
     "metadata": {},
     "output_type": "display_data"
    },
    {
     "name": "stdout",
     "output_type": "stream",
     "text": [
      "\n",
      "acc for each class: tensor([0.0006, 0.0011, 0.0020, 0.0020, 0.0024, 0.0020, 0.0024, 0.0021, 0.0024,\n",
      "        0.0024])\n",
      "Test Loss: 0.2799 Acc: 0.8152\n",
      "\n",
      "Epoch 20/119\n"
     ]
    },
    {
     "data": {
      "application/vnd.jupyter.widget-view+json": {
       "model_id": "ff2f3cccb40c4498aae714aaa534701b",
       "version_major": 2,
       "version_minor": 0
      },
      "text/plain": [
       "HBox(children=(HTML(value=''), FloatProgress(value=0.0, max=573.0), HTML(value='')))"
      ]
     },
     "metadata": {},
     "output_type": "display_data"
    },
    {
     "name": "stdout",
     "output_type": "stream",
     "text": [
      "\n",
      "Training Loss: 1.4439 Acc: 0.3076\n"
     ]
    },
    {
     "data": {
      "application/vnd.jupyter.widget-view+json": {
       "model_id": "b8a3c5a7d5064c1e8a0d5941a60465e0",
       "version_major": 2,
       "version_minor": 0
      },
      "text/plain": [
       "HBox(children=(HTML(value=''), FloatProgress(value=0.0, max=2.0), HTML(value='')))"
      ]
     },
     "metadata": {},
     "output_type": "display_data"
    },
    {
     "name": "stdout",
     "output_type": "stream",
     "text": [
      "\n",
      "acc for each class: tensor([0.0009, 0.0015, 0.0022, 0.0022, 0.0024, 0.0021, 0.0024, 0.0021, 0.0024,\n",
      "        0.0024])\n",
      "Test Loss: 0.2404 Acc: 0.8531\n",
      "\n",
      "Epoch 21/119\n"
     ]
    },
    {
     "data": {
      "application/vnd.jupyter.widget-view+json": {
       "model_id": "64810385df5a4680b0e2f0f8b4762bd9",
       "version_major": 2,
       "version_minor": 0
      },
      "text/plain": [
       "HBox(children=(HTML(value=''), FloatProgress(value=0.0, max=573.0), HTML(value='')))"
      ]
     },
     "metadata": {},
     "output_type": "display_data"
    },
    {
     "name": "stdout",
     "output_type": "stream",
     "text": [
      "\n",
      "Training Loss: 1.4104 Acc: 0.3348\n"
     ]
    },
    {
     "data": {
      "application/vnd.jupyter.widget-view+json": {
       "model_id": "95d2cff1436d4b49aafb6c984aa5bca1",
       "version_major": 2,
       "version_minor": 0
      },
      "text/plain": [
       "HBox(children=(HTML(value=''), FloatProgress(value=0.0, max=2.0), HTML(value='')))"
      ]
     },
     "metadata": {},
     "output_type": "display_data"
    },
    {
     "name": "stdout",
     "output_type": "stream",
     "text": [
      "\n",
      "acc for each class: tensor([0.0006, 0.0010, 0.0015, 0.0014, 0.0020, 0.0021, 0.0024, 0.0020, 0.0022,\n",
      "        0.0024])\n",
      "Test Loss: 0.3333 Acc: 0.7368\n",
      "\n",
      "Epoch 22/119\n"
     ]
    },
    {
     "data": {
      "application/vnd.jupyter.widget-view+json": {
       "model_id": "c36287cf2b5543468994e352435916bd",
       "version_major": 2,
       "version_minor": 0
      },
      "text/plain": [
       "HBox(children=(HTML(value=''), FloatProgress(value=0.0, max=573.0), HTML(value='')))"
      ]
     },
     "metadata": {},
     "output_type": "display_data"
    },
    {
     "name": "stdout",
     "output_type": "stream",
     "text": [
      "\n",
      "Training Loss: 1.5255 Acc: 0.2680\n"
     ]
    },
    {
     "data": {
      "application/vnd.jupyter.widget-view+json": {
       "model_id": "340f28a3498d4879be88613e88ffdf96",
       "version_major": 2,
       "version_minor": 0
      },
      "text/plain": [
       "HBox(children=(HTML(value=''), FloatProgress(value=0.0, max=2.0), HTML(value='')))"
      ]
     },
     "metadata": {},
     "output_type": "display_data"
    },
    {
     "name": "stdout",
     "output_type": "stream",
     "text": [
      "\n",
      "acc for each class: tensor([0.0007, 0.0012, 0.0022, 0.0021, 0.0024, 0.0022, 0.0024, 0.0021, 0.0024,\n",
      "        0.0024])\n",
      "Test Loss: 0.2613 Acc: 0.8274\n",
      "\n",
      "Epoch 23/119\n"
     ]
    },
    {
     "data": {
      "application/vnd.jupyter.widget-view+json": {
       "model_id": "e32dbafdd7d4492884484fc1fb6c524d",
       "version_major": 2,
       "version_minor": 0
      },
      "text/plain": [
       "HBox(children=(HTML(value=''), FloatProgress(value=0.0, max=573.0), HTML(value='')))"
      ]
     },
     "metadata": {},
     "output_type": "display_data"
    },
    {
     "name": "stdout",
     "output_type": "stream",
     "text": [
      "\n",
      "Training Loss: 1.4607 Acc: 0.3124\n"
     ]
    },
    {
     "data": {
      "application/vnd.jupyter.widget-view+json": {
       "model_id": "0c0b1cf03b8244ebb0b84659108ca50f",
       "version_major": 2,
       "version_minor": 0
      },
      "text/plain": [
       "HBox(children=(HTML(value=''), FloatProgress(value=0.0, max=2.0), HTML(value='')))"
      ]
     },
     "metadata": {},
     "output_type": "display_data"
    },
    {
     "name": "stdout",
     "output_type": "stream",
     "text": [
      "\n",
      "acc for each class: tensor([0.0007, 0.0013, 0.0020, 0.0021, 0.0024, 0.0023, 0.0024, 0.0021, 0.0024,\n",
      "        0.0024])\n",
      "Test Loss: 0.2593 Acc: 0.8384\n",
      "\n",
      "Epoch 24/119\n"
     ]
    },
    {
     "data": {
      "application/vnd.jupyter.widget-view+json": {
       "model_id": "fe602ccf495a4024b3ba646c3b7dea00",
       "version_major": 2,
       "version_minor": 0
      },
      "text/plain": [
       "HBox(children=(HTML(value=''), FloatProgress(value=0.0, max=573.0), HTML(value='')))"
      ]
     },
     "metadata": {},
     "output_type": "display_data"
    },
    {
     "name": "stdout",
     "output_type": "stream",
     "text": [
      "\n",
      "Training Loss: 1.4321 Acc: 0.3409\n"
     ]
    },
    {
     "data": {
      "application/vnd.jupyter.widget-view+json": {
       "model_id": "79c432a6b0224334b2aab56969c5f267",
       "version_major": 2,
       "version_minor": 0
      },
      "text/plain": [
       "HBox(children=(HTML(value=''), FloatProgress(value=0.0, max=2.0), HTML(value='')))"
      ]
     },
     "metadata": {},
     "output_type": "display_data"
    },
    {
     "name": "stdout",
     "output_type": "stream",
     "text": [
      "\n",
      "acc for each class: tensor([0.0010, 0.0015, 0.0022, 0.0021, 0.0024, 0.0022, 0.0024, 0.0024, 0.0024,\n",
      "        0.0024])\n",
      "Test Loss: 0.2258 Acc: 0.8629\n",
      "\n",
      "Epoch 25/119\n"
     ]
    },
    {
     "data": {
      "application/vnd.jupyter.widget-view+json": {
       "model_id": "eb4e2cfa61c34847afeef913f7ae2034",
       "version_major": 2,
       "version_minor": 0
      },
      "text/plain": [
       "HBox(children=(HTML(value=''), FloatProgress(value=0.0, max=573.0), HTML(value='')))"
      ]
     },
     "metadata": {},
     "output_type": "display_data"
    },
    {
     "name": "stdout",
     "output_type": "stream",
     "text": [
      "\n",
      "Training Loss: 1.4534 Acc: 0.3562\n"
     ]
    },
    {
     "data": {
      "application/vnd.jupyter.widget-view+json": {
       "model_id": "37670f2d4f6348788985b305177c10b7",
       "version_major": 2,
       "version_minor": 0
      },
      "text/plain": [
       "HBox(children=(HTML(value=''), FloatProgress(value=0.0, max=2.0), HTML(value='')))"
      ]
     },
     "metadata": {},
     "output_type": "display_data"
    },
    {
     "name": "stdout",
     "output_type": "stream",
     "text": [
      "\n",
      "acc for each class: tensor([0.0009, 0.0014, 0.0023, 0.0022, 0.0024, 0.0020, 0.0024, 0.0021, 0.0024,\n",
      "        0.0024])\n",
      "Test Loss: 0.2386 Acc: 0.8494\n",
      "\n",
      "Epoch 26/119\n"
     ]
    },
    {
     "data": {
      "application/vnd.jupyter.widget-view+json": {
       "model_id": "5906c61595144176ba107fff3431fab0",
       "version_major": 2,
       "version_minor": 0
      },
      "text/plain": [
       "HBox(children=(HTML(value=''), FloatProgress(value=0.0, max=573.0), HTML(value='')))"
      ]
     },
     "metadata": {},
     "output_type": "display_data"
    },
    {
     "name": "stdout",
     "output_type": "stream",
     "text": [
      "\n",
      "Training Loss: 1.4290 Acc: 0.3844\n"
     ]
    },
    {
     "data": {
      "application/vnd.jupyter.widget-view+json": {
       "model_id": "d8669f3d25364956bc84185fb52ea751",
       "version_major": 2,
       "version_minor": 0
      },
      "text/plain": [
       "HBox(children=(HTML(value=''), FloatProgress(value=0.0, max=2.0), HTML(value='')))"
      ]
     },
     "metadata": {},
     "output_type": "display_data"
    },
    {
     "name": "stdout",
     "output_type": "stream",
     "text": [
      "\n",
      "acc for each class: tensor([0.0010, 0.0017, 0.0023, 0.0022, 0.0024, 0.0022, 0.0024, 0.0023, 0.0024,\n",
      "        0.0024])\n",
      "Test Loss: 0.2127 Acc: 0.8788\n",
      "\n",
      "Epoch 27/119\n"
     ]
    },
    {
     "data": {
      "application/vnd.jupyter.widget-view+json": {
       "model_id": "f710d99f7e834c25b3b7c0bf794caf60",
       "version_major": 2,
       "version_minor": 0
      },
      "text/plain": [
       "HBox(children=(HTML(value=''), FloatProgress(value=0.0, max=573.0), HTML(value='')))"
      ]
     },
     "metadata": {},
     "output_type": "display_data"
    },
    {
     "name": "stdout",
     "output_type": "stream",
     "text": [
      "\n",
      "Training Loss: 1.3970 Acc: 0.4023\n"
     ]
    },
    {
     "data": {
      "application/vnd.jupyter.widget-view+json": {
       "model_id": "417309f784d94aa297183e90ad81fa90",
       "version_major": 2,
       "version_minor": 0
      },
      "text/plain": [
       "HBox(children=(HTML(value=''), FloatProgress(value=0.0, max=2.0), HTML(value='')))"
      ]
     },
     "metadata": {},
     "output_type": "display_data"
    },
    {
     "name": "stdout",
     "output_type": "stream",
     "text": [
      "\n",
      "acc for each class: tensor([0.0012, 0.0016, 0.0023, 0.0021, 0.0024, 0.0022, 0.0024, 0.0022, 0.0024,\n",
      "        0.0024])\n",
      "Test Loss: 0.1922 Acc: 0.8898\n",
      "\n",
      "Epoch 28/119\n"
     ]
    },
    {
     "data": {
      "application/vnd.jupyter.widget-view+json": {
       "model_id": "e3218f7bdf744ba2b62427c32941e9a4",
       "version_major": 2,
       "version_minor": 0
      },
      "text/plain": [
       "HBox(children=(HTML(value=''), FloatProgress(value=0.0, max=573.0), HTML(value='')))"
      ]
     },
     "metadata": {},
     "output_type": "display_data"
    },
    {
     "name": "stdout",
     "output_type": "stream",
     "text": [
      "\n",
      "Training Loss: 1.3813 Acc: 0.4261\n"
     ]
    },
    {
     "data": {
      "application/vnd.jupyter.widget-view+json": {
       "model_id": "fcd9f51634954a8287a4fd5a9430ab3c",
       "version_major": 2,
       "version_minor": 0
      },
      "text/plain": [
       "HBox(children=(HTML(value=''), FloatProgress(value=0.0, max=2.0), HTML(value='')))"
      ]
     },
     "metadata": {},
     "output_type": "display_data"
    },
    {
     "name": "stdout",
     "output_type": "stream",
     "text": [
      "\n",
      "acc for each class: tensor([0.0013, 0.0019, 0.0023, 0.0022, 0.0024, 0.0022, 0.0024, 0.0023, 0.0024,\n",
      "        0.0024])\n",
      "Test Loss: 0.2042 Acc: 0.9009\n",
      "\n",
      "Epoch 29/119\n"
     ]
    },
    {
     "data": {
      "application/vnd.jupyter.widget-view+json": {
       "model_id": "f2c8d44452f3435ab09b3e4039daca06",
       "version_major": 2,
       "version_minor": 0
      },
      "text/plain": [
       "HBox(children=(HTML(value=''), FloatProgress(value=0.0, max=573.0), HTML(value='')))"
      ]
     },
     "metadata": {},
     "output_type": "display_data"
    },
    {
     "name": "stdout",
     "output_type": "stream",
     "text": [
      "\n",
      "Training Loss: 1.4078 Acc: 0.4266\n"
     ]
    },
    {
     "data": {
      "application/vnd.jupyter.widget-view+json": {
       "model_id": "7388eb597b2044eb86cd33a3a3398cd5",
       "version_major": 2,
       "version_minor": 0
      },
      "text/plain": [
       "HBox(children=(HTML(value=''), FloatProgress(value=0.0, max=2.0), HTML(value='')))"
      ]
     },
     "metadata": {},
     "output_type": "display_data"
    },
    {
     "name": "stdout",
     "output_type": "stream",
     "text": [
      "\n",
      "acc for each class: tensor([0.0011, 0.0019, 0.0023, 0.0022, 0.0024, 0.0022, 0.0024, 0.0022, 0.0024,\n",
      "        0.0024])\n",
      "Test Loss: 0.2047 Acc: 0.8923\n",
      "\n",
      "Epoch 30/119\n"
     ]
    },
    {
     "data": {
      "application/vnd.jupyter.widget-view+json": {
       "model_id": "93514816b7004cb38206b9d41a139cae",
       "version_major": 2,
       "version_minor": 0
      },
      "text/plain": [
       "HBox(children=(HTML(value=''), FloatProgress(value=0.0, max=573.0), HTML(value='')))"
      ]
     },
     "metadata": {},
     "output_type": "display_data"
    },
    {
     "name": "stdout",
     "output_type": "stream",
     "text": [
      "\n",
      "Training Loss: 1.3893 Acc: 0.4500\n"
     ]
    },
    {
     "data": {
      "application/vnd.jupyter.widget-view+json": {
       "model_id": "7c59db4b1c3e47ba9166b8a2962abfd6",
       "version_major": 2,
       "version_minor": 0
      },
      "text/plain": [
       "HBox(children=(HTML(value=''), FloatProgress(value=0.0, max=2.0), HTML(value='')))"
      ]
     },
     "metadata": {},
     "output_type": "display_data"
    },
    {
     "name": "stdout",
     "output_type": "stream",
     "text": [
      "\n",
      "acc for each class: tensor([0.0012, 0.0019, 0.0023, 0.0023, 0.0024, 0.0022, 0.0024, 0.0023, 0.0024,\n",
      "        0.0024])\n",
      "Test Loss: 0.1970 Acc: 0.9058\n",
      "\n",
      "Epoch 31/119\n"
     ]
    },
    {
     "data": {
      "application/vnd.jupyter.widget-view+json": {
       "model_id": "a15be3618fb94a3dbac225a2d00d931d",
       "version_major": 2,
       "version_minor": 0
      },
      "text/plain": [
       "HBox(children=(HTML(value=''), FloatProgress(value=0.0, max=573.0), HTML(value='')))"
      ]
     },
     "metadata": {},
     "output_type": "display_data"
    },
    {
     "name": "stdout",
     "output_type": "stream",
     "text": [
      "\n",
      "Training Loss: 1.3758 Acc: 0.4567\n"
     ]
    },
    {
     "data": {
      "application/vnd.jupyter.widget-view+json": {
       "model_id": "75ae0ff9eace43969c3c485276d60575",
       "version_major": 2,
       "version_minor": 0
      },
      "text/plain": [
       "HBox(children=(HTML(value=''), FloatProgress(value=0.0, max=2.0), HTML(value='')))"
      ]
     },
     "metadata": {},
     "output_type": "display_data"
    },
    {
     "name": "stdout",
     "output_type": "stream",
     "text": [
      "\n",
      "acc for each class: tensor([0.0013, 0.0020, 0.0024, 0.0022, 0.0024, 0.0021, 0.0024, 0.0024, 0.0024,\n",
      "        0.0024])\n",
      "Test Loss: 0.1901 Acc: 0.9106\n",
      "\n",
      "Epoch 32/119\n"
     ]
    },
    {
     "data": {
      "application/vnd.jupyter.widget-view+json": {
       "model_id": "e92fcff602d748a4bb5aa9671f26728d",
       "version_major": 2,
       "version_minor": 0
      },
      "text/plain": [
       "HBox(children=(HTML(value=''), FloatProgress(value=0.0, max=573.0), HTML(value='')))"
      ]
     },
     "metadata": {},
     "output_type": "display_data"
    },
    {
     "name": "stdout",
     "output_type": "stream",
     "text": [
      "\n",
      "Training Loss: 1.3730 Acc: 0.4865\n"
     ]
    },
    {
     "data": {
      "application/vnd.jupyter.widget-view+json": {
       "model_id": "615fc6cd6e7e47dfbf6b459685a36ffc",
       "version_major": 2,
       "version_minor": 0
      },
      "text/plain": [
       "HBox(children=(HTML(value=''), FloatProgress(value=0.0, max=2.0), HTML(value='')))"
      ]
     },
     "metadata": {},
     "output_type": "display_data"
    },
    {
     "name": "stdout",
     "output_type": "stream",
     "text": [
      "\n",
      "acc for each class: tensor([0.0014, 0.0020, 0.0023, 0.0024, 0.0024, 0.0022, 0.0024, 0.0023, 0.0024,\n",
      "        0.0024])\n",
      "Test Loss: 0.2230 Acc: 0.9106\n",
      "\n",
      "Epoch 33/119\n"
     ]
    },
    {
     "data": {
      "application/vnd.jupyter.widget-view+json": {
       "model_id": "76550c0e748d472aa421ca9fa9beb305",
       "version_major": 2,
       "version_minor": 0
      },
      "text/plain": [
       "HBox(children=(HTML(value=''), FloatProgress(value=0.0, max=573.0), HTML(value='')))"
      ]
     },
     "metadata": {},
     "output_type": "display_data"
    },
    {
     "name": "stdout",
     "output_type": "stream",
     "text": [
      "\n",
      "Training Loss: 1.3682 Acc: 0.4850\n"
     ]
    },
    {
     "data": {
      "application/vnd.jupyter.widget-view+json": {
       "model_id": "4117e1d9d3a443038d79e11d96459b18",
       "version_major": 2,
       "version_minor": 0
      },
      "text/plain": [
       "HBox(children=(HTML(value=''), FloatProgress(value=0.0, max=2.0), HTML(value='')))"
      ]
     },
     "metadata": {},
     "output_type": "display_data"
    },
    {
     "name": "stdout",
     "output_type": "stream",
     "text": [
      "\n",
      "acc for each class: tensor([0.0015, 0.0021, 0.0024, 0.0023, 0.0024, 0.0022, 0.0024, 0.0023, 0.0024,\n",
      "        0.0024])\n",
      "Test Loss: 0.1807 Acc: 0.9204\n",
      "\n",
      "Epoch 34/119\n"
     ]
    },
    {
     "data": {
      "application/vnd.jupyter.widget-view+json": {
       "model_id": "dd40d928d9e441b4accc7cf0ee7a496a",
       "version_major": 2,
       "version_minor": 0
      },
      "text/plain": [
       "HBox(children=(HTML(value=''), FloatProgress(value=0.0, max=573.0), HTML(value='')))"
      ]
     },
     "metadata": {},
     "output_type": "display_data"
    },
    {
     "name": "stdout",
     "output_type": "stream",
     "text": [
      "\n",
      "Training Loss: 1.3770 Acc: 0.4948\n"
     ]
    },
    {
     "data": {
      "application/vnd.jupyter.widget-view+json": {
       "model_id": "bc1664aec8bf4bd1a3d9e94c171a7cca",
       "version_major": 2,
       "version_minor": 0
      },
      "text/plain": [
       "HBox(children=(HTML(value=''), FloatProgress(value=0.0, max=2.0), HTML(value='')))"
      ]
     },
     "metadata": {},
     "output_type": "display_data"
    },
    {
     "name": "stdout",
     "output_type": "stream",
     "text": [
      "\n",
      "acc for each class: tensor([0.0013, 0.0021, 0.0024, 0.0023, 0.0024, 0.0021, 0.0024, 0.0023, 0.0024,\n",
      "        0.0024])\n",
      "Test Loss: 0.1870 Acc: 0.9106\n",
      "\n",
      "Epoch 35/119\n"
     ]
    },
    {
     "data": {
      "application/vnd.jupyter.widget-view+json": {
       "model_id": "d5a8e7aa755544f6b95985f73d5e9e54",
       "version_major": 2,
       "version_minor": 0
      },
      "text/plain": [
       "HBox(children=(HTML(value=''), FloatProgress(value=0.0, max=573.0), HTML(value='')))"
      ]
     },
     "metadata": {},
     "output_type": "display_data"
    },
    {
     "name": "stdout",
     "output_type": "stream",
     "text": [
      "\n",
      "Training Loss: 1.3490 Acc: 0.5099\n"
     ]
    },
    {
     "data": {
      "application/vnd.jupyter.widget-view+json": {
       "model_id": "94e0fb2603a24a4c95dd667d5ba49fb0",
       "version_major": 2,
       "version_minor": 0
      },
      "text/plain": [
       "HBox(children=(HTML(value=''), FloatProgress(value=0.0, max=2.0), HTML(value='')))"
      ]
     },
     "metadata": {},
     "output_type": "display_data"
    },
    {
     "name": "stdout",
     "output_type": "stream",
     "text": [
      "\n",
      "acc for each class: tensor([0.0010, 0.0022, 0.0024, 0.0023, 0.0024, 0.0022, 0.0024, 0.0023, 0.0024,\n",
      "        0.0024])\n",
      "Test Loss: 0.1853 Acc: 0.9119\n",
      "\n",
      "Epoch 36/119\n"
     ]
    },
    {
     "data": {
      "application/vnd.jupyter.widget-view+json": {
       "model_id": "92d406243f8046a09ae1664127fd65d4",
       "version_major": 2,
       "version_minor": 0
      },
      "text/plain": [
       "HBox(children=(HTML(value=''), FloatProgress(value=0.0, max=573.0), HTML(value='')))"
      ]
     },
     "metadata": {},
     "output_type": "display_data"
    },
    {
     "name": "stdout",
     "output_type": "stream",
     "text": [
      "\n",
      "Training Loss: 1.3399 Acc: 0.5347\n"
     ]
    },
    {
     "data": {
      "application/vnd.jupyter.widget-view+json": {
       "model_id": "428ff0e5ded74dc0afdfe496399ef067",
       "version_major": 2,
       "version_minor": 0
      },
      "text/plain": [
       "HBox(children=(HTML(value=''), FloatProgress(value=0.0, max=2.0), HTML(value='')))"
      ]
     },
     "metadata": {},
     "output_type": "display_data"
    },
    {
     "name": "stdout",
     "output_type": "stream",
     "text": [
      "\n",
      "acc for each class: tensor([0.0016, 0.0022, 0.0024, 0.0023, 0.0024, 0.0022, 0.0024, 0.0023, 0.0024,\n",
      "        0.0024])\n",
      "Test Loss: 0.1930 Acc: 0.9302\n",
      "\n",
      "Epoch 37/119\n"
     ]
    },
    {
     "data": {
      "application/vnd.jupyter.widget-view+json": {
       "model_id": "7fbab643ee574b8fb207a97fb6d07f1c",
       "version_major": 2,
       "version_minor": 0
      },
      "text/plain": [
       "HBox(children=(HTML(value=''), FloatProgress(value=0.0, max=573.0), HTML(value='')))"
      ]
     },
     "metadata": {},
     "output_type": "display_data"
    },
    {
     "name": "stdout",
     "output_type": "stream",
     "text": [
      "\n",
      "Training Loss: 1.3232 Acc: 0.5310\n"
     ]
    },
    {
     "data": {
      "application/vnd.jupyter.widget-view+json": {
       "model_id": "34db9a7b05234814b83b1c1310717612",
       "version_major": 2,
       "version_minor": 0
      },
      "text/plain": [
       "HBox(children=(HTML(value=''), FloatProgress(value=0.0, max=2.0), HTML(value='')))"
      ]
     },
     "metadata": {},
     "output_type": "display_data"
    },
    {
     "name": "stdout",
     "output_type": "stream",
     "text": [
      "\n",
      "acc for each class: tensor([0.0014, 0.0022, 0.0024, 0.0023, 0.0024, 0.0022, 0.0024, 0.0023, 0.0024,\n",
      "        0.0024])\n",
      "Test Loss: 0.1743 Acc: 0.9253\n",
      "\n",
      "Epoch 38/119\n"
     ]
    },
    {
     "data": {
      "application/vnd.jupyter.widget-view+json": {
       "model_id": "edc699c67d6246fdaadd000ae4ea8cbd",
       "version_major": 2,
       "version_minor": 0
      },
      "text/plain": [
       "HBox(children=(HTML(value=''), FloatProgress(value=0.0, max=573.0), HTML(value='')))"
      ]
     },
     "metadata": {},
     "output_type": "display_data"
    },
    {
     "name": "stdout",
     "output_type": "stream",
     "text": [
      "\n",
      "Training Loss: 1.3449 Acc: 0.5457\n"
     ]
    },
    {
     "data": {
      "application/vnd.jupyter.widget-view+json": {
       "model_id": "13a93a50e65348f8a53bcb58ef52aab1",
       "version_major": 2,
       "version_minor": 0
      },
      "text/plain": [
       "HBox(children=(HTML(value=''), FloatProgress(value=0.0, max=2.0), HTML(value='')))"
      ]
     },
     "metadata": {},
     "output_type": "display_data"
    },
    {
     "name": "stdout",
     "output_type": "stream",
     "text": [
      "\n",
      "acc for each class: tensor([0.0015, 0.0020, 0.0023, 0.0024, 0.0024, 0.0021, 0.0024, 0.0023, 0.0024,\n",
      "        0.0024])\n",
      "Test Loss: 0.1807 Acc: 0.9229\n",
      "\n",
      "Epoch 39/119\n"
     ]
    },
    {
     "data": {
      "application/vnd.jupyter.widget-view+json": {
       "model_id": "d912114f71044fc7b9a030d768948a73",
       "version_major": 2,
       "version_minor": 0
      },
      "text/plain": [
       "HBox(children=(HTML(value=''), FloatProgress(value=0.0, max=573.0), HTML(value='')))"
      ]
     },
     "metadata": {},
     "output_type": "display_data"
    },
    {
     "name": "stdout",
     "output_type": "stream",
     "text": [
      "\n",
      "Training Loss: 1.3356 Acc: 0.5697\n"
     ]
    },
    {
     "data": {
      "application/vnd.jupyter.widget-view+json": {
       "model_id": "97aff7720ab9442b82b6ec997039e89f",
       "version_major": 2,
       "version_minor": 0
      },
      "text/plain": [
       "HBox(children=(HTML(value=''), FloatProgress(value=0.0, max=2.0), HTML(value='')))"
      ]
     },
     "metadata": {},
     "output_type": "display_data"
    },
    {
     "name": "stdout",
     "output_type": "stream",
     "text": [
      "\n",
      "acc for each class: tensor([0.0012, 0.0022, 0.0023, 0.0024, 0.0024, 0.0022, 0.0024, 0.0024, 0.0024,\n",
      "        0.0024])\n",
      "Test Loss: 0.1534 Acc: 0.9302\n",
      "\n",
      "Epoch 40/119\n"
     ]
    },
    {
     "data": {
      "application/vnd.jupyter.widget-view+json": {
       "model_id": "b8977d65a37946aa88c10e8aabd54f33",
       "version_major": 2,
       "version_minor": 0
      },
      "text/plain": [
       "HBox(children=(HTML(value=''), FloatProgress(value=0.0, max=573.0), HTML(value='')))"
      ]
     },
     "metadata": {},
     "output_type": "display_data"
    },
    {
     "name": "stdout",
     "output_type": "stream",
     "text": [
      "\n",
      "Training Loss: 1.2798 Acc: 0.5811\n"
     ]
    },
    {
     "data": {
      "application/vnd.jupyter.widget-view+json": {
       "model_id": "fe32ae6a471b41dcbb33a47f80bb54c0",
       "version_major": 2,
       "version_minor": 0
      },
      "text/plain": [
       "HBox(children=(HTML(value=''), FloatProgress(value=0.0, max=2.0), HTML(value='')))"
      ]
     },
     "metadata": {},
     "output_type": "display_data"
    },
    {
     "name": "stdout",
     "output_type": "stream",
     "text": [
      "\n",
      "acc for each class: tensor([0.0014, 0.0023, 0.0024, 0.0024, 0.0024, 0.0021, 0.0024, 0.0023, 0.0024,\n",
      "        0.0024])\n",
      "Test Loss: 0.1640 Acc: 0.9327\n",
      "\n",
      "Epoch 41/119\n"
     ]
    },
    {
     "data": {
      "application/vnd.jupyter.widget-view+json": {
       "model_id": "ed4f55582e8b4b57879d336f97f3583e",
       "version_major": 2,
       "version_minor": 0
      },
      "text/plain": [
       "HBox(children=(HTML(value=''), FloatProgress(value=0.0, max=573.0), HTML(value='')))"
      ]
     },
     "metadata": {},
     "output_type": "display_data"
    },
    {
     "name": "stdout",
     "output_type": "stream",
     "text": [
      "\n",
      "Training Loss: 1.3126 Acc: 0.6121\n"
     ]
    },
    {
     "data": {
      "application/vnd.jupyter.widget-view+json": {
       "model_id": "683b321ac7164999982350848e3c43bc",
       "version_major": 2,
       "version_minor": 0
      },
      "text/plain": [
       "HBox(children=(HTML(value=''), FloatProgress(value=0.0, max=2.0), HTML(value='')))"
      ]
     },
     "metadata": {},
     "output_type": "display_data"
    },
    {
     "name": "stdout",
     "output_type": "stream",
     "text": [
      "\n",
      "acc for each class: tensor([0.0017, 0.0021, 0.0024, 0.0023, 0.0024, 0.0022, 0.0024, 0.0023, 0.0024,\n",
      "        0.0024])\n",
      "Test Loss: 0.1660 Acc: 0.9388\n",
      "\n",
      "Epoch 42/119\n"
     ]
    },
    {
     "data": {
      "application/vnd.jupyter.widget-view+json": {
       "model_id": "20771cd955b64174b8d3f1848a546b65",
       "version_major": 2,
       "version_minor": 0
      },
      "text/plain": [
       "HBox(children=(HTML(value=''), FloatProgress(value=0.0, max=573.0), HTML(value='')))"
      ]
     },
     "metadata": {},
     "output_type": "display_data"
    },
    {
     "name": "stdout",
     "output_type": "stream",
     "text": [
      "\n",
      "Training Loss: 1.3113 Acc: 0.6098\n"
     ]
    },
    {
     "data": {
      "application/vnd.jupyter.widget-view+json": {
       "model_id": "2c06edf9232b4982a49536a2ffeb765a",
       "version_major": 2,
       "version_minor": 0
      },
      "text/plain": [
       "HBox(children=(HTML(value=''), FloatProgress(value=0.0, max=2.0), HTML(value='')))"
      ]
     },
     "metadata": {},
     "output_type": "display_data"
    },
    {
     "name": "stdout",
     "output_type": "stream",
     "text": [
      "\n",
      "acc for each class: tensor([0.0017, 0.0023, 0.0024, 0.0024, 0.0024, 0.0022, 0.0024, 0.0023, 0.0024,\n",
      "        0.0024])\n",
      "Test Loss: 0.1681 Acc: 0.9388\n",
      "\n",
      "Epoch 43/119\n"
     ]
    },
    {
     "data": {
      "application/vnd.jupyter.widget-view+json": {
       "model_id": "bd2f6a7f827a4a8f88e1b62a3f59d874",
       "version_major": 2,
       "version_minor": 0
      },
      "text/plain": [
       "HBox(children=(HTML(value=''), FloatProgress(value=0.0, max=573.0), HTML(value='')))"
      ]
     },
     "metadata": {},
     "output_type": "display_data"
    },
    {
     "name": "stdout",
     "output_type": "stream",
     "text": [
      "\n",
      "Training Loss: 1.3218 Acc: 0.6055\n"
     ]
    },
    {
     "data": {
      "application/vnd.jupyter.widget-view+json": {
       "model_id": "e3d60f5f652d4854b6f86a4673e629bd",
       "version_major": 2,
       "version_minor": 0
      },
      "text/plain": [
       "HBox(children=(HTML(value=''), FloatProgress(value=0.0, max=2.0), HTML(value='')))"
      ]
     },
     "metadata": {},
     "output_type": "display_data"
    },
    {
     "name": "stdout",
     "output_type": "stream",
     "text": [
      "\n",
      "acc for each class: tensor([0.0018, 0.0022, 0.0024, 0.0023, 0.0024, 0.0022, 0.0024, 0.0023, 0.0024,\n",
      "        0.0024])\n",
      "Test Loss: 0.1700 Acc: 0.9376\n",
      "\n",
      "Epoch 44/119\n"
     ]
    },
    {
     "data": {
      "application/vnd.jupyter.widget-view+json": {
       "model_id": "64257cf2a6b74352a15d459684be7bec",
       "version_major": 2,
       "version_minor": 0
      },
      "text/plain": [
       "HBox(children=(HTML(value=''), FloatProgress(value=0.0, max=573.0), HTML(value='')))"
      ]
     },
     "metadata": {},
     "output_type": "display_data"
    },
    {
     "name": "stdout",
     "output_type": "stream",
     "text": [
      "\n",
      "Training Loss: 1.3112 Acc: 0.6176\n"
     ]
    },
    {
     "data": {
      "application/vnd.jupyter.widget-view+json": {
       "model_id": "3b9cf2227771419a9a12eaa14e2894cf",
       "version_major": 2,
       "version_minor": 0
      },
      "text/plain": [
       "HBox(children=(HTML(value=''), FloatProgress(value=0.0, max=2.0), HTML(value='')))"
      ]
     },
     "metadata": {},
     "output_type": "display_data"
    },
    {
     "name": "stdout",
     "output_type": "stream",
     "text": [
      "\n",
      "acc for each class: tensor([0.0017, 0.0023, 0.0024, 0.0023, 0.0024, 0.0022, 0.0024, 0.0024, 0.0024,\n",
      "        0.0024])\n",
      "Test Loss: 0.1578 Acc: 0.9412\n",
      "\n",
      "Epoch 45/119\n"
     ]
    },
    {
     "data": {
      "application/vnd.jupyter.widget-view+json": {
       "model_id": "84cb018b50cf4fda8e8bc928160b7847",
       "version_major": 2,
       "version_minor": 0
      },
      "text/plain": [
       "HBox(children=(HTML(value=''), FloatProgress(value=0.0, max=573.0), HTML(value='')))"
      ]
     },
     "metadata": {},
     "output_type": "display_data"
    },
    {
     "name": "stdout",
     "output_type": "stream",
     "text": [
      "\n",
      "Training Loss: 1.3128 Acc: 0.6127\n"
     ]
    },
    {
     "data": {
      "application/vnd.jupyter.widget-view+json": {
       "model_id": "158a1e6a1ba34ae493b4ef783eb7530e",
       "version_major": 2,
       "version_minor": 0
      },
      "text/plain": [
       "HBox(children=(HTML(value=''), FloatProgress(value=0.0, max=2.0), HTML(value='')))"
      ]
     },
     "metadata": {},
     "output_type": "display_data"
    },
    {
     "name": "stdout",
     "output_type": "stream",
     "text": [
      "\n",
      "acc for each class: tensor([0.0017, 0.0024, 0.0024, 0.0024, 0.0024, 0.0022, 0.0024, 0.0024, 0.0024,\n",
      "        0.0024])\n",
      "Test Loss: 0.1583 Acc: 0.9461\n",
      "\n",
      "Epoch 46/119\n"
     ]
    },
    {
     "data": {
      "application/vnd.jupyter.widget-view+json": {
       "model_id": "cc99b14e76eb4db6a5e0e38497cb409a",
       "version_major": 2,
       "version_minor": 0
      },
      "text/plain": [
       "HBox(children=(HTML(value=''), FloatProgress(value=0.0, max=573.0), HTML(value='')))"
      ]
     },
     "metadata": {},
     "output_type": "display_data"
    },
    {
     "name": "stdout",
     "output_type": "stream",
     "text": [
      "\n",
      "Training Loss: 1.2901 Acc: 0.6285\n"
     ]
    },
    {
     "data": {
      "application/vnd.jupyter.widget-view+json": {
       "model_id": "b2f2556b308840cfa338c91447e08cdd",
       "version_major": 2,
       "version_minor": 0
      },
      "text/plain": [
       "HBox(children=(HTML(value=''), FloatProgress(value=0.0, max=2.0), HTML(value='')))"
      ]
     },
     "metadata": {},
     "output_type": "display_data"
    },
    {
     "name": "stdout",
     "output_type": "stream",
     "text": [
      "\n",
      "acc for each class: tensor([0.0017, 0.0022, 0.0024, 0.0024, 0.0024, 0.0021, 0.0024, 0.0024, 0.0024,\n",
      "        0.0024])\n",
      "Test Loss: 0.1568 Acc: 0.9425\n",
      "\n",
      "Epoch 47/119\n"
     ]
    },
    {
     "data": {
      "application/vnd.jupyter.widget-view+json": {
       "model_id": "825b31fdfe5a4ab889f37b55364b271c",
       "version_major": 2,
       "version_minor": 0
      },
      "text/plain": [
       "HBox(children=(HTML(value=''), FloatProgress(value=0.0, max=573.0), HTML(value='')))"
      ]
     },
     "metadata": {},
     "output_type": "display_data"
    },
    {
     "name": "stdout",
     "output_type": "stream",
     "text": [
      "\n",
      "Training Loss: 1.2865 Acc: 0.6403\n"
     ]
    },
    {
     "data": {
      "application/vnd.jupyter.widget-view+json": {
       "model_id": "513b6834f8c84bd6bf05422143d6bf95",
       "version_major": 2,
       "version_minor": 0
      },
      "text/plain": [
       "HBox(children=(HTML(value=''), FloatProgress(value=0.0, max=2.0), HTML(value='')))"
      ]
     },
     "metadata": {},
     "output_type": "display_data"
    },
    {
     "name": "stdout",
     "output_type": "stream",
     "text": [
      "\n",
      "acc for each class: tensor([0.0017, 0.0024, 0.0024, 0.0023, 0.0024, 0.0021, 0.0024, 0.0024, 0.0024,\n",
      "        0.0024])\n",
      "Test Loss: 0.1474 Acc: 0.9474\n",
      "\n",
      "Epoch 48/119\n"
     ]
    },
    {
     "data": {
      "application/vnd.jupyter.widget-view+json": {
       "model_id": "6921f6d0f71b45c8911681cade60ff21",
       "version_major": 2,
       "version_minor": 0
      },
      "text/plain": [
       "HBox(children=(HTML(value=''), FloatProgress(value=0.0, max=573.0), HTML(value='')))"
      ]
     },
     "metadata": {},
     "output_type": "display_data"
    },
    {
     "name": "stdout",
     "output_type": "stream",
     "text": [
      "\n",
      "Training Loss: 1.2851 Acc: 0.6410\n"
     ]
    },
    {
     "data": {
      "application/vnd.jupyter.widget-view+json": {
       "model_id": "ad79d5f629664def8585f20abfe3e9c9",
       "version_major": 2,
       "version_minor": 0
      },
      "text/plain": [
       "HBox(children=(HTML(value=''), FloatProgress(value=0.0, max=2.0), HTML(value='')))"
      ]
     },
     "metadata": {},
     "output_type": "display_data"
    },
    {
     "name": "stdout",
     "output_type": "stream",
     "text": [
      "\n",
      "acc for each class: tensor([0.0017, 0.0023, 0.0024, 0.0024, 0.0024, 0.0022, 0.0024, 0.0023, 0.0024,\n",
      "        0.0024])\n",
      "Test Loss: 0.1668 Acc: 0.9412\n",
      "\n",
      "Epoch 49/119\n"
     ]
    },
    {
     "data": {
      "application/vnd.jupyter.widget-view+json": {
       "model_id": "cc24a633343247ebaab81f494ccafb52",
       "version_major": 2,
       "version_minor": 0
      },
      "text/plain": [
       "HBox(children=(HTML(value=''), FloatProgress(value=0.0, max=573.0), HTML(value='')))"
      ]
     },
     "metadata": {},
     "output_type": "display_data"
    },
    {
     "name": "stdout",
     "output_type": "stream",
     "text": [
      "\n",
      "Training Loss: 1.3103 Acc: 0.6477\n"
     ]
    },
    {
     "data": {
      "application/vnd.jupyter.widget-view+json": {
       "model_id": "d9f9838aa7e349d6b4defc54a50a39a9",
       "version_major": 2,
       "version_minor": 0
      },
      "text/plain": [
       "HBox(children=(HTML(value=''), FloatProgress(value=0.0, max=2.0), HTML(value='')))"
      ]
     },
     "metadata": {},
     "output_type": "display_data"
    },
    {
     "name": "stdout",
     "output_type": "stream",
     "text": [
      "\n",
      "acc for each class: tensor([0.0018, 0.0022, 0.0024, 0.0024, 0.0024, 0.0020, 0.0024, 0.0024, 0.0024,\n",
      "        0.0024])\n",
      "Test Loss: 0.1632 Acc: 0.9461\n",
      "\n",
      "Epoch 50/119\n"
     ]
    },
    {
     "data": {
      "application/vnd.jupyter.widget-view+json": {
       "model_id": "42b009616c714d838947d6c78402e95b",
       "version_major": 2,
       "version_minor": 0
      },
      "text/plain": [
       "HBox(children=(HTML(value=''), FloatProgress(value=0.0, max=573.0), HTML(value='')))"
      ]
     },
     "metadata": {},
     "output_type": "display_data"
    },
    {
     "name": "stdout",
     "output_type": "stream",
     "text": [
      "\n",
      "Training Loss: 1.2905 Acc: 0.6506\n"
     ]
    },
    {
     "data": {
      "application/vnd.jupyter.widget-view+json": {
       "model_id": "21b44d043c284b48b2d2c7f165820f01",
       "version_major": 2,
       "version_minor": 0
      },
      "text/plain": [
       "HBox(children=(HTML(value=''), FloatProgress(value=0.0, max=2.0), HTML(value='')))"
      ]
     },
     "metadata": {},
     "output_type": "display_data"
    },
    {
     "name": "stdout",
     "output_type": "stream",
     "text": [
      "\n",
      "acc for each class: tensor([0.0017, 0.0023, 0.0024, 0.0024, 0.0024, 0.0021, 0.0024, 0.0024, 0.0024,\n",
      "        0.0024])\n",
      "Test Loss: 0.1570 Acc: 0.9486\n",
      "\n",
      "Epoch 51/119\n"
     ]
    },
    {
     "data": {
      "application/vnd.jupyter.widget-view+json": {
       "model_id": "52811b32947c474492d8e3e75b629dee",
       "version_major": 2,
       "version_minor": 0
      },
      "text/plain": [
       "HBox(children=(HTML(value=''), FloatProgress(value=0.0, max=573.0), HTML(value='')))"
      ]
     },
     "metadata": {},
     "output_type": "display_data"
    },
    {
     "name": "stdout",
     "output_type": "stream",
     "text": [
      "\n",
      "Training Loss: 1.2996 Acc: 0.6498\n"
     ]
    },
    {
     "data": {
      "application/vnd.jupyter.widget-view+json": {
       "model_id": "d021457edc2a4abc8ed2ca6c3d4e2357",
       "version_major": 2,
       "version_minor": 0
      },
      "text/plain": [
       "HBox(children=(HTML(value=''), FloatProgress(value=0.0, max=2.0), HTML(value='')))"
      ]
     },
     "metadata": {},
     "output_type": "display_data"
    },
    {
     "name": "stdout",
     "output_type": "stream",
     "text": [
      "\n",
      "acc for each class: tensor([0.0019, 0.0022, 0.0024, 0.0024, 0.0024, 0.0022, 0.0024, 0.0024, 0.0024,\n",
      "        0.0024])\n",
      "Test Loss: 0.1522 Acc: 0.9523\n",
      "\n",
      "Epoch 52/119\n"
     ]
    },
    {
     "data": {
      "application/vnd.jupyter.widget-view+json": {
       "model_id": "73f5c271c25f43dfa49fbc5c28419821",
       "version_major": 2,
       "version_minor": 0
      },
      "text/plain": [
       "HBox(children=(HTML(value=''), FloatProgress(value=0.0, max=573.0), HTML(value='')))"
      ]
     },
     "metadata": {},
     "output_type": "display_data"
    },
    {
     "name": "stdout",
     "output_type": "stream",
     "text": [
      "\n",
      "Training Loss: 1.2935 Acc: 0.6584\n"
     ]
    },
    {
     "data": {
      "application/vnd.jupyter.widget-view+json": {
       "model_id": "afde913b6afe4aea977f90391ff9ee9a",
       "version_major": 2,
       "version_minor": 0
      },
      "text/plain": [
       "HBox(children=(HTML(value=''), FloatProgress(value=0.0, max=2.0), HTML(value='')))"
      ]
     },
     "metadata": {},
     "output_type": "display_data"
    },
    {
     "name": "stdout",
     "output_type": "stream",
     "text": [
      "\n",
      "acc for each class: tensor([0.0019, 0.0022, 0.0024, 0.0024, 0.0024, 0.0022, 0.0024, 0.0024, 0.0024,\n",
      "        0.0024])\n",
      "Test Loss: 0.1479 Acc: 0.9547\n",
      "Time from Start 732m 44s\n",
      "\n",
      "Epoch 53/119\n"
     ]
    },
    {
     "data": {
      "application/vnd.jupyter.widget-view+json": {
       "model_id": "7a7bef278a224aeeb9dcf0d7a07ebab2",
       "version_major": 2,
       "version_minor": 0
      },
      "text/plain": [
       "HBox(children=(HTML(value=''), FloatProgress(value=0.0, max=573.0), HTML(value='')))"
      ]
     },
     "metadata": {},
     "output_type": "display_data"
    },
    {
     "name": "stdout",
     "output_type": "stream",
     "text": [
      "\n",
      "Training Loss: 1.3353 Acc: 0.6577\n"
     ]
    },
    {
     "data": {
      "application/vnd.jupyter.widget-view+json": {
       "model_id": "6ecd463d21e84bc9b436fca693eeef25",
       "version_major": 2,
       "version_minor": 0
      },
      "text/plain": [
       "HBox(children=(HTML(value=''), FloatProgress(value=0.0, max=2.0), HTML(value='')))"
      ]
     },
     "metadata": {},
     "output_type": "display_data"
    },
    {
     "name": "stdout",
     "output_type": "stream",
     "text": [
      "\n",
      "acc for each class: tensor([0.0017, 0.0022, 0.0024, 0.0024, 0.0024, 0.0022, 0.0024, 0.0024, 0.0024,\n",
      "        0.0024])\n",
      "Test Loss: 0.1530 Acc: 0.9498\n",
      "\n",
      "Epoch 54/119\n"
     ]
    },
    {
     "data": {
      "application/vnd.jupyter.widget-view+json": {
       "model_id": "0217163671f842c4acc4d5a95b975c71",
       "version_major": 2,
       "version_minor": 0
      },
      "text/plain": [
       "HBox(children=(HTML(value=''), FloatProgress(value=0.0, max=573.0), HTML(value='')))"
      ]
     },
     "metadata": {},
     "output_type": "display_data"
    },
    {
     "name": "stdout",
     "output_type": "stream",
     "text": [
      "\n",
      "Training Loss: 1.2864 Acc: 0.6609\n"
     ]
    },
    {
     "data": {
      "application/vnd.jupyter.widget-view+json": {
       "model_id": "0d95f7fdea0f4177861c7c2976a4d07f",
       "version_major": 2,
       "version_minor": 0
      },
      "text/plain": [
       "HBox(children=(HTML(value=''), FloatProgress(value=0.0, max=2.0), HTML(value='')))"
      ]
     },
     "metadata": {},
     "output_type": "display_data"
    },
    {
     "name": "stdout",
     "output_type": "stream",
     "text": [
      "\n",
      "acc for each class: tensor([0.0018, 0.0024, 0.0024, 0.0024, 0.0024, 0.0021, 0.0024, 0.0024, 0.0024,\n",
      "        0.0024])\n",
      "Test Loss: 0.1523 Acc: 0.9486\n",
      "\n",
      "Epoch 55/119\n"
     ]
    },
    {
     "data": {
      "application/vnd.jupyter.widget-view+json": {
       "model_id": "6f95ccb9e29840ee9770a3538d5c19c4",
       "version_major": 2,
       "version_minor": 0
      },
      "text/plain": [
       "HBox(children=(HTML(value=''), FloatProgress(value=0.0, max=573.0), HTML(value='')))"
      ]
     },
     "metadata": {},
     "output_type": "display_data"
    },
    {
     "name": "stdout",
     "output_type": "stream",
     "text": [
      "\n",
      "Training Loss: 1.2713 Acc: 0.6640\n"
     ]
    },
    {
     "data": {
      "application/vnd.jupyter.widget-view+json": {
       "model_id": "855fe81626b04a229b14b0adb35bb4a8",
       "version_major": 2,
       "version_minor": 0
      },
      "text/plain": [
       "HBox(children=(HTML(value=''), FloatProgress(value=0.0, max=2.0), HTML(value='')))"
      ]
     },
     "metadata": {},
     "output_type": "display_data"
    },
    {
     "name": "stdout",
     "output_type": "stream",
     "text": [
      "\n",
      "acc for each class: tensor([0.0019, 0.0023, 0.0024, 0.0024, 0.0024, 0.0022, 0.0024, 0.0024, 0.0024,\n",
      "        0.0024])\n",
      "Test Loss: 0.1465 Acc: 0.9547\n",
      "\n",
      "Epoch 56/119\n"
     ]
    },
    {
     "data": {
      "application/vnd.jupyter.widget-view+json": {
       "model_id": "ad8a9ed813fd43378f01a4db1389c84e",
       "version_major": 2,
       "version_minor": 0
      },
      "text/plain": [
       "HBox(children=(HTML(value=''), FloatProgress(value=0.0, max=573.0), HTML(value='')))"
      ]
     },
     "metadata": {},
     "output_type": "display_data"
    },
    {
     "name": "stdout",
     "output_type": "stream",
     "text": [
      "\n",
      "Training Loss: 1.2656 Acc: 0.6640\n"
     ]
    },
    {
     "data": {
      "application/vnd.jupyter.widget-view+json": {
       "model_id": "a90e472a5ac841c2a1f5bcf3ecdcb7da",
       "version_major": 2,
       "version_minor": 0
      },
      "text/plain": [
       "HBox(children=(HTML(value=''), FloatProgress(value=0.0, max=2.0), HTML(value='')))"
      ]
     },
     "metadata": {},
     "output_type": "display_data"
    },
    {
     "name": "stdout",
     "output_type": "stream",
     "text": [
      "\n",
      "acc for each class: tensor([0.0017, 0.0023, 0.0024, 0.0024, 0.0024, 0.0022, 0.0024, 0.0024, 0.0024,\n",
      "        0.0024])\n",
      "Test Loss: 0.1409 Acc: 0.9535\n",
      "\n",
      "Epoch 57/119\n"
     ]
    },
    {
     "data": {
      "application/vnd.jupyter.widget-view+json": {
       "model_id": "e8672902724949a9b6706257afa9226e",
       "version_major": 2,
       "version_minor": 0
      },
      "text/plain": [
       "HBox(children=(HTML(value=''), FloatProgress(value=0.0, max=573.0), HTML(value='')))"
      ]
     },
     "metadata": {},
     "output_type": "display_data"
    },
    {
     "name": "stdout",
     "output_type": "stream",
     "text": [
      "\n",
      "Training Loss: 1.2889 Acc: 0.6762\n"
     ]
    },
    {
     "data": {
      "application/vnd.jupyter.widget-view+json": {
       "model_id": "1d5f1b9ecb004ccba16073631a813165",
       "version_major": 2,
       "version_minor": 0
      },
      "text/plain": [
       "HBox(children=(HTML(value=''), FloatProgress(value=0.0, max=2.0), HTML(value='')))"
      ]
     },
     "metadata": {},
     "output_type": "display_data"
    },
    {
     "name": "stdout",
     "output_type": "stream",
     "text": [
      "\n",
      "acc for each class: tensor([0.0018, 0.0024, 0.0024, 0.0024, 0.0024, 0.0022, 0.0024, 0.0024, 0.0024,\n",
      "        0.0024])\n",
      "Test Loss: 0.1526 Acc: 0.9559\n",
      "Time from Start 801m 7s\n",
      "\n",
      "Epoch 58/119\n"
     ]
    },
    {
     "data": {
      "application/vnd.jupyter.widget-view+json": {
       "model_id": "756b859ba4e64af7a4250b7b545799a6",
       "version_major": 2,
       "version_minor": 0
      },
      "text/plain": [
       "HBox(children=(HTML(value=''), FloatProgress(value=0.0, max=573.0), HTML(value='')))"
      ]
     },
     "metadata": {},
     "output_type": "display_data"
    },
    {
     "name": "stdout",
     "output_type": "stream",
     "text": [
      "\n",
      "Training Loss: 1.2772 Acc: 0.6811\n"
     ]
    },
    {
     "data": {
      "application/vnd.jupyter.widget-view+json": {
       "model_id": "498df398845749dba2346f0bd1ec7f5b",
       "version_major": 2,
       "version_minor": 0
      },
      "text/plain": [
       "HBox(children=(HTML(value=''), FloatProgress(value=0.0, max=2.0), HTML(value='')))"
      ]
     },
     "metadata": {},
     "output_type": "display_data"
    },
    {
     "name": "stdout",
     "output_type": "stream",
     "text": [
      "\n",
      "acc for each class: tensor([0.0018, 0.0022, 0.0024, 0.0024, 0.0024, 0.0023, 0.0024, 0.0024, 0.0024,\n",
      "        0.0024])\n",
      "Test Loss: 0.1330 Acc: 0.9559\n",
      "\n",
      "Epoch 59/119\n"
     ]
    },
    {
     "data": {
      "application/vnd.jupyter.widget-view+json": {
       "model_id": "589520d8518a4cf782f63560555cc03d",
       "version_major": 2,
       "version_minor": 0
      },
      "text/plain": [
       "HBox(children=(HTML(value=''), FloatProgress(value=0.0, max=573.0), HTML(value='')))"
      ]
     },
     "metadata": {},
     "output_type": "display_data"
    },
    {
     "name": "stdout",
     "output_type": "stream",
     "text": [
      "\n",
      "Training Loss: 1.2829 Acc: 0.6820\n"
     ]
    },
    {
     "data": {
      "application/vnd.jupyter.widget-view+json": {
       "model_id": "24ddcbcc6d2d489a9b93f5aa80fef3d6",
       "version_major": 2,
       "version_minor": 0
      },
      "text/plain": [
       "HBox(children=(HTML(value=''), FloatProgress(value=0.0, max=2.0), HTML(value='')))"
      ]
     },
     "metadata": {},
     "output_type": "display_data"
    },
    {
     "name": "stdout",
     "output_type": "stream",
     "text": [
      "\n",
      "acc for each class: tensor([0.0016, 0.0024, 0.0024, 0.0024, 0.0024, 0.0022, 0.0024, 0.0024, 0.0024,\n",
      "        0.0024])\n",
      "Test Loss: 0.1507 Acc: 0.9510\n",
      "\n",
      "Epoch 60/119\n"
     ]
    },
    {
     "data": {
      "application/vnd.jupyter.widget-view+json": {
       "model_id": "f3c1d1c2e76b4a0883e2f33c3d62467b",
       "version_major": 2,
       "version_minor": 0
      },
      "text/plain": [
       "HBox(children=(HTML(value=''), FloatProgress(value=0.0, max=573.0), HTML(value='')))"
      ]
     },
     "metadata": {},
     "output_type": "display_data"
    },
    {
     "name": "stdout",
     "output_type": "stream",
     "text": [
      "\n",
      "Training Loss: 1.2620 Acc: 0.6899\n"
     ]
    },
    {
     "data": {
      "application/vnd.jupyter.widget-view+json": {
       "model_id": "c70990252b6844d0b42422f494ab954f",
       "version_major": 2,
       "version_minor": 0
      },
      "text/plain": [
       "HBox(children=(HTML(value=''), FloatProgress(value=0.0, max=2.0), HTML(value='')))"
      ]
     },
     "metadata": {},
     "output_type": "display_data"
    },
    {
     "name": "stdout",
     "output_type": "stream",
     "text": [
      "\n",
      "acc for each class: tensor([0.0017, 0.0024, 0.0024, 0.0024, 0.0024, 0.0022, 0.0024, 0.0024, 0.0024,\n",
      "        0.0024])\n",
      "Test Loss: 0.1458 Acc: 0.9535\n",
      "\n",
      "Epoch 61/119\n"
     ]
    },
    {
     "data": {
      "application/vnd.jupyter.widget-view+json": {
       "model_id": "c9c0dfb3cbff4553ac945cb2a1fe9a0e",
       "version_major": 2,
       "version_minor": 0
      },
      "text/plain": [
       "HBox(children=(HTML(value=''), FloatProgress(value=0.0, max=573.0), HTML(value='')))"
      ]
     },
     "metadata": {},
     "output_type": "display_data"
    },
    {
     "name": "stdout",
     "output_type": "stream",
     "text": [
      "\n",
      "Training Loss: 1.2553 Acc: 0.6896\n"
     ]
    },
    {
     "data": {
      "application/vnd.jupyter.widget-view+json": {
       "model_id": "2cb79e46a5b142cab1cc4c2a89731d99",
       "version_major": 2,
       "version_minor": 0
      },
      "text/plain": [
       "HBox(children=(HTML(value=''), FloatProgress(value=0.0, max=2.0), HTML(value='')))"
      ]
     },
     "metadata": {},
     "output_type": "display_data"
    },
    {
     "name": "stdout",
     "output_type": "stream",
     "text": [
      "\n",
      "acc for each class: tensor([0.0019, 0.0024, 0.0024, 0.0024, 0.0024, 0.0022, 0.0024, 0.0024, 0.0024,\n",
      "        0.0024])\n",
      "Test Loss: 0.1409 Acc: 0.9608\n",
      "Time from Start 855m 59s\n",
      "\n",
      "Epoch 62/119\n"
     ]
    },
    {
     "data": {
      "application/vnd.jupyter.widget-view+json": {
       "model_id": "f2e2e0a679dd42a7ad78fe06b969e5f1",
       "version_major": 2,
       "version_minor": 0
      },
      "text/plain": [
       "HBox(children=(HTML(value=''), FloatProgress(value=0.0, max=573.0), HTML(value='')))"
      ]
     },
     "metadata": {},
     "output_type": "display_data"
    },
    {
     "name": "stdout",
     "output_type": "stream",
     "text": [
      "\n",
      "Training Loss: 1.2666 Acc: 0.6995\n"
     ]
    },
    {
     "data": {
      "application/vnd.jupyter.widget-view+json": {
       "model_id": "ff9db665c28f4ed6a8e66377b9856571",
       "version_major": 2,
       "version_minor": 0
      },
      "text/plain": [
       "HBox(children=(HTML(value=''), FloatProgress(value=0.0, max=2.0), HTML(value='')))"
      ]
     },
     "metadata": {},
     "output_type": "display_data"
    },
    {
     "name": "stdout",
     "output_type": "stream",
     "text": [
      "\n",
      "acc for each class: tensor([0.0019, 0.0023, 0.0024, 0.0024, 0.0024, 0.0022, 0.0024, 0.0024, 0.0024,\n",
      "        0.0024])\n",
      "Test Loss: 0.1359 Acc: 0.9572\n",
      "\n",
      "Epoch 63/119\n"
     ]
    },
    {
     "data": {
      "application/vnd.jupyter.widget-view+json": {
       "model_id": "b488a8e5784347129c8d315387518265",
       "version_major": 2,
       "version_minor": 0
      },
      "text/plain": [
       "HBox(children=(HTML(value=''), FloatProgress(value=0.0, max=573.0), HTML(value='')))"
      ]
     },
     "metadata": {},
     "output_type": "display_data"
    },
    {
     "name": "stdout",
     "output_type": "stream",
     "text": [
      "\n",
      "Training Loss: 1.2641 Acc: 0.7016\n"
     ]
    },
    {
     "data": {
      "application/vnd.jupyter.widget-view+json": {
       "model_id": "0aecd04c54224de985d1f1c9ebf076bc",
       "version_major": 2,
       "version_minor": 0
      },
      "text/plain": [
       "HBox(children=(HTML(value=''), FloatProgress(value=0.0, max=2.0), HTML(value='')))"
      ]
     },
     "metadata": {},
     "output_type": "display_data"
    },
    {
     "name": "stdout",
     "output_type": "stream",
     "text": [
      "\n",
      "acc for each class: tensor([0.0018, 0.0023, 0.0024, 0.0024, 0.0024, 0.0022, 0.0024, 0.0024, 0.0024,\n",
      "        0.0024])\n",
      "Test Loss: 0.1289 Acc: 0.9572\n",
      "\n",
      "Epoch 64/119\n"
     ]
    },
    {
     "data": {
      "application/vnd.jupyter.widget-view+json": {
       "model_id": "6e26b62b0b12400b806a5883e768595f",
       "version_major": 2,
       "version_minor": 0
      },
      "text/plain": [
       "HBox(children=(HTML(value=''), FloatProgress(value=0.0, max=573.0), HTML(value='')))"
      ]
     },
     "metadata": {},
     "output_type": "display_data"
    },
    {
     "name": "stdout",
     "output_type": "stream",
     "text": [
      "\n",
      "Training Loss: 1.2571 Acc: 0.6939\n"
     ]
    },
    {
     "data": {
      "application/vnd.jupyter.widget-view+json": {
       "model_id": "f57e42972c2f4525af566ac4b3f4df8b",
       "version_major": 2,
       "version_minor": 0
      },
      "text/plain": [
       "HBox(children=(HTML(value=''), FloatProgress(value=0.0, max=2.0), HTML(value='')))"
      ]
     },
     "metadata": {},
     "output_type": "display_data"
    },
    {
     "name": "stdout",
     "output_type": "stream",
     "text": [
      "\n",
      "acc for each class: tensor([0.0018, 0.0024, 0.0024, 0.0024, 0.0024, 0.0022, 0.0024, 0.0024, 0.0024,\n",
      "        0.0024])\n",
      "Test Loss: 0.1436 Acc: 0.9572\n",
      "\n",
      "Epoch 65/119\n"
     ]
    },
    {
     "data": {
      "application/vnd.jupyter.widget-view+json": {
       "model_id": "8de1c353a57b42199da4312578d61138",
       "version_major": 2,
       "version_minor": 0
      },
      "text/plain": [
       "HBox(children=(HTML(value=''), FloatProgress(value=0.0, max=573.0), HTML(value='')))"
      ]
     },
     "metadata": {},
     "output_type": "display_data"
    },
    {
     "name": "stdout",
     "output_type": "stream",
     "text": [
      "\n",
      "Training Loss: 1.2498 Acc: 0.7066\n"
     ]
    },
    {
     "data": {
      "application/vnd.jupyter.widget-view+json": {
       "model_id": "f3cc9fc1df8245c18fa093e0c5b37342",
       "version_major": 2,
       "version_minor": 0
      },
      "text/plain": [
       "HBox(children=(HTML(value=''), FloatProgress(value=0.0, max=2.0), HTML(value='')))"
      ]
     },
     "metadata": {},
     "output_type": "display_data"
    },
    {
     "name": "stdout",
     "output_type": "stream",
     "text": [
      "\n",
      "acc for each class: tensor([0.0018, 0.0024, 0.0024, 0.0024, 0.0024, 0.0022, 0.0024, 0.0024, 0.0024,\n",
      "        0.0024])\n",
      "Test Loss: 0.1310 Acc: 0.9572\n",
      "\n",
      "Epoch 66/119\n"
     ]
    },
    {
     "data": {
      "application/vnd.jupyter.widget-view+json": {
       "model_id": "089c74be9eee4fe885004a60234940e1",
       "version_major": 2,
       "version_minor": 0
      },
      "text/plain": [
       "HBox(children=(HTML(value=''), FloatProgress(value=0.0, max=573.0), HTML(value='')))"
      ]
     },
     "metadata": {},
     "output_type": "display_data"
    },
    {
     "name": "stdout",
     "output_type": "stream",
     "text": [
      "\n",
      "Training Loss: 1.2678 Acc: 0.7025\n"
     ]
    },
    {
     "data": {
      "application/vnd.jupyter.widget-view+json": {
       "model_id": "c166e54f97804f10aff7924089a79ab1",
       "version_major": 2,
       "version_minor": 0
      },
      "text/plain": [
       "HBox(children=(HTML(value=''), FloatProgress(value=0.0, max=2.0), HTML(value='')))"
      ]
     },
     "metadata": {},
     "output_type": "display_data"
    },
    {
     "name": "stdout",
     "output_type": "stream",
     "text": [
      "\n",
      "acc for each class: tensor([0.0019, 0.0024, 0.0024, 0.0024, 0.0024, 0.0022, 0.0024, 0.0024, 0.0024,\n",
      "        0.0024])\n",
      "Test Loss: 0.1415 Acc: 0.9621\n",
      "Time from Start 924m 56s\n",
      "\n",
      "Epoch 67/119\n"
     ]
    },
    {
     "data": {
      "application/vnd.jupyter.widget-view+json": {
       "model_id": "d7553b7de49c45ef8fd92dc9380206d0",
       "version_major": 2,
       "version_minor": 0
      },
      "text/plain": [
       "HBox(children=(HTML(value=''), FloatProgress(value=0.0, max=573.0), HTML(value='')))"
      ]
     },
     "metadata": {},
     "output_type": "display_data"
    },
    {
     "name": "stdout",
     "output_type": "stream",
     "text": [
      "\n",
      "Training Loss: 1.2181 Acc: 0.7072\n"
     ]
    },
    {
     "data": {
      "application/vnd.jupyter.widget-view+json": {
       "model_id": "039466b006f94626885c816a4812a542",
       "version_major": 2,
       "version_minor": 0
      },
      "text/plain": [
       "HBox(children=(HTML(value=''), FloatProgress(value=0.0, max=2.0), HTML(value='')))"
      ]
     },
     "metadata": {},
     "output_type": "display_data"
    },
    {
     "name": "stdout",
     "output_type": "stream",
     "text": [
      "\n",
      "acc for each class: tensor([0.0019, 0.0023, 0.0024, 0.0024, 0.0024, 0.0021, 0.0024, 0.0024, 0.0024,\n",
      "        0.0024])\n",
      "Test Loss: 0.1360 Acc: 0.9584\n",
      "\n",
      "Epoch 68/119\n"
     ]
    },
    {
     "data": {
      "application/vnd.jupyter.widget-view+json": {
       "model_id": "3051444a48334521b1f5ecb35c282e69",
       "version_major": 2,
       "version_minor": 0
      },
      "text/plain": [
       "HBox(children=(HTML(value=''), FloatProgress(value=0.0, max=573.0), HTML(value='')))"
      ]
     },
     "metadata": {},
     "output_type": "display_data"
    },
    {
     "name": "stdout",
     "output_type": "stream",
     "text": [
      "\n",
      "Training Loss: 1.2277 Acc: 0.7038\n"
     ]
    },
    {
     "data": {
      "application/vnd.jupyter.widget-view+json": {
       "model_id": "0e3dc6dec12f485ba2847ca822de2337",
       "version_major": 2,
       "version_minor": 0
      },
      "text/plain": [
       "HBox(children=(HTML(value=''), FloatProgress(value=0.0, max=2.0), HTML(value='')))"
      ]
     },
     "metadata": {},
     "output_type": "display_data"
    },
    {
     "name": "stdout",
     "output_type": "stream",
     "text": [
      "\n",
      "acc for each class: tensor([0.0018, 0.0023, 0.0024, 0.0024, 0.0024, 0.0022, 0.0024, 0.0024, 0.0024,\n",
      "        0.0024])\n",
      "Test Loss: 0.1281 Acc: 0.9621\n",
      "\n",
      "Epoch 69/119\n"
     ]
    },
    {
     "data": {
      "application/vnd.jupyter.widget-view+json": {
       "model_id": "557ef1a6ee3143fcbe053ad5daed402e",
       "version_major": 2,
       "version_minor": 0
      },
      "text/plain": [
       "HBox(children=(HTML(value=''), FloatProgress(value=0.0, max=573.0), HTML(value='')))"
      ]
     },
     "metadata": {},
     "output_type": "display_data"
    },
    {
     "name": "stdout",
     "output_type": "stream",
     "text": [
      "\n",
      "Training Loss: 1.2752 Acc: 0.7222\n"
     ]
    },
    {
     "data": {
      "application/vnd.jupyter.widget-view+json": {
       "model_id": "54b3279942944c719a931cf799dd744e",
       "version_major": 2,
       "version_minor": 0
      },
      "text/plain": [
       "HBox(children=(HTML(value=''), FloatProgress(value=0.0, max=2.0), HTML(value='')))"
      ]
     },
     "metadata": {},
     "output_type": "display_data"
    },
    {
     "name": "stdout",
     "output_type": "stream",
     "text": [
      "\n",
      "acc for each class: tensor([0.0020, 0.0023, 0.0024, 0.0024, 0.0024, 0.0022, 0.0024, 0.0024, 0.0024,\n",
      "        0.0024])\n",
      "Test Loss: 0.1342 Acc: 0.9596\n",
      "\n",
      "Epoch 70/119\n"
     ]
    },
    {
     "data": {
      "application/vnd.jupyter.widget-view+json": {
       "model_id": "49fb08d19099455a9e8c430798f67a37",
       "version_major": 2,
       "version_minor": 0
      },
      "text/plain": [
       "HBox(children=(HTML(value=''), FloatProgress(value=0.0, max=573.0), HTML(value='')))"
      ]
     },
     "metadata": {},
     "output_type": "display_data"
    },
    {
     "name": "stdout",
     "output_type": "stream",
     "text": [
      "\n",
      "Training Loss: 1.2471 Acc: 0.7134\n"
     ]
    },
    {
     "data": {
      "application/vnd.jupyter.widget-view+json": {
       "model_id": "3df8db6c0d214fb997665ed2c496c7ed",
       "version_major": 2,
       "version_minor": 0
      },
      "text/plain": [
       "HBox(children=(HTML(value=''), FloatProgress(value=0.0, max=2.0), HTML(value='')))"
      ]
     },
     "metadata": {},
     "output_type": "display_data"
    },
    {
     "name": "stdout",
     "output_type": "stream",
     "text": [
      "\n",
      "acc for each class: tensor([0.0018, 0.0023, 0.0024, 0.0024, 0.0024, 0.0022, 0.0024, 0.0024, 0.0024,\n",
      "        0.0024])\n",
      "Test Loss: 0.1361 Acc: 0.9584\n",
      "\n",
      "Epoch 71/119\n"
     ]
    },
    {
     "data": {
      "application/vnd.jupyter.widget-view+json": {
       "model_id": "ab4c912dd4dd48048875cb3d0e81607f",
       "version_major": 2,
       "version_minor": 0
      },
      "text/plain": [
       "HBox(children=(HTML(value=''), FloatProgress(value=0.0, max=573.0), HTML(value='')))"
      ]
     },
     "metadata": {},
     "output_type": "display_data"
    },
    {
     "name": "stdout",
     "output_type": "stream",
     "text": [
      "\n",
      "Training Loss: 1.3144 Acc: 0.6372\n"
     ]
    },
    {
     "data": {
      "application/vnd.jupyter.widget-view+json": {
       "model_id": "d21cea21e9124c26bd408be5261f74bb",
       "version_major": 2,
       "version_minor": 0
      },
      "text/plain": [
       "HBox(children=(HTML(value=''), FloatProgress(value=0.0, max=2.0), HTML(value='')))"
      ]
     },
     "metadata": {},
     "output_type": "display_data"
    },
    {
     "name": "stdout",
     "output_type": "stream",
     "text": [
      "\n",
      "acc for each class: tensor([0.0017, 0.0023, 0.0024, 0.0024, 0.0024, 0.0023, 0.0024, 0.0024, 0.0024,\n",
      "        0.0024])\n",
      "Test Loss: 0.1607 Acc: 0.9474\n",
      "\n",
      "Epoch 72/119\n"
     ]
    },
    {
     "data": {
      "application/vnd.jupyter.widget-view+json": {
       "model_id": "d65c8424d9b244acada37e93acf6b481",
       "version_major": 2,
       "version_minor": 0
      },
      "text/plain": [
       "HBox(children=(HTML(value=''), FloatProgress(value=0.0, max=573.0), HTML(value='')))"
      ]
     },
     "metadata": {},
     "output_type": "display_data"
    },
    {
     "name": "stdout",
     "output_type": "stream",
     "text": [
      "\n",
      "Training Loss: 1.2550 Acc: 0.6799\n"
     ]
    },
    {
     "data": {
      "application/vnd.jupyter.widget-view+json": {
       "model_id": "967e93ca97364281b845e05d956e8d91",
       "version_major": 2,
       "version_minor": 0
      },
      "text/plain": [
       "HBox(children=(HTML(value=''), FloatProgress(value=0.0, max=2.0), HTML(value='')))"
      ]
     },
     "metadata": {},
     "output_type": "display_data"
    },
    {
     "name": "stdout",
     "output_type": "stream",
     "text": [
      "\n",
      "acc for each class: tensor([0.0019, 0.0023, 0.0024, 0.0024, 0.0024, 0.0022, 0.0024, 0.0024, 0.0024,\n",
      "        0.0024])\n",
      "Test Loss: 0.1464 Acc: 0.9572\n",
      "\n",
      "Epoch 73/119\n"
     ]
    },
    {
     "data": {
      "application/vnd.jupyter.widget-view+json": {
       "model_id": "eac1cc17ea9e456f8f4c332b39ea8813",
       "version_major": 2,
       "version_minor": 0
      },
      "text/plain": [
       "HBox(children=(HTML(value=''), FloatProgress(value=0.0, max=573.0), HTML(value='')))"
      ]
     },
     "metadata": {},
     "output_type": "display_data"
    },
    {
     "name": "stdout",
     "output_type": "stream",
     "text": [
      "\n",
      "Training Loss: 1.2822 Acc: 0.6895\n"
     ]
    },
    {
     "data": {
      "application/vnd.jupyter.widget-view+json": {
       "model_id": "98d4103cfef94f6a81658e6459266c0c",
       "version_major": 2,
       "version_minor": 0
      },
      "text/plain": [
       "HBox(children=(HTML(value=''), FloatProgress(value=0.0, max=2.0), HTML(value='')))"
      ]
     },
     "metadata": {},
     "output_type": "display_data"
    },
    {
     "name": "stdout",
     "output_type": "stream",
     "text": [
      "\n",
      "acc for each class: tensor([0.0019, 0.0024, 0.0024, 0.0024, 0.0024, 0.0023, 0.0024, 0.0024, 0.0024,\n",
      "        0.0024])\n",
      "Test Loss: 0.1354 Acc: 0.9633\n",
      "Time from Start 1021m 6s\n",
      "\n",
      "Epoch 74/119\n"
     ]
    },
    {
     "data": {
      "application/vnd.jupyter.widget-view+json": {
       "model_id": "b42f0659896c4626886cfbd9c70414cd",
       "version_major": 2,
       "version_minor": 0
      },
      "text/plain": [
       "HBox(children=(HTML(value=''), FloatProgress(value=0.0, max=573.0), HTML(value='')))"
      ]
     },
     "metadata": {},
     "output_type": "display_data"
    },
    {
     "name": "stdout",
     "output_type": "stream",
     "text": [
      "\n",
      "Training Loss: 1.2754 Acc: 0.7047\n"
     ]
    },
    {
     "data": {
      "application/vnd.jupyter.widget-view+json": {
       "model_id": "0b946ca95e0b44c2897222bcb41dc82b",
       "version_major": 2,
       "version_minor": 0
      },
      "text/plain": [
       "HBox(children=(HTML(value=''), FloatProgress(value=0.0, max=2.0), HTML(value='')))"
      ]
     },
     "metadata": {},
     "output_type": "display_data"
    },
    {
     "name": "stdout",
     "output_type": "stream",
     "text": [
      "\n",
      "acc for each class: tensor([0.0019, 0.0023, 0.0024, 0.0024, 0.0024, 0.0022, 0.0024, 0.0024, 0.0024,\n",
      "        0.0024])\n",
      "Test Loss: 0.1293 Acc: 0.9633\n",
      "\n",
      "Epoch 75/119\n"
     ]
    },
    {
     "data": {
      "application/vnd.jupyter.widget-view+json": {
       "model_id": "52c7a4baacb043bfaa5175b3aae4eeaf",
       "version_major": 2,
       "version_minor": 0
      },
      "text/plain": [
       "HBox(children=(HTML(value=''), FloatProgress(value=0.0, max=573.0), HTML(value='')))"
      ]
     },
     "metadata": {},
     "output_type": "display_data"
    },
    {
     "name": "stdout",
     "output_type": "stream",
     "text": [
      "\n",
      "Training Loss: 1.2464 Acc: 0.7082\n"
     ]
    },
    {
     "data": {
      "application/vnd.jupyter.widget-view+json": {
       "model_id": "e4a937e0cbdd4c7eb7455286aa5feeb2",
       "version_major": 2,
       "version_minor": 0
      },
      "text/plain": [
       "HBox(children=(HTML(value=''), FloatProgress(value=0.0, max=2.0), HTML(value='')))"
      ]
     },
     "metadata": {},
     "output_type": "display_data"
    },
    {
     "name": "stdout",
     "output_type": "stream",
     "text": [
      "\n",
      "acc for each class: tensor([0.0019, 0.0024, 0.0024, 0.0024, 0.0024, 0.0022, 0.0024, 0.0024, 0.0024,\n",
      "        0.0024])\n",
      "Test Loss: 0.1299 Acc: 0.9633\n",
      "\n",
      "Epoch 76/119\n"
     ]
    },
    {
     "data": {
      "application/vnd.jupyter.widget-view+json": {
       "model_id": "01f35b518c1d444db147577ff2c74bfc",
       "version_major": 2,
       "version_minor": 0
      },
      "text/plain": [
       "HBox(children=(HTML(value=''), FloatProgress(value=0.0, max=573.0), HTML(value='')))"
      ]
     },
     "metadata": {},
     "output_type": "display_data"
    },
    {
     "name": "stdout",
     "output_type": "stream",
     "text": [
      "\n",
      "Training Loss: 1.2204 Acc: 0.7226\n"
     ]
    },
    {
     "data": {
      "application/vnd.jupyter.widget-view+json": {
       "model_id": "27a50a87d99d416f8d92c2af534fc028",
       "version_major": 2,
       "version_minor": 0
      },
      "text/plain": [
       "HBox(children=(HTML(value=''), FloatProgress(value=0.0, max=2.0), HTML(value='')))"
      ]
     },
     "metadata": {},
     "output_type": "display_data"
    },
    {
     "name": "stdout",
     "output_type": "stream",
     "text": [
      "\n",
      "acc for each class: tensor([0.0017, 0.0024, 0.0024, 0.0024, 0.0024, 0.0022, 0.0024, 0.0024, 0.0024,\n",
      "        0.0024])\n",
      "Test Loss: 0.1185 Acc: 0.9596\n",
      "\n",
      "Epoch 77/119\n"
     ]
    },
    {
     "data": {
      "application/vnd.jupyter.widget-view+json": {
       "model_id": "301970ac9a3a45b1bad4a451efbf256c",
       "version_major": 2,
       "version_minor": 0
      },
      "text/plain": [
       "HBox(children=(HTML(value=''), FloatProgress(value=0.0, max=573.0), HTML(value='')))"
      ]
     },
     "metadata": {},
     "output_type": "display_data"
    },
    {
     "name": "stdout",
     "output_type": "stream",
     "text": [
      "\n",
      "Training Loss: 1.2585 Acc: 0.7239\n"
     ]
    },
    {
     "data": {
      "application/vnd.jupyter.widget-view+json": {
       "model_id": "e6e6dbafe3a548189f5224a56ad735b7",
       "version_major": 2,
       "version_minor": 0
      },
      "text/plain": [
       "HBox(children=(HTML(value=''), FloatProgress(value=0.0, max=2.0), HTML(value='')))"
      ]
     },
     "metadata": {},
     "output_type": "display_data"
    },
    {
     "name": "stdout",
     "output_type": "stream",
     "text": [
      "\n",
      "acc for each class: tensor([0.0020, 0.0024, 0.0024, 0.0024, 0.0024, 0.0022, 0.0024, 0.0024, 0.0024,\n",
      "        0.0024])\n",
      "Test Loss: 0.1331 Acc: 0.9670\n",
      "Time from Start 1076m 2s\n",
      "\n",
      "Epoch 78/119\n"
     ]
    },
    {
     "data": {
      "application/vnd.jupyter.widget-view+json": {
       "model_id": "fb09c3808563495fb208306365b2e1a7",
       "version_major": 2,
       "version_minor": 0
      },
      "text/plain": [
       "HBox(children=(HTML(value=''), FloatProgress(value=0.0, max=573.0), HTML(value='')))"
      ]
     },
     "metadata": {},
     "output_type": "display_data"
    },
    {
     "name": "stdout",
     "output_type": "stream",
     "text": [
      "\n",
      "Training Loss: 1.2144 Acc: 0.7229\n"
     ]
    },
    {
     "data": {
      "application/vnd.jupyter.widget-view+json": {
       "model_id": "f393f73caa64403e89beb871f994e213",
       "version_major": 2,
       "version_minor": 0
      },
      "text/plain": [
       "HBox(children=(HTML(value=''), FloatProgress(value=0.0, max=2.0), HTML(value='')))"
      ]
     },
     "metadata": {},
     "output_type": "display_data"
    },
    {
     "name": "stdout",
     "output_type": "stream",
     "text": [
      "\n",
      "acc for each class: tensor([0.0021, 0.0022, 0.0024, 0.0024, 0.0024, 0.0022, 0.0024, 0.0024, 0.0024,\n",
      "        0.0024])\n",
      "Test Loss: 0.1324 Acc: 0.9657\n",
      "\n",
      "Epoch 79/119\n"
     ]
    },
    {
     "data": {
      "application/vnd.jupyter.widget-view+json": {
       "model_id": "62576f76d7804d568a99db891c8ff2f4",
       "version_major": 2,
       "version_minor": 0
      },
      "text/plain": [
       "HBox(children=(HTML(value=''), FloatProgress(value=0.0, max=573.0), HTML(value='')))"
      ]
     },
     "metadata": {},
     "output_type": "display_data"
    },
    {
     "name": "stdout",
     "output_type": "stream",
     "text": [
      "\n",
      "Training Loss: 1.2826 Acc: 0.7291\n"
     ]
    },
    {
     "data": {
      "application/vnd.jupyter.widget-view+json": {
       "model_id": "a2865a83bf0e460fa8711ef60661d175",
       "version_major": 2,
       "version_minor": 0
      },
      "text/plain": [
       "HBox(children=(HTML(value=''), FloatProgress(value=0.0, max=2.0), HTML(value='')))"
      ]
     },
     "metadata": {},
     "output_type": "display_data"
    },
    {
     "name": "stdout",
     "output_type": "stream",
     "text": [
      "\n",
      "acc for each class: tensor([0.0019, 0.0024, 0.0024, 0.0024, 0.0024, 0.0022, 0.0024, 0.0024, 0.0024,\n",
      "        0.0024])\n",
      "Test Loss: 0.1340 Acc: 0.9645\n",
      "\n",
      "Epoch 80/119\n"
     ]
    },
    {
     "data": {
      "application/vnd.jupyter.widget-view+json": {
       "model_id": "bc4399406ba74ae092debc23591fb2ec",
       "version_major": 2,
       "version_minor": 0
      },
      "text/plain": [
       "HBox(children=(HTML(value=''), FloatProgress(value=0.0, max=573.0), HTML(value='')))"
      ]
     },
     "metadata": {},
     "output_type": "display_data"
    },
    {
     "name": "stdout",
     "output_type": "stream",
     "text": [
      "\n",
      "Training Loss: 1.2244 Acc: 0.7267\n"
     ]
    },
    {
     "data": {
      "application/vnd.jupyter.widget-view+json": {
       "model_id": "3a710d0afb184c8eb3bb2ad1d0e8bb81",
       "version_major": 2,
       "version_minor": 0
      },
      "text/plain": [
       "HBox(children=(HTML(value=''), FloatProgress(value=0.0, max=2.0), HTML(value='')))"
      ]
     },
     "metadata": {},
     "output_type": "display_data"
    },
    {
     "name": "stdout",
     "output_type": "stream",
     "text": [
      "\n",
      "acc for each class: tensor([0.0020, 0.0024, 0.0024, 0.0024, 0.0024, 0.0022, 0.0024, 0.0024, 0.0024,\n",
      "        0.0024])\n",
      "Test Loss: 0.1188 Acc: 0.9670\n",
      "\n",
      "Epoch 81/119\n"
     ]
    },
    {
     "data": {
      "application/vnd.jupyter.widget-view+json": {
       "model_id": "6f97dae876f84ee4a5e0f567b4627b00",
       "version_major": 2,
       "version_minor": 0
      },
      "text/plain": [
       "HBox(children=(HTML(value=''), FloatProgress(value=0.0, max=573.0), HTML(value='')))"
      ]
     },
     "metadata": {},
     "output_type": "display_data"
    },
    {
     "name": "stdout",
     "output_type": "stream",
     "text": [
      "\n",
      "Training Loss: 1.2370 Acc: 0.7308\n"
     ]
    },
    {
     "data": {
      "application/vnd.jupyter.widget-view+json": {
       "model_id": "5af11baadc8b4505b2514a7ec421a42b",
       "version_major": 2,
       "version_minor": 0
      },
      "text/plain": [
       "HBox(children=(HTML(value=''), FloatProgress(value=0.0, max=2.0), HTML(value='')))"
      ]
     },
     "metadata": {},
     "output_type": "display_data"
    },
    {
     "name": "stdout",
     "output_type": "stream",
     "text": [
      "\n",
      "acc for each class: tensor([0.0020, 0.0023, 0.0024, 0.0024, 0.0024, 0.0022, 0.0024, 0.0024, 0.0024,\n",
      "        0.0024])\n",
      "Test Loss: 0.1249 Acc: 0.9670\n",
      "\n",
      "Epoch 82/119\n"
     ]
    },
    {
     "data": {
      "application/vnd.jupyter.widget-view+json": {
       "model_id": "8dc2f603ff8d4bada35dd1b296758e79",
       "version_major": 2,
       "version_minor": 0
      },
      "text/plain": [
       "HBox(children=(HTML(value=''), FloatProgress(value=0.0, max=573.0), HTML(value='')))"
      ]
     },
     "metadata": {},
     "output_type": "display_data"
    },
    {
     "name": "stdout",
     "output_type": "stream",
     "text": [
      "\n",
      "Training Loss: 1.2375 Acc: 0.7319\n"
     ]
    },
    {
     "data": {
      "application/vnd.jupyter.widget-view+json": {
       "model_id": "5cbcd8a0bb454c17a968ad513bc5c6fb",
       "version_major": 2,
       "version_minor": 0
      },
      "text/plain": [
       "HBox(children=(HTML(value=''), FloatProgress(value=0.0, max=2.0), HTML(value='')))"
      ]
     },
     "metadata": {},
     "output_type": "display_data"
    },
    {
     "name": "stdout",
     "output_type": "stream",
     "text": [
      "\n",
      "acc for each class: tensor([0.0020, 0.0024, 0.0024, 0.0024, 0.0024, 0.0023, 0.0024, 0.0024, 0.0024,\n",
      "        0.0024])\n",
      "Test Loss: 0.1343 Acc: 0.9718\n",
      "Time from Start 1144m 45s\n",
      "\n",
      "Epoch 83/119\n"
     ]
    },
    {
     "data": {
      "application/vnd.jupyter.widget-view+json": {
       "model_id": "4f98249c5c7b46999d044465006cbff7",
       "version_major": 2,
       "version_minor": 0
      },
      "text/plain": [
       "HBox(children=(HTML(value=''), FloatProgress(value=0.0, max=573.0), HTML(value='')))"
      ]
     },
     "metadata": {},
     "output_type": "display_data"
    },
    {
     "name": "stdout",
     "output_type": "stream",
     "text": [
      "\n",
      "Training Loss: 1.2440 Acc: 0.7365\n"
     ]
    },
    {
     "data": {
      "application/vnd.jupyter.widget-view+json": {
       "model_id": "b63e1c15c69747ac96992689d231262e",
       "version_major": 2,
       "version_minor": 0
      },
      "text/plain": [
       "HBox(children=(HTML(value=''), FloatProgress(value=0.0, max=2.0), HTML(value='')))"
      ]
     },
     "metadata": {},
     "output_type": "display_data"
    },
    {
     "name": "stdout",
     "output_type": "stream",
     "text": [
      "\n",
      "acc for each class: tensor([0.0019, 0.0024, 0.0024, 0.0024, 0.0024, 0.0022, 0.0024, 0.0024, 0.0024,\n",
      "        0.0024])\n",
      "Test Loss: 0.1257 Acc: 0.9682\n",
      "\n",
      "Epoch 84/119\n"
     ]
    },
    {
     "data": {
      "application/vnd.jupyter.widget-view+json": {
       "model_id": "2451b5605c634c30a4d778b727f9fa09",
       "version_major": 2,
       "version_minor": 0
      },
      "text/plain": [
       "HBox(children=(HTML(value=''), FloatProgress(value=0.0, max=573.0), HTML(value='')))"
      ]
     },
     "metadata": {},
     "output_type": "display_data"
    },
    {
     "name": "stdout",
     "output_type": "stream",
     "text": [
      "\n",
      "Training Loss: 1.2093 Acc: 0.7397\n"
     ]
    },
    {
     "data": {
      "application/vnd.jupyter.widget-view+json": {
       "model_id": "ee6638635e374360ba872ddce49bd36f",
       "version_major": 2,
       "version_minor": 0
      },
      "text/plain": [
       "HBox(children=(HTML(value=''), FloatProgress(value=0.0, max=2.0), HTML(value='')))"
      ]
     },
     "metadata": {},
     "output_type": "display_data"
    },
    {
     "name": "stdout",
     "output_type": "stream",
     "text": [
      "\n",
      "acc for each class: tensor([0.0019, 0.0024, 0.0024, 0.0024, 0.0024, 0.0022, 0.0024, 0.0024, 0.0024,\n",
      "        0.0024])\n",
      "Test Loss: 0.1196 Acc: 0.9645\n",
      "\n",
      "Epoch 85/119\n"
     ]
    },
    {
     "data": {
      "application/vnd.jupyter.widget-view+json": {
       "model_id": "6442383b4a104940809e6f6eaaef7635",
       "version_major": 2,
       "version_minor": 0
      },
      "text/plain": [
       "HBox(children=(HTML(value=''), FloatProgress(value=0.0, max=573.0), HTML(value='')))"
      ]
     },
     "metadata": {},
     "output_type": "display_data"
    },
    {
     "name": "stdout",
     "output_type": "stream",
     "text": [
      "\n",
      "Training Loss: 1.2251 Acc: 0.7407\n"
     ]
    },
    {
     "data": {
      "application/vnd.jupyter.widget-view+json": {
       "model_id": "0e9e0ff5e740433bac3a4903fa4dea22",
       "version_major": 2,
       "version_minor": 0
      },
      "text/plain": [
       "HBox(children=(HTML(value=''), FloatProgress(value=0.0, max=2.0), HTML(value='')))"
      ]
     },
     "metadata": {},
     "output_type": "display_data"
    },
    {
     "name": "stdout",
     "output_type": "stream",
     "text": [
      "\n",
      "acc for each class: tensor([0.0020, 0.0024, 0.0024, 0.0024, 0.0024, 0.0022, 0.0024, 0.0024, 0.0024,\n",
      "        0.0024])\n",
      "Test Loss: 0.1192 Acc: 0.9694\n",
      "\n",
      "Epoch 86/119\n"
     ]
    },
    {
     "data": {
      "application/vnd.jupyter.widget-view+json": {
       "model_id": "1b1c2e5fefea4ac5bb1f8a409d3f757d",
       "version_major": 2,
       "version_minor": 0
      },
      "text/plain": [
       "HBox(children=(HTML(value=''), FloatProgress(value=0.0, max=573.0), HTML(value='')))"
      ]
     },
     "metadata": {},
     "output_type": "display_data"
    },
    {
     "name": "stdout",
     "output_type": "stream",
     "text": [
      "\n",
      "Training Loss: 1.2194 Acc: 0.7416\n"
     ]
    },
    {
     "data": {
      "application/vnd.jupyter.widget-view+json": {
       "model_id": "69d467d1c14b454eaeb97bf9c4b9ae2f",
       "version_major": 2,
       "version_minor": 0
      },
      "text/plain": [
       "HBox(children=(HTML(value=''), FloatProgress(value=0.0, max=2.0), HTML(value='')))"
      ]
     },
     "metadata": {},
     "output_type": "display_data"
    },
    {
     "name": "stdout",
     "output_type": "stream",
     "text": [
      "\n",
      "acc for each class: tensor([0.0021, 0.0024, 0.0024, 0.0024, 0.0024, 0.0023, 0.0024, 0.0024, 0.0024,\n",
      "        0.0024])\n",
      "Test Loss: 0.1170 Acc: 0.9718\n",
      "\n",
      "Epoch 87/119\n"
     ]
    },
    {
     "data": {
      "application/vnd.jupyter.widget-view+json": {
       "model_id": "2933bccb86d24dcfbce973b9a5521493",
       "version_major": 2,
       "version_minor": 0
      },
      "text/plain": [
       "HBox(children=(HTML(value=''), FloatProgress(value=0.0, max=573.0), HTML(value='')))"
      ]
     },
     "metadata": {},
     "output_type": "display_data"
    },
    {
     "name": "stdout",
     "output_type": "stream",
     "text": [
      "\n",
      "Training Loss: 1.2598 Acc: 0.7464\n"
     ]
    },
    {
     "data": {
      "application/vnd.jupyter.widget-view+json": {
       "model_id": "819a4565d79e46018926dfb9d61ecb81",
       "version_major": 2,
       "version_minor": 0
      },
      "text/plain": [
       "HBox(children=(HTML(value=''), FloatProgress(value=0.0, max=2.0), HTML(value='')))"
      ]
     },
     "metadata": {},
     "output_type": "display_data"
    },
    {
     "name": "stdout",
     "output_type": "stream",
     "text": [
      "\n",
      "acc for each class: tensor([0.0019, 0.0024, 0.0024, 0.0024, 0.0024, 0.0023, 0.0024, 0.0024, 0.0024,\n",
      "        0.0024])\n",
      "Test Loss: 0.1203 Acc: 0.9670\n",
      "\n",
      "Epoch 88/119\n"
     ]
    },
    {
     "data": {
      "application/vnd.jupyter.widget-view+json": {
       "model_id": "5cc844d77878477fb51e5eb101ba24fb",
       "version_major": 2,
       "version_minor": 0
      },
      "text/plain": [
       "HBox(children=(HTML(value=''), FloatProgress(value=0.0, max=573.0), HTML(value='')))"
      ]
     },
     "metadata": {},
     "output_type": "display_data"
    },
    {
     "name": "stdout",
     "output_type": "stream",
     "text": [
      "\n",
      "Training Loss: 1.2572 Acc: 0.7445\n"
     ]
    },
    {
     "data": {
      "application/vnd.jupyter.widget-view+json": {
       "model_id": "0753a19518e74f2bbe3cd6e702a0018b",
       "version_major": 2,
       "version_minor": 0
      },
      "text/plain": [
       "HBox(children=(HTML(value=''), FloatProgress(value=0.0, max=2.0), HTML(value='')))"
      ]
     },
     "metadata": {},
     "output_type": "display_data"
    },
    {
     "name": "stdout",
     "output_type": "stream",
     "text": [
      "\n",
      "acc for each class: tensor([0.0022, 0.0024, 0.0024, 0.0024, 0.0024, 0.0022, 0.0024, 0.0024, 0.0024,\n",
      "        0.0024])\n",
      "Test Loss: 0.1376 Acc: 0.9731\n",
      "Time from Start 1227m 20s\n",
      "\n",
      "Epoch 89/119\n"
     ]
    },
    {
     "data": {
      "application/vnd.jupyter.widget-view+json": {
       "model_id": "49fd2dd6c5d34f9e9bb49c2d885f888a",
       "version_major": 2,
       "version_minor": 0
      },
      "text/plain": [
       "HBox(children=(HTML(value=''), FloatProgress(value=0.0, max=573.0), HTML(value='')))"
      ]
     },
     "metadata": {},
     "output_type": "display_data"
    },
    {
     "name": "stdout",
     "output_type": "stream",
     "text": [
      "\n",
      "Training Loss: 1.2651 Acc: 0.7497\n"
     ]
    },
    {
     "data": {
      "application/vnd.jupyter.widget-view+json": {
       "model_id": "64986b88ed924e998e1ada836f32fd09",
       "version_major": 2,
       "version_minor": 0
      },
      "text/plain": [
       "HBox(children=(HTML(value=''), FloatProgress(value=0.0, max=2.0), HTML(value='')))"
      ]
     },
     "metadata": {},
     "output_type": "display_data"
    },
    {
     "name": "stdout",
     "output_type": "stream",
     "text": [
      "\n",
      "acc for each class: tensor([0.0021, 0.0024, 0.0024, 0.0024, 0.0024, 0.0022, 0.0024, 0.0024, 0.0024,\n",
      "        0.0024])\n",
      "Test Loss: 0.1181 Acc: 0.9706\n",
      "\n",
      "Epoch 90/119\n"
     ]
    },
    {
     "data": {
      "application/vnd.jupyter.widget-view+json": {
       "model_id": "d81e91c0c2ca45a6b422dab412ff4c03",
       "version_major": 2,
       "version_minor": 0
      },
      "text/plain": [
       "HBox(children=(HTML(value=''), FloatProgress(value=0.0, max=573.0), HTML(value='')))"
      ]
     },
     "metadata": {},
     "output_type": "display_data"
    },
    {
     "name": "stdout",
     "output_type": "stream",
     "text": [
      "\n",
      "Training Loss: 1.2183 Acc: 0.7433\n"
     ]
    },
    {
     "data": {
      "application/vnd.jupyter.widget-view+json": {
       "model_id": "e6827c02a4a44d318c5a36ec3684edaa",
       "version_major": 2,
       "version_minor": 0
      },
      "text/plain": [
       "HBox(children=(HTML(value=''), FloatProgress(value=0.0, max=2.0), HTML(value='')))"
      ]
     },
     "metadata": {},
     "output_type": "display_data"
    },
    {
     "name": "stdout",
     "output_type": "stream",
     "text": [
      "\n",
      "acc for each class: tensor([0.0020, 0.0023, 0.0024, 0.0024, 0.0024, 0.0022, 0.0024, 0.0024, 0.0024,\n",
      "        0.0024])\n",
      "Test Loss: 0.1218 Acc: 0.9682\n",
      "\n",
      "Epoch 91/119\n"
     ]
    },
    {
     "data": {
      "application/vnd.jupyter.widget-view+json": {
       "model_id": "e772bce1026f4f8c829e9ea268a8cc0f",
       "version_major": 2,
       "version_minor": 0
      },
      "text/plain": [
       "HBox(children=(HTML(value=''), FloatProgress(value=0.0, max=573.0), HTML(value='')))"
      ]
     },
     "metadata": {},
     "output_type": "display_data"
    },
    {
     "name": "stdout",
     "output_type": "stream",
     "text": [
      "\n",
      "Training Loss: 1.2610 Acc: 0.7467\n"
     ]
    },
    {
     "data": {
      "application/vnd.jupyter.widget-view+json": {
       "model_id": "ba632a69f9b34939a2de41b82988514c",
       "version_major": 2,
       "version_minor": 0
      },
      "text/plain": [
       "HBox(children=(HTML(value=''), FloatProgress(value=0.0, max=2.0), HTML(value='')))"
      ]
     },
     "metadata": {},
     "output_type": "display_data"
    },
    {
     "name": "stdout",
     "output_type": "stream",
     "text": [
      "\n",
      "acc for each class: tensor([0.0021, 0.0024, 0.0024, 0.0024, 0.0024, 0.0022, 0.0024, 0.0024, 0.0024,\n",
      "        0.0024])\n",
      "Test Loss: 0.1131 Acc: 0.9706\n",
      "\n",
      "Epoch 92/119\n"
     ]
    },
    {
     "data": {
      "application/vnd.jupyter.widget-view+json": {
       "model_id": "60d8028695034429a9dac87bf93bae69",
       "version_major": 2,
       "version_minor": 0
      },
      "text/plain": [
       "HBox(children=(HTML(value=''), FloatProgress(value=0.0, max=573.0), HTML(value='')))"
      ]
     },
     "metadata": {},
     "output_type": "display_data"
    },
    {
     "name": "stdout",
     "output_type": "stream",
     "text": [
      "\n",
      "Training Loss: 1.2098 Acc: 0.7465\n"
     ]
    },
    {
     "data": {
      "application/vnd.jupyter.widget-view+json": {
       "model_id": "bb970906f57c4021aa2abe0f15e38a23",
       "version_major": 2,
       "version_minor": 0
      },
      "text/plain": [
       "HBox(children=(HTML(value=''), FloatProgress(value=0.0, max=2.0), HTML(value='')))"
      ]
     },
     "metadata": {},
     "output_type": "display_data"
    },
    {
     "name": "stdout",
     "output_type": "stream",
     "text": [
      "\n",
      "acc for each class: tensor([0.0019, 0.0024, 0.0024, 0.0024, 0.0024, 0.0023, 0.0024, 0.0024, 0.0024,\n",
      "        0.0024])\n",
      "Test Loss: 0.1101 Acc: 0.9682\n",
      "\n",
      "Epoch 93/119\n"
     ]
    },
    {
     "data": {
      "application/vnd.jupyter.widget-view+json": {
       "model_id": "bebb8b3e4a6f422ca89b49d64466af0e",
       "version_major": 2,
       "version_minor": 0
      },
      "text/plain": [
       "HBox(children=(HTML(value=''), FloatProgress(value=0.0, max=573.0), HTML(value='')))"
      ]
     },
     "metadata": {},
     "output_type": "display_data"
    },
    {
     "name": "stdout",
     "output_type": "stream",
     "text": [
      "\n",
      "Training Loss: 1.2337 Acc: 0.7482\n"
     ]
    },
    {
     "data": {
      "application/vnd.jupyter.widget-view+json": {
       "model_id": "676d6353db7b45c38bbc4569723907ea",
       "version_major": 2,
       "version_minor": 0
      },
      "text/plain": [
       "HBox(children=(HTML(value=''), FloatProgress(value=0.0, max=2.0), HTML(value='')))"
      ]
     },
     "metadata": {},
     "output_type": "display_data"
    },
    {
     "name": "stdout",
     "output_type": "stream",
     "text": [
      "\n",
      "acc for each class: tensor([0.0020, 0.0024, 0.0024, 0.0024, 0.0024, 0.0023, 0.0024, 0.0024, 0.0024,\n",
      "        0.0024])\n",
      "Test Loss: 0.1095 Acc: 0.9731\n",
      "\n",
      "Epoch 94/119\n"
     ]
    },
    {
     "data": {
      "application/vnd.jupyter.widget-view+json": {
       "model_id": "bde64c5fb37f4bc988e07228ba90715f",
       "version_major": 2,
       "version_minor": 0
      },
      "text/plain": [
       "HBox(children=(HTML(value=''), FloatProgress(value=0.0, max=573.0), HTML(value='')))"
      ]
     },
     "metadata": {},
     "output_type": "display_data"
    },
    {
     "name": "stdout",
     "output_type": "stream",
     "text": [
      "\n",
      "Training Loss: 1.2336 Acc: 0.7489\n"
     ]
    },
    {
     "data": {
      "application/vnd.jupyter.widget-view+json": {
       "model_id": "a196c4d6c52e4d37977da876114de925",
       "version_major": 2,
       "version_minor": 0
      },
      "text/plain": [
       "HBox(children=(HTML(value=''), FloatProgress(value=0.0, max=2.0), HTML(value='')))"
      ]
     },
     "metadata": {},
     "output_type": "display_data"
    },
    {
     "name": "stdout",
     "output_type": "stream",
     "text": [
      "\n",
      "acc for each class: tensor([0.0019, 0.0023, 0.0024, 0.0024, 0.0024, 0.0023, 0.0024, 0.0024, 0.0024,\n",
      "        0.0024])\n",
      "Test Loss: 0.1142 Acc: 0.9657\n",
      "\n",
      "Epoch 95/119\n"
     ]
    },
    {
     "data": {
      "application/vnd.jupyter.widget-view+json": {
       "model_id": "8aec88bd85874687b3e8a2aab8c22457",
       "version_major": 2,
       "version_minor": 0
      },
      "text/plain": [
       "HBox(children=(HTML(value=''), FloatProgress(value=0.0, max=573.0), HTML(value='')))"
      ]
     },
     "metadata": {},
     "output_type": "display_data"
    },
    {
     "name": "stdout",
     "output_type": "stream",
     "text": [
      "\n",
      "Training Loss: 1.2309 Acc: 0.7530\n"
     ]
    },
    {
     "data": {
      "application/vnd.jupyter.widget-view+json": {
       "model_id": "3158477fb24a4ce3adf4dbae49987f31",
       "version_major": 2,
       "version_minor": 0
      },
      "text/plain": [
       "HBox(children=(HTML(value=''), FloatProgress(value=0.0, max=2.0), HTML(value='')))"
      ]
     },
     "metadata": {},
     "output_type": "display_data"
    },
    {
     "name": "stdout",
     "output_type": "stream",
     "text": [
      "\n",
      "acc for each class: tensor([0.0020, 0.0024, 0.0024, 0.0024, 0.0024, 0.0023, 0.0024, 0.0024, 0.0024,\n",
      "        0.0024])\n",
      "Test Loss: 0.1176 Acc: 0.9706\n",
      "\n",
      "Epoch 96/119\n"
     ]
    },
    {
     "data": {
      "application/vnd.jupyter.widget-view+json": {
       "model_id": "4e956968aa854a3bb06a92404bbfd71b",
       "version_major": 2,
       "version_minor": 0
      },
      "text/plain": [
       "HBox(children=(HTML(value=''), FloatProgress(value=0.0, max=573.0), HTML(value='')))"
      ]
     },
     "metadata": {},
     "output_type": "display_data"
    },
    {
     "name": "stdout",
     "output_type": "stream",
     "text": [
      "\n",
      "Training Loss: 1.2027 Acc: 0.7468\n"
     ]
    },
    {
     "data": {
      "application/vnd.jupyter.widget-view+json": {
       "model_id": "4be163e6b4a04cb0a6e87f08d3a8453e",
       "version_major": 2,
       "version_minor": 0
      },
      "text/plain": [
       "HBox(children=(HTML(value=''), FloatProgress(value=0.0, max=2.0), HTML(value='')))"
      ]
     },
     "metadata": {},
     "output_type": "display_data"
    },
    {
     "name": "stdout",
     "output_type": "stream",
     "text": [
      "\n",
      "acc for each class: tensor([0.0021, 0.0024, 0.0024, 0.0024, 0.0024, 0.0022, 0.0024, 0.0024, 0.0024,\n",
      "        0.0024])\n",
      "Test Loss: 0.1109 Acc: 0.9718\n",
      "\n",
      "Epoch 97/119\n"
     ]
    },
    {
     "data": {
      "application/vnd.jupyter.widget-view+json": {
       "model_id": "0dde9353435f4b16a79c4471f71b5f97",
       "version_major": 2,
       "version_minor": 0
      },
      "text/plain": [
       "HBox(children=(HTML(value=''), FloatProgress(value=0.0, max=573.0), HTML(value='')))"
      ]
     },
     "metadata": {},
     "output_type": "display_data"
    },
    {
     "name": "stdout",
     "output_type": "stream",
     "text": [
      "\n",
      "Training Loss: 1.2460 Acc: 0.7559\n"
     ]
    },
    {
     "data": {
      "application/vnd.jupyter.widget-view+json": {
       "model_id": "9a91ca7761264f5ca041b2a586c5a98c",
       "version_major": 2,
       "version_minor": 0
      },
      "text/plain": [
       "HBox(children=(HTML(value=''), FloatProgress(value=0.0, max=2.0), HTML(value='')))"
      ]
     },
     "metadata": {},
     "output_type": "display_data"
    },
    {
     "name": "stdout",
     "output_type": "stream",
     "text": [
      "\n",
      "acc for each class: tensor([0.0020, 0.0024, 0.0024, 0.0024, 0.0024, 0.0023, 0.0024, 0.0024, 0.0024,\n",
      "        0.0024])\n",
      "Test Loss: 0.1137 Acc: 0.9682\n",
      "\n",
      "Epoch 98/119\n"
     ]
    },
    {
     "data": {
      "application/vnd.jupyter.widget-view+json": {
       "model_id": "048d030655784ff19826c3424c2a2977",
       "version_major": 2,
       "version_minor": 0
      },
      "text/plain": [
       "HBox(children=(HTML(value=''), FloatProgress(value=0.0, max=573.0), HTML(value='')))"
      ]
     },
     "metadata": {},
     "output_type": "display_data"
    },
    {
     "name": "stdout",
     "output_type": "stream",
     "text": [
      "\n",
      "Training Loss: 1.2576 Acc: 0.7553\n"
     ]
    },
    {
     "data": {
      "application/vnd.jupyter.widget-view+json": {
       "model_id": "0e4e7e14563e4279be71fb71b9383c36",
       "version_major": 2,
       "version_minor": 0
      },
      "text/plain": [
       "HBox(children=(HTML(value=''), FloatProgress(value=0.0, max=2.0), HTML(value='')))"
      ]
     },
     "metadata": {},
     "output_type": "display_data"
    },
    {
     "name": "stdout",
     "output_type": "stream",
     "text": [
      "\n",
      "acc for each class: tensor([0.0020, 0.0024, 0.0024, 0.0024, 0.0024, 0.0023, 0.0024, 0.0024, 0.0024,\n",
      "        0.0024])\n",
      "Test Loss: 0.1155 Acc: 0.9755\n",
      "Time from Start 1365m 3s\n",
      "\n",
      "Epoch 99/119\n"
     ]
    },
    {
     "data": {
      "application/vnd.jupyter.widget-view+json": {
       "model_id": "62623f6fd0d94e84a2eacd2cd128ada2",
       "version_major": 2,
       "version_minor": 0
      },
      "text/plain": [
       "HBox(children=(HTML(value=''), FloatProgress(value=0.0, max=573.0), HTML(value='')))"
      ]
     },
     "metadata": {},
     "output_type": "display_data"
    },
    {
     "name": "stdout",
     "output_type": "stream",
     "text": [
      "\n",
      "Training Loss: 1.2437 Acc: 0.7540\n"
     ]
    },
    {
     "data": {
      "application/vnd.jupyter.widget-view+json": {
       "model_id": "de777eaab3e0414b8397994ef793f3b2",
       "version_major": 2,
       "version_minor": 0
      },
      "text/plain": [
       "HBox(children=(HTML(value=''), FloatProgress(value=0.0, max=2.0), HTML(value='')))"
      ]
     },
     "metadata": {},
     "output_type": "display_data"
    },
    {
     "name": "stdout",
     "output_type": "stream",
     "text": [
      "\n",
      "acc for each class: tensor([0.0021, 0.0024, 0.0024, 0.0024, 0.0024, 0.0022, 0.0024, 0.0024, 0.0024,\n",
      "        0.0024])\n",
      "Test Loss: 0.1121 Acc: 0.9780\n",
      "Time from Start 1378m 35s\n",
      "\n",
      "Epoch 100/119\n"
     ]
    },
    {
     "data": {
      "application/vnd.jupyter.widget-view+json": {
       "model_id": "b30fc47679344d018865fbc8f22f4fb8",
       "version_major": 2,
       "version_minor": 0
      },
      "text/plain": [
       "HBox(children=(HTML(value=''), FloatProgress(value=0.0, max=573.0), HTML(value='')))"
      ]
     },
     "metadata": {},
     "output_type": "display_data"
    },
    {
     "name": "stdout",
     "output_type": "stream",
     "text": [
      "\n",
      "Training Loss: 1.2401 Acc: 0.7514\n"
     ]
    },
    {
     "data": {
      "application/vnd.jupyter.widget-view+json": {
       "model_id": "958ebf60eec1437192601a2e6bf61cd1",
       "version_major": 2,
       "version_minor": 0
      },
      "text/plain": [
       "HBox(children=(HTML(value=''), FloatProgress(value=0.0, max=2.0), HTML(value='')))"
      ]
     },
     "metadata": {},
     "output_type": "display_data"
    },
    {
     "name": "stdout",
     "output_type": "stream",
     "text": [
      "\n",
      "acc for each class: tensor([0.0021, 0.0024, 0.0024, 0.0024, 0.0024, 0.0023, 0.0024, 0.0024, 0.0024,\n",
      "        0.0024])\n",
      "Test Loss: 0.1137 Acc: 0.9755\n",
      "\n",
      "Epoch 101/119\n"
     ]
    },
    {
     "data": {
      "application/vnd.jupyter.widget-view+json": {
       "model_id": "cc95ff95062448fbabd5e63a743bd609",
       "version_major": 2,
       "version_minor": 0
      },
      "text/plain": [
       "HBox(children=(HTML(value=''), FloatProgress(value=0.0, max=573.0), HTML(value='')))"
      ]
     },
     "metadata": {},
     "output_type": "display_data"
    },
    {
     "name": "stdout",
     "output_type": "stream",
     "text": [
      "\n",
      "Training Loss: 1.2300 Acc: 0.7479\n"
     ]
    },
    {
     "data": {
      "application/vnd.jupyter.widget-view+json": {
       "model_id": "89c61b78463c4802b905ab5c49ea9f40",
       "version_major": 2,
       "version_minor": 0
      },
      "text/plain": [
       "HBox(children=(HTML(value=''), FloatProgress(value=0.0, max=2.0), HTML(value='')))"
      ]
     },
     "metadata": {},
     "output_type": "display_data"
    },
    {
     "name": "stdout",
     "output_type": "stream",
     "text": [
      "\n",
      "acc for each class: tensor([0.0020, 0.0024, 0.0024, 0.0024, 0.0024, 0.0023, 0.0024, 0.0024, 0.0024,\n",
      "        0.0024])\n",
      "Test Loss: 0.1067 Acc: 0.9731\n",
      "\n",
      "Epoch 102/119\n"
     ]
    },
    {
     "data": {
      "application/vnd.jupyter.widget-view+json": {
       "model_id": "72048d43d9fa432c98a53c98f46dd53f",
       "version_major": 2,
       "version_minor": 0
      },
      "text/plain": [
       "HBox(children=(HTML(value=''), FloatProgress(value=0.0, max=573.0), HTML(value='')))"
      ]
     },
     "metadata": {},
     "output_type": "display_data"
    },
    {
     "name": "stdout",
     "output_type": "stream",
     "text": [
      "\n",
      "Training Loss: 1.2042 Acc: 0.7516\n"
     ]
    },
    {
     "data": {
      "application/vnd.jupyter.widget-view+json": {
       "model_id": "21db5a07c3184a24901ab32b6e8dddde",
       "version_major": 2,
       "version_minor": 0
      },
      "text/plain": [
       "HBox(children=(HTML(value=''), FloatProgress(value=0.0, max=2.0), HTML(value='')))"
      ]
     },
     "metadata": {},
     "output_type": "display_data"
    },
    {
     "name": "stdout",
     "output_type": "stream",
     "text": [
      "\n",
      "acc for each class: tensor([0.0020, 0.0024, 0.0024, 0.0024, 0.0024, 0.0023, 0.0024, 0.0024, 0.0024,\n",
      "        0.0024])\n",
      "Test Loss: 0.1073 Acc: 0.9706\n",
      "\n",
      "Epoch 103/119\n"
     ]
    },
    {
     "data": {
      "application/vnd.jupyter.widget-view+json": {
       "model_id": "7100fd2fbcaf4aa6ae60a89e7c9d9c0c",
       "version_major": 2,
       "version_minor": 0
      },
      "text/plain": [
       "HBox(children=(HTML(value=''), FloatProgress(value=0.0, max=573.0), HTML(value='')))"
      ]
     },
     "metadata": {},
     "output_type": "display_data"
    },
    {
     "name": "stdout",
     "output_type": "stream",
     "text": [
      "\n",
      "Training Loss: 1.2286 Acc: 0.7513\n"
     ]
    },
    {
     "data": {
      "application/vnd.jupyter.widget-view+json": {
       "model_id": "03922455990744058d78e2158e2dad05",
       "version_major": 2,
       "version_minor": 0
      },
      "text/plain": [
       "HBox(children=(HTML(value=''), FloatProgress(value=0.0, max=2.0), HTML(value='')))"
      ]
     },
     "metadata": {},
     "output_type": "display_data"
    },
    {
     "name": "stdout",
     "output_type": "stream",
     "text": [
      "\n",
      "acc for each class: tensor([0.0019, 0.0024, 0.0024, 0.0024, 0.0024, 0.0023, 0.0024, 0.0024, 0.0024,\n",
      "        0.0024])\n",
      "Test Loss: 0.1086 Acc: 0.9706\n",
      "\n",
      "Epoch 104/119\n"
     ]
    },
    {
     "data": {
      "application/vnd.jupyter.widget-view+json": {
       "model_id": "091460ddb890435c924298c1750fbfdc",
       "version_major": 2,
       "version_minor": 0
      },
      "text/plain": [
       "HBox(children=(HTML(value=''), FloatProgress(value=0.0, max=573.0), HTML(value='')))"
      ]
     },
     "metadata": {},
     "output_type": "display_data"
    },
    {
     "name": "stdout",
     "output_type": "stream",
     "text": [
      "\n",
      "Training Loss: 1.2261 Acc: 0.7546\n"
     ]
    },
    {
     "data": {
      "application/vnd.jupyter.widget-view+json": {
       "model_id": "8bbd100b35784cb98f3d998cc0f25d13",
       "version_major": 2,
       "version_minor": 0
      },
      "text/plain": [
       "HBox(children=(HTML(value=''), FloatProgress(value=0.0, max=2.0), HTML(value='')))"
      ]
     },
     "metadata": {},
     "output_type": "display_data"
    },
    {
     "name": "stdout",
     "output_type": "stream",
     "text": [
      "\n",
      "acc for each class: tensor([0.0020, 0.0024, 0.0024, 0.0024, 0.0024, 0.0023, 0.0024, 0.0024, 0.0024,\n",
      "        0.0024])\n",
      "Test Loss: 0.1104 Acc: 0.9718\n",
      "\n",
      "Epoch 105/119\n"
     ]
    },
    {
     "data": {
      "application/vnd.jupyter.widget-view+json": {
       "model_id": "75837d4448984e13937fd809e7950bf8",
       "version_major": 2,
       "version_minor": 0
      },
      "text/plain": [
       "HBox(children=(HTML(value=''), FloatProgress(value=0.0, max=573.0), HTML(value='')))"
      ]
     },
     "metadata": {},
     "output_type": "display_data"
    },
    {
     "name": "stdout",
     "output_type": "stream",
     "text": [
      "\n",
      "Training Loss: 1.2297 Acc: 0.7554\n"
     ]
    },
    {
     "data": {
      "application/vnd.jupyter.widget-view+json": {
       "model_id": "15465fa75e2e4b2c96132916abb7898a",
       "version_major": 2,
       "version_minor": 0
      },
      "text/plain": [
       "HBox(children=(HTML(value=''), FloatProgress(value=0.0, max=2.0), HTML(value='')))"
      ]
     },
     "metadata": {},
     "output_type": "display_data"
    },
    {
     "name": "stdout",
     "output_type": "stream",
     "text": [
      "\n",
      "acc for each class: tensor([0.0020, 0.0024, 0.0024, 0.0024, 0.0024, 0.0023, 0.0024, 0.0024, 0.0024,\n",
      "        0.0024])\n",
      "Test Loss: 0.1100 Acc: 0.9718\n",
      "\n",
      "Epoch 106/119\n"
     ]
    },
    {
     "data": {
      "application/vnd.jupyter.widget-view+json": {
       "model_id": "4dab3688a05d4beda6868790f6480d4e",
       "version_major": 2,
       "version_minor": 0
      },
      "text/plain": [
       "HBox(children=(HTML(value=''), FloatProgress(value=0.0, max=573.0), HTML(value='')))"
      ]
     },
     "metadata": {},
     "output_type": "display_data"
    },
    {
     "name": "stdout",
     "output_type": "stream",
     "text": [
      "\n",
      "Training Loss: 1.2570 Acc: 0.7609\n"
     ]
    },
    {
     "data": {
      "application/vnd.jupyter.widget-view+json": {
       "model_id": "7a90fb835e74445586c727b62dc00b37",
       "version_major": 2,
       "version_minor": 0
      },
      "text/plain": [
       "HBox(children=(HTML(value=''), FloatProgress(value=0.0, max=2.0), HTML(value='')))"
      ]
     },
     "metadata": {},
     "output_type": "display_data"
    },
    {
     "name": "stdout",
     "output_type": "stream",
     "text": [
      "\n",
      "acc for each class: tensor([0.0021, 0.0024, 0.0024, 0.0024, 0.0024, 0.0023, 0.0024, 0.0024, 0.0024,\n",
      "        0.0024])\n",
      "Test Loss: 0.1138 Acc: 0.9755\n",
      "\n",
      "Epoch 107/119\n"
     ]
    },
    {
     "data": {
      "application/vnd.jupyter.widget-view+json": {
       "model_id": "d2d4eb9e787343308e7393b7a7b744a8",
       "version_major": 2,
       "version_minor": 0
      },
      "text/plain": [
       "HBox(children=(HTML(value=''), FloatProgress(value=0.0, max=573.0), HTML(value='')))"
      ]
     },
     "metadata": {},
     "output_type": "display_data"
    },
    {
     "name": "stdout",
     "output_type": "stream",
     "text": [
      "\n",
      "Training Loss: 1.2370 Acc: 0.7543\n"
     ]
    },
    {
     "data": {
      "application/vnd.jupyter.widget-view+json": {
       "model_id": "d3e137087c3044efb0a6e124301a6642",
       "version_major": 2,
       "version_minor": 0
      },
      "text/plain": [
       "HBox(children=(HTML(value=''), FloatProgress(value=0.0, max=2.0), HTML(value='')))"
      ]
     },
     "metadata": {},
     "output_type": "display_data"
    },
    {
     "name": "stdout",
     "output_type": "stream",
     "text": [
      "\n",
      "acc for each class: tensor([0.0021, 0.0024, 0.0024, 0.0024, 0.0024, 0.0023, 0.0024, 0.0024, 0.0024,\n",
      "        0.0024])\n",
      "Test Loss: 0.1077 Acc: 0.9755\n",
      "\n",
      "Epoch 108/119\n"
     ]
    },
    {
     "data": {
      "application/vnd.jupyter.widget-view+json": {
       "model_id": "013729d6f5644ced98e00c6ece5e2c42",
       "version_major": 2,
       "version_minor": 0
      },
      "text/plain": [
       "HBox(children=(HTML(value=''), FloatProgress(value=0.0, max=573.0), HTML(value='')))"
      ]
     },
     "metadata": {},
     "output_type": "display_data"
    },
    {
     "name": "stdout",
     "output_type": "stream",
     "text": [
      "\n",
      "Training Loss: 1.2303 Acc: 0.7548\n"
     ]
    },
    {
     "data": {
      "application/vnd.jupyter.widget-view+json": {
       "model_id": "7ab004550b254ec2994c7dac3c15d1fc",
       "version_major": 2,
       "version_minor": 0
      },
      "text/plain": [
       "HBox(children=(HTML(value=''), FloatProgress(value=0.0, max=2.0), HTML(value='')))"
      ]
     },
     "metadata": {},
     "output_type": "display_data"
    },
    {
     "name": "stdout",
     "output_type": "stream",
     "text": [
      "\n",
      "acc for each class: tensor([0.0020, 0.0024, 0.0024, 0.0024, 0.0024, 0.0023, 0.0024, 0.0024, 0.0024,\n",
      "        0.0024])\n",
      "Test Loss: 0.1082 Acc: 0.9755\n",
      "\n",
      "Epoch 109/119\n"
     ]
    },
    {
     "data": {
      "application/vnd.jupyter.widget-view+json": {
       "model_id": "c6c58a2db22d4b19b2a822ad3b8102ae",
       "version_major": 2,
       "version_minor": 0
      },
      "text/plain": [
       "HBox(children=(HTML(value=''), FloatProgress(value=0.0, max=573.0), HTML(value='')))"
      ]
     },
     "metadata": {},
     "output_type": "display_data"
    },
    {
     "name": "stdout",
     "output_type": "stream",
     "text": [
      "\n",
      "Training Loss: 1.2440 Acc: 0.7631\n"
     ]
    },
    {
     "data": {
      "application/vnd.jupyter.widget-view+json": {
       "model_id": "63af33cd3da84e6799c508582af32548",
       "version_major": 2,
       "version_minor": 0
      },
      "text/plain": [
       "HBox(children=(HTML(value=''), FloatProgress(value=0.0, max=2.0), HTML(value='')))"
      ]
     },
     "metadata": {},
     "output_type": "display_data"
    },
    {
     "name": "stdout",
     "output_type": "stream",
     "text": [
      "\n",
      "acc for each class: tensor([0.0021, 0.0024, 0.0024, 0.0024, 0.0024, 0.0023, 0.0024, 0.0024, 0.0024,\n",
      "        0.0024])\n",
      "Test Loss: 0.1102 Acc: 0.9780\n",
      "\n",
      "Epoch 110/119\n"
     ]
    },
    {
     "data": {
      "application/vnd.jupyter.widget-view+json": {
       "model_id": "c93b2c7a2a4443e2b30af67813693590",
       "version_major": 2,
       "version_minor": 0
      },
      "text/plain": [
       "HBox(children=(HTML(value=''), FloatProgress(value=0.0, max=573.0), HTML(value='')))"
      ]
     },
     "metadata": {},
     "output_type": "display_data"
    },
    {
     "name": "stdout",
     "output_type": "stream",
     "text": [
      "\n",
      "Training Loss: 1.2259 Acc: 0.7620\n"
     ]
    },
    {
     "data": {
      "application/vnd.jupyter.widget-view+json": {
       "model_id": "3efa6aacdc86443fa6843c2fa34ea03b",
       "version_major": 2,
       "version_minor": 0
      },
      "text/plain": [
       "HBox(children=(HTML(value=''), FloatProgress(value=0.0, max=2.0), HTML(value='')))"
      ]
     },
     "metadata": {},
     "output_type": "display_data"
    },
    {
     "name": "stdout",
     "output_type": "stream",
     "text": [
      "\n",
      "acc for each class: tensor([0.0020, 0.0024, 0.0024, 0.0024, 0.0024, 0.0023, 0.0024, 0.0024, 0.0024,\n",
      "        0.0024])\n",
      "Test Loss: 0.1059 Acc: 0.9755\n",
      "\n",
      "Epoch 111/119\n"
     ]
    },
    {
     "data": {
      "application/vnd.jupyter.widget-view+json": {
       "model_id": "b60836181a6d4a0fb1a6f0ca003a8b90",
       "version_major": 2,
       "version_minor": 0
      },
      "text/plain": [
       "HBox(children=(HTML(value=''), FloatProgress(value=0.0, max=573.0), HTML(value='')))"
      ]
     },
     "metadata": {},
     "output_type": "display_data"
    },
    {
     "name": "stdout",
     "output_type": "stream",
     "text": [
      "\n",
      "Training Loss: 1.2437 Acc: 0.7573\n"
     ]
    },
    {
     "data": {
      "application/vnd.jupyter.widget-view+json": {
       "model_id": "38c7da9187e648e183c3f2a1c20044c9",
       "version_major": 2,
       "version_minor": 0
      },
      "text/plain": [
       "HBox(children=(HTML(value=''), FloatProgress(value=0.0, max=2.0), HTML(value='')))"
      ]
     },
     "metadata": {},
     "output_type": "display_data"
    },
    {
     "name": "stdout",
     "output_type": "stream",
     "text": [
      "\n",
      "acc for each class: tensor([0.0021, 0.0024, 0.0024, 0.0024, 0.0024, 0.0023, 0.0024, 0.0024, 0.0024,\n",
      "        0.0024])\n",
      "Test Loss: 0.1073 Acc: 0.9767\n",
      "\n",
      "Epoch 112/119\n"
     ]
    },
    {
     "data": {
      "application/vnd.jupyter.widget-view+json": {
       "model_id": "d85b96ef250e480fbaa7e2dc2a1b2d8b",
       "version_major": 2,
       "version_minor": 0
      },
      "text/plain": [
       "HBox(children=(HTML(value=''), FloatProgress(value=0.0, max=573.0), HTML(value='')))"
      ]
     },
     "metadata": {},
     "output_type": "display_data"
    },
    {
     "name": "stdout",
     "output_type": "stream",
     "text": [
      "\n",
      "Training Loss: 1.2163 Acc: 0.7604\n"
     ]
    },
    {
     "data": {
      "application/vnd.jupyter.widget-view+json": {
       "model_id": "7cc2affee47a477c82ef42b18726c0a3",
       "version_major": 2,
       "version_minor": 0
      },
      "text/plain": [
       "HBox(children=(HTML(value=''), FloatProgress(value=0.0, max=2.0), HTML(value='')))"
      ]
     },
     "metadata": {},
     "output_type": "display_data"
    },
    {
     "name": "stdout",
     "output_type": "stream",
     "text": [
      "\n",
      "acc for each class: tensor([0.0021, 0.0024, 0.0024, 0.0024, 0.0024, 0.0023, 0.0024, 0.0024, 0.0024,\n",
      "        0.0024])\n",
      "Test Loss: 0.1103 Acc: 0.9767\n",
      "\n",
      "Epoch 113/119\n"
     ]
    },
    {
     "data": {
      "application/vnd.jupyter.widget-view+json": {
       "model_id": "954b181654d84152b516fd2668f75c4f",
       "version_major": 2,
       "version_minor": 0
      },
      "text/plain": [
       "HBox(children=(HTML(value=''), FloatProgress(value=0.0, max=573.0), HTML(value='')))"
      ]
     },
     "metadata": {},
     "output_type": "display_data"
    },
    {
     "name": "stdout",
     "output_type": "stream",
     "text": [
      "\n",
      "Training Loss: 1.2529 Acc: 0.7642\n"
     ]
    },
    {
     "data": {
      "application/vnd.jupyter.widget-view+json": {
       "model_id": "7185c94dbdca4966a63058efe6f9a828",
       "version_major": 2,
       "version_minor": 0
      },
      "text/plain": [
       "HBox(children=(HTML(value=''), FloatProgress(value=0.0, max=2.0), HTML(value='')))"
      ]
     },
     "metadata": {},
     "output_type": "display_data"
    },
    {
     "name": "stdout",
     "output_type": "stream",
     "text": [
      "\n",
      "acc for each class: tensor([0.0020, 0.0024, 0.0024, 0.0024, 0.0024, 0.0023, 0.0024, 0.0024, 0.0024,\n",
      "        0.0024])\n",
      "Test Loss: 0.1123 Acc: 0.9755\n",
      "\n",
      "Epoch 114/119\n"
     ]
    },
    {
     "data": {
      "application/vnd.jupyter.widget-view+json": {
       "model_id": "28584f40988f45c3b4a5283a4d808832",
       "version_major": 2,
       "version_minor": 0
      },
      "text/plain": [
       "HBox(children=(HTML(value=''), FloatProgress(value=0.0, max=573.0), HTML(value='')))"
      ]
     },
     "metadata": {},
     "output_type": "display_data"
    },
    {
     "name": "stdout",
     "output_type": "stream",
     "text": [
      "\n",
      "Training Loss: 1.2120 Acc: 0.7558\n"
     ]
    },
    {
     "data": {
      "application/vnd.jupyter.widget-view+json": {
       "model_id": "8c8354d013f144b28c2856ac0ed14987",
       "version_major": 2,
       "version_minor": 0
      },
      "text/plain": [
       "HBox(children=(HTML(value=''), FloatProgress(value=0.0, max=2.0), HTML(value='')))"
      ]
     },
     "metadata": {},
     "output_type": "display_data"
    },
    {
     "name": "stdout",
     "output_type": "stream",
     "text": [
      "\n",
      "acc for each class: tensor([0.0020, 0.0024, 0.0024, 0.0024, 0.0024, 0.0023, 0.0024, 0.0024, 0.0024,\n",
      "        0.0024])\n",
      "Test Loss: 0.1037 Acc: 0.9743\n",
      "\n",
      "Epoch 115/119\n"
     ]
    },
    {
     "data": {
      "application/vnd.jupyter.widget-view+json": {
       "model_id": "5b1299d171774de09ec1b9fa6633c8ab",
       "version_major": 2,
       "version_minor": 0
      },
      "text/plain": [
       "HBox(children=(HTML(value=''), FloatProgress(value=0.0, max=573.0), HTML(value='')))"
      ]
     },
     "metadata": {},
     "output_type": "display_data"
    },
    {
     "name": "stdout",
     "output_type": "stream",
     "text": [
      "\n",
      "Training Loss: 1.2415 Acc: 0.7597\n"
     ]
    },
    {
     "data": {
      "application/vnd.jupyter.widget-view+json": {
       "model_id": "94055c86863c4331915f9a9defd64117",
       "version_major": 2,
       "version_minor": 0
      },
      "text/plain": [
       "HBox(children=(HTML(value=''), FloatProgress(value=0.0, max=2.0), HTML(value='')))"
      ]
     },
     "metadata": {},
     "output_type": "display_data"
    },
    {
     "name": "stdout",
     "output_type": "stream",
     "text": [
      "\n",
      "acc for each class: tensor([0.0020, 0.0024, 0.0024, 0.0024, 0.0024, 0.0023, 0.0024, 0.0024, 0.0024,\n",
      "        0.0024])\n",
      "Test Loss: 0.1064 Acc: 0.9743\n",
      "\n",
      "Epoch 116/119\n"
     ]
    },
    {
     "data": {
      "application/vnd.jupyter.widget-view+json": {
       "model_id": "09f1d0c269d34431aa75f95c082390e3",
       "version_major": 2,
       "version_minor": 0
      },
      "text/plain": [
       "HBox(children=(HTML(value=''), FloatProgress(value=0.0, max=573.0), HTML(value='')))"
      ]
     },
     "metadata": {},
     "output_type": "display_data"
    },
    {
     "name": "stdout",
     "output_type": "stream",
     "text": [
      "\n",
      "Training Loss: 1.2414 Acc: 0.7571\n"
     ]
    },
    {
     "data": {
      "application/vnd.jupyter.widget-view+json": {
       "model_id": "75e39be47c8f4ba9949cc5e0819fc3fd",
       "version_major": 2,
       "version_minor": 0
      },
      "text/plain": [
       "HBox(children=(HTML(value=''), FloatProgress(value=0.0, max=2.0), HTML(value='')))"
      ]
     },
     "metadata": {},
     "output_type": "display_data"
    },
    {
     "name": "stdout",
     "output_type": "stream",
     "text": [
      "\n",
      "acc for each class: tensor([0.0022, 0.0024, 0.0024, 0.0024, 0.0024, 0.0023, 0.0024, 0.0024, 0.0024,\n",
      "        0.0024])\n",
      "Test Loss: 0.1092 Acc: 0.9792\n",
      "Time from Start 1608m 15s\n",
      "\n",
      "Epoch 117/119\n"
     ]
    },
    {
     "data": {
      "application/vnd.jupyter.widget-view+json": {
       "model_id": "5eacbafafc034e12b091a675cceb291d",
       "version_major": 2,
       "version_minor": 0
      },
      "text/plain": [
       "HBox(children=(HTML(value=''), FloatProgress(value=0.0, max=573.0), HTML(value='')))"
      ]
     },
     "metadata": {},
     "output_type": "display_data"
    },
    {
     "name": "stdout",
     "output_type": "stream",
     "text": [
      "\n",
      "Training Loss: 1.2298 Acc: 0.7608\n"
     ]
    },
    {
     "data": {
      "application/vnd.jupyter.widget-view+json": {
       "model_id": "073108f988b84691b7643b21b5213433",
       "version_major": 2,
       "version_minor": 0
      },
      "text/plain": [
       "HBox(children=(HTML(value=''), FloatProgress(value=0.0, max=2.0), HTML(value='')))"
      ]
     },
     "metadata": {},
     "output_type": "display_data"
    },
    {
     "name": "stdout",
     "output_type": "stream",
     "text": [
      "\n",
      "acc for each class: tensor([0.0021, 0.0024, 0.0024, 0.0024, 0.0024, 0.0023, 0.0024, 0.0024, 0.0024,\n",
      "        0.0024])\n",
      "Test Loss: 0.1033 Acc: 0.9731\n",
      "\n",
      "Epoch 118/119\n"
     ]
    },
    {
     "data": {
      "application/vnd.jupyter.widget-view+json": {
       "model_id": "17f95d229d6d40168cbdb859531c221e",
       "version_major": 2,
       "version_minor": 0
      },
      "text/plain": [
       "HBox(children=(HTML(value=''), FloatProgress(value=0.0, max=573.0), HTML(value='')))"
      ]
     },
     "metadata": {},
     "output_type": "display_data"
    },
    {
     "name": "stdout",
     "output_type": "stream",
     "text": [
      "\n",
      "Training Loss: 1.2282 Acc: 0.7600\n"
     ]
    },
    {
     "data": {
      "application/vnd.jupyter.widget-view+json": {
       "model_id": "1c36376a60d34a22b9d5e4ef34af936d",
       "version_major": 2,
       "version_minor": 0
      },
      "text/plain": [
       "HBox(children=(HTML(value=''), FloatProgress(value=0.0, max=2.0), HTML(value='')))"
      ]
     },
     "metadata": {},
     "output_type": "display_data"
    },
    {
     "name": "stdout",
     "output_type": "stream",
     "text": [
      "\n",
      "acc for each class: tensor([0.0020, 0.0024, 0.0024, 0.0024, 0.0024, 0.0023, 0.0024, 0.0024, 0.0024,\n",
      "        0.0024])\n",
      "Test Loss: 0.1036 Acc: 0.9743\n",
      "\n",
      "Epoch 119/119\n"
     ]
    },
    {
     "data": {
      "application/vnd.jupyter.widget-view+json": {
       "model_id": "511364212ab947daac6e042644dad6cc",
       "version_major": 2,
       "version_minor": 0
      },
      "text/plain": [
       "HBox(children=(HTML(value=''), FloatProgress(value=0.0, max=573.0), HTML(value='')))"
      ]
     },
     "metadata": {},
     "output_type": "display_data"
    },
    {
     "name": "stdout",
     "output_type": "stream",
     "text": [
      "\n",
      "Training Loss: 1.1942 Acc: 0.7599\n"
     ]
    },
    {
     "data": {
      "application/vnd.jupyter.widget-view+json": {
       "model_id": "4c1b5aa4926445b792f764e5cab05eac",
       "version_major": 2,
       "version_minor": 0
      },
      "text/plain": [
       "HBox(children=(HTML(value=''), FloatProgress(value=0.0, max=2.0), HTML(value='')))"
      ]
     },
     "metadata": {},
     "output_type": "display_data"
    },
    {
     "name": "stdout",
     "output_type": "stream",
     "text": [
      "\n",
      "acc for each class: tensor([0.0020, 0.0024, 0.0024, 0.0024, 0.0024, 0.0023, 0.0024, 0.0024, 0.0024,\n",
      "        0.0024])\n",
      "Test Loss: 0.1068 Acc: 0.9731\n",
      "\n",
      "\n",
      "Training complete in 1650m 18s\n",
      "Best train Acc: 0.764167\n",
      "Best val Acc: 0.979192\n"
     ]
    },
    {
     "data": {
      "image/png": "[encoded data removed]",
      "text/plain": [
       "<Figure size 432x288 with 2 Axes>"
      ]
     },
     "metadata": {
      "needs_background": "light"
     },
     "output_type": "display_data"
    },
    {
     "data": {
      "image/png": "[encoded data removed]",
      "text/plain": [
       "<Figure size 432x288 with 2 Axes>"
      ]
     },
     "metadata": {
      "needs_background": "light"
     },
     "output_type": "display_data"
    },
    {
     "data": {
      "text/plain": [
       "<Figure size 432x288 with 0 Axes>"
      ]
     },
     "metadata": {},
     "output_type": "display_data"
    }
   ],
   "source": [
    "optimizer_ft = optim.SGD(model_ft.parameters(), lr=0.01, momentum=0.9)\n",
    "\n",
    "# Decay LR by a factor of 0.1 every 7 epochs\n",
    "exp_lr_scheduler = lr_scheduler.StepLR(optimizer_ft, step_size=20, gamma=0.5)\n",
    "\n",
    "model_ft = train_model(model_ft, criterion, optimizer_ft, exp_lr_scheduler,\n",
    "                       num_epochs=120)"
   ]
  },
  {
   "cell_type": "code",
   "execution_count": null,
   "metadata": {},
   "outputs": [],
   "source": []
  },
  {
   "cell_type": "code",
   "execution_count": 322,
   "metadata": {},
   "outputs": [
    {
     "name": "stderr",
     "output_type": "stream",
     "text": [
      "100%|██████████| 826/826 [00:13<00:00, 60.65it/s]\n"
     ]
    }
   ],
   "source": [
    "model = torch.load(\"45_kd_sar-teacher_eo-student_pretrain-on-sar/resnet34_kd114.pt\")\n",
    "\n",
    "import pandas as pd\n",
    "from torch.utils import data\n",
    "from tqdm import tqdm\n",
    "from PIL import Image\n",
    "class ImageData(data.Dataset):\n",
    "    def __init__(self,df,dirpath,transform,test = False):\n",
    "        self.df = df\n",
    "        self.test = test\n",
    "        self.dirpath = dirpath\n",
    "        self.conv_to_tensor = transform\n",
    "        #image data \n",
    "        if not self.test:\n",
    "            self.image_arr = np.asarray(str(self.dirpath)+'/'+self.df.iloc[:, 0]+'.png')\n",
    "        else:\n",
    "            self.image_arr = np.asarray(str(self.dirpath)+'/'+self.df.iloc[:, 0])\n",
    "        \n",
    "        #labels data\n",
    "        if not self.test:\n",
    "             self.label_df = self.df.iloc[:,1]\n",
    "        \n",
    "        # Calculate length of df\n",
    "        self.data_len = len(self.df.index)\n",
    "\n",
    "    def __len__(self):\n",
    "        return self.data_len\n",
    "    \n",
    "    def __getitem__(self, idx):\n",
    "        image_name = self.image_arr[idx]\n",
    "        img = Image.open(image_name)#.convert('RGB')\n",
    "        img_tensor = self.conv_to_tensor(img)\n",
    "        if not self.test:\n",
    "            image_labels = self.label_df[idx]\n",
    "            label_tensor = torch.zeros((1, output_dim))\n",
    "            for label in image_labels.split():\n",
    "                label_tensor[0, int(label)] = 1\n",
    "            image_label = torch.tensor(label_tensor,dtype= torch.float32)\n",
    "            return (img_tensor,image_label.squeeze())\n",
    "        return (img_tensor)\n",
    "\n",
    "    \n",
    "BATCH_SIZE = 1\n",
    "test_dir = \"./test\"\n",
    "test_dir_ls = os.listdir(test_dir)\n",
    "test_dir_ls.sort()\n",
    "test_df = pd.DataFrame(test_dir_ls)\n",
    "\n",
    "test_dataset = ImageData(test_df,test_dir,EO_data_transforms[\"valid_EO\"],test = True)\n",
    "test_loader = data.DataLoader(dataset=test_dataset,batch_size=BATCH_SIZE,shuffle=False)\n",
    "\n",
    "output_dim = 10\n",
    "\n",
    "DISABLE_TQDM = False\n",
    "predictions = np.zeros((len(test_dataset), output_dim))\n",
    "i = 0\n",
    "for test_batch in tqdm(test_loader,disable = DISABLE_TQDM):\n",
    "    test_batch = test_batch.to(device)\n",
    "    batch_prediction = model(test_batch).detach().cpu().numpy()\n",
    "    predictions[i * BATCH_SIZE:(i+1) * BATCH_SIZE, :] = batch_prediction\n",
    "    i+=1\n",
    "    \n"
   ]
  },
  {
   "cell_type": "code",
   "execution_count": 323,
   "metadata": {},
   "outputs": [
    {
     "data": {
      "text/plain": [
       "array([ 0.58270353,  0.30629265, -0.13955797,  0.03628556, -0.2149303 ,\n",
       "       -0.11002927, -0.2283311 ,  0.14948022, -0.26729292, -0.18283895])"
      ]
     },
     "execution_count": 323,
     "metadata": {},
     "output_type": "execute_result"
    }
   ],
   "source": [
    "predictions[170]"
   ]
  },
  {
   "cell_type": "code",
   "execution_count": 343,
   "metadata": {},
   "outputs": [
    {
     "data": {
      "text/plain": [
       "[[2],\n",
       " [1],\n",
       " [0],\n",
       " [0],\n",
       " [5],\n",
       " [5],\n",
       " [4],\n",
       " [5],\n",
       " [1],\n",
       " [8],\n",
       " [1],\n",
       " [0],\n",
       " [0],\n",
       " [3],\n",
       " [5],\n",
       " [5],\n",
       " [0],\n",
       " [3],\n",
       " [4],\n",
       " [3],\n",
       " [8],\n",
       " [4],\n",
       " [3],\n",
       " [2],\n",
       " [0],\n",
       " [3],\n",
       " [3],\n",
       " [0],\n",
       " [4],\n",
       " [2],\n",
       " [5],\n",
       " [3],\n",
       " [1],\n",
       " [4],\n",
       " [5],\n",
       " [5],\n",
       " [6],\n",
       " [7],\n",
       " [5],\n",
       " [2],\n",
       " [7],\n",
       " [5],\n",
       " [3],\n",
       " [5],\n",
       " [0],\n",
       " [0],\n",
       " [0],\n",
       " [5],\n",
       " [0],\n",
       " [3],\n",
       " [2],\n",
       " [0],\n",
       " [5],\n",
       " [0],\n",
       " [4],\n",
       " [5],\n",
       " [7],\n",
       " [2],\n",
       " [5],\n",
       " [5],\n",
       " [1],\n",
       " [7],\n",
       " [2],\n",
       " [2],\n",
       " [1],\n",
       " [2],\n",
       " [1],\n",
       " [4],\n",
       " [0],\n",
       " [0],\n",
       " [7],\n",
       " [1],\n",
       " [6],\n",
       " [1],\n",
       " [2],\n",
       " [4],\n",
       " [4],\n",
       " [1],\n",
       " [0],\n",
       " [6],\n",
       " [4],\n",
       " [0],\n",
       " [1],\n",
       " [3],\n",
       " [5],\n",
       " [4],\n",
       " [4],\n",
       " [4],\n",
       " [0],\n",
       " [4],\n",
       " [5],\n",
       " [5],\n",
       " [5],\n",
       " [5],\n",
       " [6],\n",
       " [5],\n",
       " [6],\n",
       " [4],\n",
       " [5],\n",
       " [7],\n",
       " [0],\n",
       " [0],\n",
       " [0],\n",
       " [0],\n",
       " [2],\n",
       " [2],\n",
       " [5],\n",
       " [2],\n",
       " [1],\n",
       " [4],\n",
       " [2],\n",
       " [0],\n",
       " [3],\n",
       " [4],\n",
       " [4],\n",
       " [3],\n",
       " [2],\n",
       " [3],\n",
       " [5],\n",
       " [4],\n",
       " [5],\n",
       " [8],\n",
       " [4],\n",
       " [0],\n",
       " [4],\n",
       " [0],\n",
       " [1],\n",
       " [1],\n",
       " [5],\n",
       " [5],\n",
       " [4],\n",
       " [5],\n",
       " [0],\n",
       " [3],\n",
       " [0],\n",
       " [1],\n",
       " [0],\n",
       " [0],\n",
       " [4],\n",
       " [0],\n",
       " [1],\n",
       " [0],\n",
       " [3],\n",
       " [1],\n",
       " [0],\n",
       " [3],\n",
       " [2],\n",
       " [4],\n",
       " [4],\n",
       " [1],\n",
       " [6],\n",
       " [5],\n",
       " [5],\n",
       " [1],\n",
       " [0],\n",
       " [5],\n",
       " [5],\n",
       " [9],\n",
       " [0],\n",
       " [6],\n",
       " [4],\n",
       " [1],\n",
       " [3],\n",
       " [4],\n",
       " [3],\n",
       " [4],\n",
       " [4],\n",
       " [3],\n",
       " [0],\n",
       " [5],\n",
       " [7],\n",
       " [5],\n",
       " [4],\n",
       " [2],\n",
       " [0],\n",
       " [0],\n",
       " [6],\n",
       " [0],\n",
       " [2],\n",
       " [0],\n",
       " [4],\n",
       " [0],\n",
       " [1],\n",
       " [1],\n",
       " [7],\n",
       " [2],\n",
       " [4],\n",
       " [5],\n",
       " [5],\n",
       " [0],\n",
       " [7],\n",
       " [1],\n",
       " [0],\n",
       " [0],\n",
       " [4],\n",
       " [1],\n",
       " [7],\n",
       " [4],\n",
       " [0],\n",
       " [2],\n",
       " [0],\n",
       " [5],\n",
       " [5],\n",
       " [7],\n",
       " [3],\n",
       " [5],\n",
       " [1],\n",
       " [7],\n",
       " [0],\n",
       " [1],\n",
       " [5],\n",
       " [5],\n",
       " [1],\n",
       " [2],\n",
       " [1],\n",
       " [1],\n",
       " [3],\n",
       " [5],\n",
       " [5],\n",
       " [5],\n",
       " [1],\n",
       " [7],\n",
       " [7],\n",
       " [5],\n",
       " [7],\n",
       " [5],\n",
       " [7],\n",
       " [7],\n",
       " [4],\n",
       " [7],\n",
       " [1],\n",
       " [1],\n",
       " [2],\n",
       " [7],\n",
       " [0],\n",
       " [3],\n",
       " [0],\n",
       " [5],\n",
       " [5],\n",
       " [4],\n",
       " [4],\n",
       " [0],\n",
       " [0],\n",
       " [7],\n",
       " [4],\n",
       " [0],\n",
       " [2],\n",
       " [1],\n",
       " [0],\n",
       " [4],\n",
       " [4],\n",
       " [1],\n",
       " [7],\n",
       " [4],\n",
       " [7],\n",
       " [4],\n",
       " [7],\n",
       " [7],\n",
       " [5],\n",
       " [8],\n",
       " [7],\n",
       " [2],\n",
       " [5],\n",
       " [0],\n",
       " [9],\n",
       " [7],\n",
       " [5],\n",
       " [7],\n",
       " [5],\n",
       " [7],\n",
       " [4],\n",
       " [5],\n",
       " [0],\n",
       " [5],\n",
       " [5],\n",
       " [2],\n",
       " [4],\n",
       " [5],\n",
       " [4],\n",
       " [3],\n",
       " [3],\n",
       " [5],\n",
       " [3],\n",
       " [5],\n",
       " [3],\n",
       " [7],\n",
       " [4],\n",
       " [5],\n",
       " [5],\n",
       " [2],\n",
       " [7],\n",
       " [3],\n",
       " [7],\n",
       " [8],\n",
       " [4],\n",
       " [2],\n",
       " [0],\n",
       " [5],\n",
       " [4],\n",
       " [1],\n",
       " [4],\n",
       " [0],\n",
       " [4],\n",
       " [0],\n",
       " [3],\n",
       " [3],\n",
       " [1],\n",
       " [5],\n",
       " [5],\n",
       " [7],\n",
       " [4],\n",
       " [4],\n",
       " [7],\n",
       " [7],\n",
       " [3],\n",
       " [4],\n",
       " [5],\n",
       " [7],\n",
       " [7],\n",
       " [7],\n",
       " [1],\n",
       " [4],\n",
       " [0],\n",
       " [1],\n",
       " [3],\n",
       " [4],\n",
       " [7],\n",
       " [0],\n",
       " [1],\n",
       " [7],\n",
       " [7],\n",
       " [4],\n",
       " [7],\n",
       " [0],\n",
       " [2],\n",
       " [7],\n",
       " [1],\n",
       " [5],\n",
       " [7],\n",
       " [3],\n",
       " [1],\n",
       " [4],\n",
       " [0],\n",
       " [6],\n",
       " [1],\n",
       " [4],\n",
       " [3],\n",
       " [5],\n",
       " [4],\n",
       " [3],\n",
       " [8],\n",
       " [1],\n",
       " [0],\n",
       " [2],\n",
       " [0],\n",
       " [7],\n",
       " [0],\n",
       " [2],\n",
       " [1],\n",
       " [4],\n",
       " [4],\n",
       " [2],\n",
       " [7],\n",
       " [1],\n",
       " [5],\n",
       " [1],\n",
       " [2],\n",
       " [5],\n",
       " [5],\n",
       " [2],\n",
       " [1],\n",
       " [7],\n",
       " [1],\n",
       " [5],\n",
       " [7],\n",
       " [0],\n",
       " [5],\n",
       " [1],\n",
       " [7],\n",
       " [7],\n",
       " [5],\n",
       " [1],\n",
       " [7],\n",
       " [7],\n",
       " [7],\n",
       " [1],\n",
       " [5],\n",
       " [5],\n",
       " [0],\n",
       " [0],\n",
       " [4],\n",
       " [0],\n",
       " [0],\n",
       " [8],\n",
       " [2],\n",
       " [4],\n",
       " [1],\n",
       " [3],\n",
       " [7],\n",
       " [7],\n",
       " [1],\n",
       " [1],\n",
       " [1],\n",
       " [2],\n",
       " [7],\n",
       " [7],\n",
       " [1],\n",
       " [5],\n",
       " [7],\n",
       " [5],\n",
       " [3],\n",
       " [4],\n",
       " [0],\n",
       " [3],\n",
       " [1],\n",
       " [7],\n",
       " [7],\n",
       " [3],\n",
       " [0],\n",
       " [0],\n",
       " [3],\n",
       " [4],\n",
       " [2],\n",
       " [3],\n",
       " [4],\n",
       " [7],\n",
       " [8],\n",
       " [3],\n",
       " [4],\n",
       " [2],\n",
       " [1],\n",
       " [7],\n",
       " [9],\n",
       " [7],\n",
       " [3],\n",
       " [7],\n",
       " [0],\n",
       " [1],\n",
       " [2],\n",
       " [2],\n",
       " [7],\n",
       " [2],\n",
       " [4],\n",
       " [7],\n",
       " [2],\n",
       " [2],\n",
       " [1],\n",
       " [1],\n",
       " [4],\n",
       " [1],\n",
       " [2],\n",
       " [4],\n",
       " [3],\n",
       " [2],\n",
       " [2],\n",
       " [3],\n",
       " [4],\n",
       " [2],\n",
       " [4],\n",
       " [2],\n",
       " [2],\n",
       " [3],\n",
       " [2],\n",
       " [5],\n",
       " [6],\n",
       " [2],\n",
       " [2],\n",
       " [3],\n",
       " [0],\n",
       " [5],\n",
       " [4],\n",
       " [2],\n",
       " [2],\n",
       " [0],\n",
       " [1],\n",
       " [5],\n",
       " [2],\n",
       " [0],\n",
       " [0],\n",
       " [2],\n",
       " [7],\n",
       " [2],\n",
       " [2],\n",
       " [4],\n",
       " [0],\n",
       " [4],\n",
       " [4],\n",
       " [4],\n",
       " [6],\n",
       " [0],\n",
       " [2],\n",
       " [7],\n",
       " [7],\n",
       " [4],\n",
       " [3],\n",
       " [0],\n",
       " [2],\n",
       " [4],\n",
       " [4],\n",
       " [5],\n",
       " [5],\n",
       " [5],\n",
       " [7],\n",
       " [5],\n",
       " [5],\n",
       " [4],\n",
       " [5],\n",
       " [3],\n",
       " [5],\n",
       " [7],\n",
       " [0],\n",
       " [7],\n",
       " [3],\n",
       " [2],\n",
       " [7],\n",
       " [0],\n",
       " [4],\n",
       " [4],\n",
       " [7],\n",
       " [4],\n",
       " [5],\n",
       " [4],\n",
       " [2],\n",
       " [7],\n",
       " [1],\n",
       " [2],\n",
       " [0],\n",
       " [1],\n",
       " [6],\n",
       " [1],\n",
       " [4],\n",
       " [2],\n",
       " [0],\n",
       " [5],\n",
       " [3],\n",
       " [7],\n",
       " [1],\n",
       " [5],\n",
       " [7],\n",
       " [0],\n",
       " [5],\n",
       " [7],\n",
       " [2],\n",
       " [4],\n",
       " [3],\n",
       " [5],\n",
       " [4],\n",
       " [7],\n",
       " [1],\n",
       " [7],\n",
       " [7],\n",
       " [7],\n",
       " [3],\n",
       " [3],\n",
       " [3],\n",
       " [7],\n",
       " [4],\n",
       " [3],\n",
       " [0],\n",
       " [5],\n",
       " [7],\n",
       " [7],\n",
       " [6],\n",
       " [1],\n",
       " [7],\n",
       " [4],\n",
       " [1],\n",
       " [4],\n",
       " [1],\n",
       " [6],\n",
       " [1],\n",
       " [1],\n",
       " [4],\n",
       " [3],\n",
       " [7],\n",
       " [0],\n",
       " [1],\n",
       " [3],\n",
       " [7],\n",
       " [7],\n",
       " [3],\n",
       " [5],\n",
       " [4],\n",
       " [4],\n",
       " [0],\n",
       " [8],\n",
       " [5],\n",
       " [2],\n",
       " [2],\n",
       " [0],\n",
       " [1],\n",
       " [4],\n",
       " [2],\n",
       " [4],\n",
       " [2],\n",
       " [2],\n",
       " [3],\n",
       " [4],\n",
       " [4],\n",
       " [4],\n",
       " [7],\n",
       " [5],\n",
       " [1],\n",
       " [1],\n",
       " [7],\n",
       " [3],\n",
       " [1],\n",
       " [8],\n",
       " [1],\n",
       " [4],\n",
       " [2],\n",
       " [0],\n",
       " [2],\n",
       " [5],\n",
       " [7],\n",
       " [3],\n",
       " [4],\n",
       " [8],\n",
       " [4],\n",
       " [1],\n",
       " [6],\n",
       " [7],\n",
       " [1],\n",
       " [1],\n",
       " [7],\n",
       " [0],\n",
       " [4],\n",
       " [1],\n",
       " [1],\n",
       " [1],\n",
       " [0],\n",
       " [7],\n",
       " [4],\n",
       " [1],\n",
       " [2],\n",
       " [2],\n",
       " [5],\n",
       " [7],\n",
       " [0],\n",
       " [0],\n",
       " [8],\n",
       " [7],\n",
       " [3],\n",
       " [1],\n",
       " [5],\n",
       " [6],\n",
       " [4],\n",
       " [4],\n",
       " [2],\n",
       " [7],\n",
       " [8],\n",
       " [0],\n",
       " [2],\n",
       " [5],\n",
       " [7],\n",
       " [4],\n",
       " [9],\n",
       " [4],\n",
       " [7],\n",
       " [0],\n",
       " [2],\n",
       " [3],\n",
       " [1],\n",
       " [3],\n",
       " [2],\n",
       " [7],\n",
       " [4],\n",
       " [2],\n",
       " [2],\n",
       " [5],\n",
       " [7],\n",
       " [7],\n",
       " [7],\n",
       " [3],\n",
       " [7],\n",
       " [7],\n",
       " [7],\n",
       " [7],\n",
       " [7],\n",
       " [5],\n",
       " [0],\n",
       " [3],\n",
       " [7],\n",
       " [3],\n",
       " [7],\n",
       " [4],\n",
       " [7],\n",
       " [0],\n",
       " [4],\n",
       " [5],\n",
       " [5],\n",
       " [4],\n",
       " [7],\n",
       " [1],\n",
       " [2],\n",
       " [7],\n",
       " [2],\n",
       " [5],\n",
       " [3],\n",
       " [7],\n",
       " [7],\n",
       " [7],\n",
       " [2],\n",
       " [1],\n",
       " [4],\n",
       " [3],\n",
       " [5],\n",
       " [0],\n",
       " [1],\n",
       " [5],\n",
       " [1],\n",
       " [4],\n",
       " [1],\n",
       " [3],\n",
       " [2],\n",
       " [1],\n",
       " [2],\n",
       " [0],\n",
       " [6],\n",
       " [2],\n",
       " [5],\n",
       " [3],\n",
       " [4],\n",
       " [4],\n",
       " [1],\n",
       " [0],\n",
       " [3],\n",
       " [0],\n",
       " [5],\n",
       " [8],\n",
       " [2],\n",
       " [4],\n",
       " [1],\n",
       " [0],\n",
       " [4],\n",
       " [6],\n",
       " [5],\n",
       " [4],\n",
       " [8],\n",
       " [4],\n",
       " [3],\n",
       " [5],\n",
       " [3],\n",
       " [2],\n",
       " [5],\n",
       " [4],\n",
       " [5],\n",
       " [8],\n",
       " [4],\n",
       " [3],\n",
       " [4],\n",
       " [3],\n",
       " [5],\n",
       " [3],\n",
       " [2],\n",
       " [3],\n",
       " [5],\n",
       " [1],\n",
       " [2],\n",
       " [0],\n",
       " [5],\n",
       " [2],\n",
       " [4],\n",
       " [5],\n",
       " [5],\n",
       " [1],\n",
       " [5],\n",
       " [2],\n",
       " [5],\n",
       " [7],\n",
       " [5],\n",
       " [0],\n",
       " [5],\n",
       " [8],\n",
       " [5],\n",
       " [3],\n",
       " [3],\n",
       " [9],\n",
       " [0],\n",
       " [1],\n",
       " [5],\n",
       " [5],\n",
       " [6],\n",
       " [0],\n",
       " [0],\n",
       " [2],\n",
       " [5],\n",
       " [3],\n",
       " [3],\n",
       " [5],\n",
       " [5],\n",
       " [7],\n",
       " [1],\n",
       " [6],\n",
       " [5],\n",
       " [5],\n",
       " [2],\n",
       " [4],\n",
       " [5],\n",
       " [5],\n",
       " [4],\n",
       " [2],\n",
       " [0],\n",
       " [0],\n",
       " [1],\n",
       " [4],\n",
       " [4],\n",
       " [1],\n",
       " [0],\n",
       " [4],\n",
       " [3],\n",
       " [3],\n",
       " [0],\n",
       " [4],\n",
       " [5],\n",
       " [3],\n",
       " [4],\n",
       " [2],\n",
       " [5],\n",
       " [8],\n",
       " [0],\n",
       " [7],\n",
       " [1],\n",
       " [5],\n",
       " [4],\n",
       " [6]]"
      ]
     },
     "execution_count": 343,
     "metadata": {},
     "output_type": "execute_result"
    }
   ],
   "source": [
    "pred = np.argmax(predictions,axis = 1)\n",
    "pred_list = []\n",
    "for i in range(len(pred)):\n",
    "    result = [pred[i]]\n",
    "    pred_list.append(result)\n",
    "pred_list\n",
    "\n"
   ]
  },
  {
   "cell_type": "code",
   "execution_count": 344,
   "metadata": {},
   "outputs": [
    {
     "data": {
      "text/html": [
       "<div>\n",
       "<style scoped>\n",
       "    .dataframe tbody tr th:only-of-type {\n",
       "        vertical-align: middle;\n",
       "    }\n",
       "\n",
       "    .dataframe tbody tr th {\n",
       "        vertical-align: top;\n",
       "    }\n",
       "\n",
       "    .dataframe thead th {\n",
       "        text-align: right;\n",
       "    }\n",
       "</style>\n",
       "<table border=\"1\" class=\"dataframe\">\n",
       "  <thead>\n",
       "    <tr style=\"text-align: right;\">\n",
       "      <th></th>\n",
       "      <th>image_id</th>\n",
       "      <th>class_id</th>\n",
       "    </tr>\n",
       "  </thead>\n",
       "  <tbody>\n",
       "    <tr>\n",
       "      <th>0</th>\n",
       "      <td>EO_100578</td>\n",
       "      <td>2</td>\n",
       "    </tr>\n",
       "    <tr>\n",
       "      <th>1</th>\n",
       "      <td>EO_10079</td>\n",
       "      <td>1</td>\n",
       "    </tr>\n",
       "    <tr>\n",
       "      <th>2</th>\n",
       "      <td>EO_102385</td>\n",
       "      <td>0</td>\n",
       "    </tr>\n",
       "    <tr>\n",
       "      <th>3</th>\n",
       "      <td>EO_10264</td>\n",
       "      <td>0</td>\n",
       "    </tr>\n",
       "    <tr>\n",
       "      <th>4</th>\n",
       "      <td>EO_103494</td>\n",
       "      <td>5</td>\n",
       "    </tr>\n",
       "    <tr>\n",
       "      <th>...</th>\n",
       "      <td>...</td>\n",
       "      <td>...</td>\n",
       "    </tr>\n",
       "    <tr>\n",
       "      <th>821</th>\n",
       "      <td>EO_93885</td>\n",
       "      <td>7</td>\n",
       "    </tr>\n",
       "    <tr>\n",
       "      <th>822</th>\n",
       "      <td>EO_95890</td>\n",
       "      <td>1</td>\n",
       "    </tr>\n",
       "    <tr>\n",
       "      <th>823</th>\n",
       "      <td>EO_96662</td>\n",
       "      <td>5</td>\n",
       "    </tr>\n",
       "    <tr>\n",
       "      <th>824</th>\n",
       "      <td>EO_97302</td>\n",
       "      <td>4</td>\n",
       "    </tr>\n",
       "    <tr>\n",
       "      <th>825</th>\n",
       "      <td>EO_99431</td>\n",
       "      <td>6</td>\n",
       "    </tr>\n",
       "  </tbody>\n",
       "</table>\n",
       "<p>826 rows × 2 columns</p>\n",
       "</div>"
      ],
      "text/plain": [
       "      image_id class_id\n",
       "0    EO_100578        2\n",
       "1     EO_10079        1\n",
       "2    EO_102385        0\n",
       "3     EO_10264        0\n",
       "4    EO_103494        5\n",
       "..         ...      ...\n",
       "821   EO_93885        7\n",
       "822   EO_95890        1\n",
       "823   EO_96662        5\n",
       "824   EO_97302        4\n",
       "825   EO_99431        6\n",
       "\n",
       "[826 rows x 2 columns]"
      ]
     },
     "execution_count": 344,
     "metadata": {},
     "output_type": "execute_result"
    }
   ],
   "source": [
    "predicted_class_idx = pred_list\n",
    "\n",
    "test_df['class_id'] = predicted_class_idx\n",
    "test_df['class_id'] = test_df['class_id'].apply(lambda x : ' '.join(map(str,list(x))))\n",
    "test_df = test_df.rename(columns={0: 'image_id'})\n",
    "test_df['image_id'] = test_df['image_id'].apply(lambda x : x.split('.')[0])\n",
    "test_df\n"
   ]
  },
  {
   "cell_type": "code",
   "execution_count": 345,
   "metadata": {},
   "outputs": [],
   "source": [
    "for (idx, row) in test_df.iterrows():\n",
    "    row.image_id = row.image_id.split(\"_\")[1]\n"
   ]
  },
  {
   "cell_type": "code",
   "execution_count": 346,
   "metadata": {},
   "outputs": [
    {
     "name": "stdout",
     "output_type": "stream",
     "text": [
      "113\n",
      "103\n",
      "95\n",
      "85\n",
      "132\n",
      "135\n",
      "21\n",
      "119\n",
      "18\n",
      "5\n"
     ]
    }
   ],
   "source": [
    "for k in range(10):\n",
    "    i = 0\n",
    "    for (idx, row) in test_df.iterrows():\n",
    "        if row.class_id == str(k):\n",
    "            i+=1\n",
    "    print(i)"
   ]
  },
  {
   "cell_type": "code",
   "execution_count": 295,
   "metadata": {},
   "outputs": [
    {
     "data": {
      "text/html": [
       "<div>\n",
       "<style scoped>\n",
       "    .dataframe tbody tr th:only-of-type {\n",
       "        vertical-align: middle;\n",
       "    }\n",
       "\n",
       "    .dataframe tbody tr th {\n",
       "        vertical-align: top;\n",
       "    }\n",
       "\n",
       "    .dataframe thead th {\n",
       "        text-align: right;\n",
       "    }\n",
       "</style>\n",
       "<table border=\"1\" class=\"dataframe\">\n",
       "  <thead>\n",
       "    <tr style=\"text-align: right;\">\n",
       "      <th></th>\n",
       "      <th>image_id</th>\n",
       "      <th>class_id</th>\n",
       "    </tr>\n",
       "  </thead>\n",
       "  <tbody>\n",
       "    <tr>\n",
       "      <th>0</th>\n",
       "      <td>100578</td>\n",
       "      <td>2</td>\n",
       "    </tr>\n",
       "    <tr>\n",
       "      <th>1</th>\n",
       "      <td>10079</td>\n",
       "      <td>1</td>\n",
       "    </tr>\n",
       "    <tr>\n",
       "      <th>2</th>\n",
       "      <td>102385</td>\n",
       "      <td>0</td>\n",
       "    </tr>\n",
       "    <tr>\n",
       "      <th>3</th>\n",
       "      <td>10264</td>\n",
       "      <td>0</td>\n",
       "    </tr>\n",
       "    <tr>\n",
       "      <th>4</th>\n",
       "      <td>103494</td>\n",
       "      <td>5</td>\n",
       "    </tr>\n",
       "    <tr>\n",
       "      <th>...</th>\n",
       "      <td>...</td>\n",
       "      <td>...</td>\n",
       "    </tr>\n",
       "    <tr>\n",
       "      <th>821</th>\n",
       "      <td>93885</td>\n",
       "      <td>7</td>\n",
       "    </tr>\n",
       "    <tr>\n",
       "      <th>822</th>\n",
       "      <td>95890</td>\n",
       "      <td>1</td>\n",
       "    </tr>\n",
       "    <tr>\n",
       "      <th>823</th>\n",
       "      <td>96662</td>\n",
       "      <td>5</td>\n",
       "    </tr>\n",
       "    <tr>\n",
       "      <th>824</th>\n",
       "      <td>97302</td>\n",
       "      <td>4</td>\n",
       "    </tr>\n",
       "    <tr>\n",
       "      <th>825</th>\n",
       "      <td>99431</td>\n",
       "      <td>6</td>\n",
       "    </tr>\n",
       "  </tbody>\n",
       "</table>\n",
       "<p>826 rows × 2 columns</p>\n",
       "</div>"
      ],
      "text/plain": [
       "    image_id class_id\n",
       "0     100578        2\n",
       "1      10079        1\n",
       "2     102385        0\n",
       "3      10264        0\n",
       "4     103494        5\n",
       "..       ...      ...\n",
       "821    93885        7\n",
       "822    95890        1\n",
       "823    96662        5\n",
       "824    97302        4\n",
       "825    99431        6\n",
       "\n",
       "[826 rows x 2 columns]"
      ]
     },
     "execution_count": 295,
     "metadata": {},
     "output_type": "execute_result"
    }
   ],
   "source": [
    "test_df"
   ]
  },
  {
   "cell_type": "code",
   "execution_count": 296,
   "metadata": {},
   "outputs": [],
   "source": [
    "test_df.to_csv('results.csv',index = False)"
   ]
  },
  {
   "cell_type": "code",
   "execution_count": null,
   "metadata": {},
   "outputs": [],
   "source": []
  }
 ],
 "metadata": {
  "kernelspec": {
   "display_name": "Python 3",
   "language": "python",
   "name": "python3"
  },
  "language_info": {
   "codemirror_mode": {
    "name": "ipython",
    "version": 3
   },
   "file_extension": ".py",
   "mimetype": "text/x-python",
   "name": "python",
   "nbconvert_exporter": "python",
   "pygments_lexer": "ipython3",
   "version": "3.8.5"
  }
 },
 "nbformat": 4,
 "nbformat_minor": 4
}
